{
  "nbformat": 4,
  "nbformat_minor": 0,
  "metadata": {
    "colab": {
      "name": "NivelEducativo_1.ipynb",
      "provenance": [],
      "collapsed_sections": [
        "eK3zvBXZbFIP",
        "GLyobqoIbw1m",
        "oeov5UZShb-v",
        "zEJGy00ehfdN"
      ],
      "authorship_tag": "ABX9TyNObwgiCFXsg3eBz3N4l6jh",
      "include_colab_link": true
    },
    "kernelspec": {
      "name": "python3",
      "display_name": "Python 3"
    },
    "language_info": {
      "name": "python"
    }
  },
  "cells": [
    {
      "cell_type": "markdown",
      "metadata": {
        "id": "view-in-github",
        "colab_type": "text"
      },
      "source": [
        "<a href=\"https://colab.research.google.com/github/Hevej/Machine-Learning/blob/main/Nivel_Educativo/NivelEducativo_1.ipynb\" target=\"_parent\"><img src=\"https://colab.research.google.com/assets/colab-badge.svg\" alt=\"Open In Colab\"/></a>"
      ]
    },
    {
      "cell_type": "markdown",
      "source": [
        "# Conexión con Drive\n",
        "Para poder acceder a nuestra unidad en la nube y guardar o leer archivos desde alli.\n",
        "Tener cuidado al leer directamente, puede generar problemas. Se recomienda leer desde .zip y descomprimir en la sesión, mas no leer directamente.\n",
        "\n",
        "Se puede extraer información en local mediante el comando en consola:\n",
        "\n",
        "\n",
        "```\n",
        "!unzip -qq \"/content/Train.zip\"\n",
        "```\n",
        "\n",
        "En donde \"Train.zip\" sera nuestro archivo"
      ],
      "metadata": {
        "id": "eK3zvBXZbFIP"
      }
    },
    {
      "cell_type": "code",
      "execution_count": null,
      "metadata": {
        "colab": {
          "base_uri": "https://localhost:8080/"
        },
        "id": "wsgVaFzlRPwi",
        "outputId": "3cbcdbdd-f851-41b5-db54-64fc6634d21a"
      },
      "outputs": [
        {
          "output_type": "stream",
          "name": "stdout",
          "text": [
            "Mounted at /content/drive\n"
          ]
        }
      ],
      "source": [
        "from google.colab import drive\n",
        "drive.mount('/content/drive')"
      ]
    },
    {
      "cell_type": "markdown",
      "source": [
        "# Importar la librerias\n",
        "- Pandas : Exploración y manipulación de datos\n"
      ],
      "metadata": {
        "id": "GLyobqoIbw1m"
      }
    },
    {
      "cell_type": "code",
      "source": [
        "import pandas as pd"
      ],
      "metadata": {
        "id": "hEOPfZd_2Q21"
      },
      "execution_count": null,
      "outputs": []
    },
    {
      "cell_type": "markdown",
      "source": [
        "#Leer el dataset"
      ],
      "metadata": {
        "id": "oeov5UZShb-v"
      }
    },
    {
      "cell_type": "markdown",
      "source": [
        "En este caso, al ser archivos no tan pesados, podemos leer directamente del drive, para esto, primero guardamos la ruta del archivo en el drive para cada base de datos."
      ],
      "metadata": {
        "id": "S58bhaTwc6mM"
      }
    },
    {
      "cell_type": "code",
      "source": [
        "FOLDER_PATH = '/content/drive/MyDrive/SisbenColombia'\n",
        "HOGAR = '/content/drive/MyDrive/SisbenColombia/sisben_hog_siv_2021.sas7bdat'\n",
        "PERSONA = '/content/drive/MyDrive/SisbenColombia/sisben_pers_siv_2021.sas7bdat'\n",
        "VIVIENDA = '/content/drive/MyDrive/SisbenColombia/sisben_viv_siv_2021.sas7bdat'"
      ],
      "metadata": {
        "id": "6f0Nfjkv10n2"
      },
      "execution_count": null,
      "outputs": []
    },
    {
      "cell_type": "markdown",
      "source": [
        "La parte esencial de Pandas es el DataFrame, es como guardar la información en forma de tablas, parecido a Excel o a SQL. Accedemos a las bases de datos con Pandas y la libreria las guardara como un Dataframe."
      ],
      "metadata": {
        "id": "Oy0IHBUud2gM"
      }
    },
    {
      "cell_type": "code",
      "source": [
        "dataHogar = pd.read_sas(HOGAR)\n",
        "dataPersona = pd.read_sas(PERSONA)\n",
        "dataVivienda =pd.read_sas(VIVIENDA)"
      ],
      "metadata": {
        "id": "yQLKqFCc2Jgx"
      },
      "execution_count": null,
      "outputs": []
    },
    {
      "cell_type": "markdown",
      "source": [
        "# Exploración Inicial"
      ],
      "metadata": {
        "id": "zEJGy00ehfdN"
      }
    },
    {
      "cell_type": "markdown",
      "source": [
        "Una vez en la forma de DataFrame, podemos hacer una exploración inicial."
      ],
      "metadata": {
        "id": "z7oqMkJWeWQ0"
      }
    },
    {
      "cell_type": "code",
      "source": [
        "#Para este caso no tiene mucho sentido obtener estos estadisticos, debido a que hay datos de todas las naturalezas, numericos y categoricos.\n",
        "dataHogar.describe()"
      ],
      "metadata": {
        "colab": {
          "base_uri": "https://localhost:8080/"
        },
        "id": "k1HNe46GedRd",
        "outputId": "4e78e476-36f5-483b-c4de-a0132f2ce02d"
      },
      "execution_count": null,
      "outputs": [
        {
          "output_type": "execute_result",
          "data": {
            "text/plain": [
              "           cod_mpio          ZONA         llave         HOGAR           FEX  \\\n",
              "count  1.341695e+06  1.341695e+06  1.341695e+06  1.341695e+06  1.341695e+06   \n",
              "mean   3.848666e+04  1.518041e+00  6.100421e+02  1.199688e+00  6.466546e+00   \n",
              "std    2.529996e+04  4.996746e-01  4.275133e+02  5.633826e-01  4.153483e+01   \n",
              "min    5.001000e+03  1.000000e+00  1.000000e+00  1.000000e+00  1.034483e+00   \n",
              "25%    1.584200e+04  1.000000e+00  2.670000e+02  1.000000e+00  1.927500e+00   \n",
              "50%    2.709900e+04  2.000000e+00  5.420000e+02  1.000000e+00  2.844584e+00   \n",
              "75%    5.482000e+04  2.000000e+00  8.760000e+02  1.000000e+00  4.655072e+00   \n",
              "max    9.977300e+04  2.000000e+00  3.057000e+03  1.500000e+01  1.747659e+03   \n",
              "\n",
              "             HOG001        HOG002        HOG003        HOG004        HOG005  \\\n",
              "count  1.341695e+06  1.341695e+06  1.341695e+06  1.341695e+06  1.341695e+06   \n",
              "mean   3.043348e+00  2.055433e+00  1.511786e+00  1.988448e+00  1.844325e+00   \n",
              "std    1.196062e+00  1.188913e+00  8.427762e-01  1.155367e+00  1.988089e+00   \n",
              "min    1.000000e+00  0.000000e+00  0.000000e+00  1.000000e+00  1.000000e+00   \n",
              "25%    3.000000e+00  1.000000e+00  1.000000e+00  1.000000e+00  1.000000e+00   \n",
              "50%    3.000000e+00  2.000000e+00  1.000000e+00  2.000000e+00  1.000000e+00   \n",
              "75%    4.000000e+00  3.000000e+00  2.000000e+00  2.000000e+00  2.000000e+00   \n",
              "max    5.000000e+00  1.500000e+01  1.500000e+01  5.000000e+00  9.000000e+00   \n",
              "\n",
              "       ...        HOG018        HOG019        HOG020        HOG021  \\\n",
              "count  ...  1.341695e+06  1.341695e+06  1.341695e+06  1.341695e+06   \n",
              "mean   ...  1.568285e+00  1.824273e+00  1.951992e+00  1.858401e+00   \n",
              "std    ...  4.953154e-01  3.805878e-01  2.137831e-01  3.486380e-01   \n",
              "min    ...  1.000000e+00  1.000000e+00  1.000000e+00  1.000000e+00   \n",
              "25%    ...  1.000000e+00  2.000000e+00  2.000000e+00  2.000000e+00   \n",
              "50%    ...  2.000000e+00  2.000000e+00  2.000000e+00  2.000000e+00   \n",
              "75%    ...  2.000000e+00  2.000000e+00  2.000000e+00  2.000000e+00   \n",
              "max    ...  2.000000e+00  2.000000e+00  2.000000e+00  2.000000e+00   \n",
              "\n",
              "             HOG022        HOG023        HOG024        HOG025        HOG026  \\\n",
              "count  1.341695e+06  1.341695e+06  1.341695e+06  1.341695e+06  1.341695e+06   \n",
              "mean   1.959153e+00  1.992837e+00  1.992194e+00  1.900339e+00  1.954104e+00   \n",
              "std    1.979354e-01  8.433279e-02  8.800496e-02  2.995479e-01  2.092605e-01   \n",
              "min    1.000000e+00  1.000000e+00  1.000000e+00  1.000000e+00  1.000000e+00   \n",
              "25%    2.000000e+00  2.000000e+00  2.000000e+00  2.000000e+00  2.000000e+00   \n",
              "50%    2.000000e+00  2.000000e+00  2.000000e+00  2.000000e+00  2.000000e+00   \n",
              "75%    2.000000e+00  2.000000e+00  2.000000e+00  2.000000e+00  2.000000e+00   \n",
              "max    2.000000e+00  2.000000e+00  2.000000e+00  2.000000e+00  2.000000e+00   \n",
              "\n",
              "             HOG027  \n",
              "count  1.341695e+06  \n",
              "mean   2.762403e+00  \n",
              "std    1.577284e+00  \n",
              "min    1.000000e+00  \n",
              "25%    1.000000e+00  \n",
              "50%    3.000000e+00  \n",
              "75%    4.000000e+00  \n",
              "max    1.900000e+01  \n",
              "\n",
              "[8 rows x 32 columns]"
            ],
            "text/html": [
              "\n",
              "  <div id=\"df-e54f5321-d2c6-4a0e-8b5c-b1ba41e9f08a\">\n",
              "    <div class=\"colab-df-container\">\n",
              "      <div>\n",
              "<style scoped>\n",
              "    .dataframe tbody tr th:only-of-type {\n",
              "        vertical-align: middle;\n",
              "    }\n",
              "\n",
              "    .dataframe tbody tr th {\n",
              "        vertical-align: top;\n",
              "    }\n",
              "\n",
              "    .dataframe thead th {\n",
              "        text-align: right;\n",
              "    }\n",
              "</style>\n",
              "<table border=\"1\" class=\"dataframe\">\n",
              "  <thead>\n",
              "    <tr style=\"text-align: right;\">\n",
              "      <th></th>\n",
              "      <th>cod_mpio</th>\n",
              "      <th>ZONA</th>\n",
              "      <th>llave</th>\n",
              "      <th>HOGAR</th>\n",
              "      <th>FEX</th>\n",
              "      <th>HOG001</th>\n",
              "      <th>HOG002</th>\n",
              "      <th>HOG003</th>\n",
              "      <th>HOG004</th>\n",
              "      <th>HOG005</th>\n",
              "      <th>...</th>\n",
              "      <th>HOG018</th>\n",
              "      <th>HOG019</th>\n",
              "      <th>HOG020</th>\n",
              "      <th>HOG021</th>\n",
              "      <th>HOG022</th>\n",
              "      <th>HOG023</th>\n",
              "      <th>HOG024</th>\n",
              "      <th>HOG025</th>\n",
              "      <th>HOG026</th>\n",
              "      <th>HOG027</th>\n",
              "    </tr>\n",
              "  </thead>\n",
              "  <tbody>\n",
              "    <tr>\n",
              "      <th>count</th>\n",
              "      <td>1.341695e+06</td>\n",
              "      <td>1.341695e+06</td>\n",
              "      <td>1.341695e+06</td>\n",
              "      <td>1.341695e+06</td>\n",
              "      <td>1.341695e+06</td>\n",
              "      <td>1.341695e+06</td>\n",
              "      <td>1.341695e+06</td>\n",
              "      <td>1.341695e+06</td>\n",
              "      <td>1.341695e+06</td>\n",
              "      <td>1.341695e+06</td>\n",
              "      <td>...</td>\n",
              "      <td>1.341695e+06</td>\n",
              "      <td>1.341695e+06</td>\n",
              "      <td>1.341695e+06</td>\n",
              "      <td>1.341695e+06</td>\n",
              "      <td>1.341695e+06</td>\n",
              "      <td>1.341695e+06</td>\n",
              "      <td>1.341695e+06</td>\n",
              "      <td>1.341695e+06</td>\n",
              "      <td>1.341695e+06</td>\n",
              "      <td>1.341695e+06</td>\n",
              "    </tr>\n",
              "    <tr>\n",
              "      <th>mean</th>\n",
              "      <td>3.848666e+04</td>\n",
              "      <td>1.518041e+00</td>\n",
              "      <td>6.100421e+02</td>\n",
              "      <td>1.199688e+00</td>\n",
              "      <td>6.466546e+00</td>\n",
              "      <td>3.043348e+00</td>\n",
              "      <td>2.055433e+00</td>\n",
              "      <td>1.511786e+00</td>\n",
              "      <td>1.988448e+00</td>\n",
              "      <td>1.844325e+00</td>\n",
              "      <td>...</td>\n",
              "      <td>1.568285e+00</td>\n",
              "      <td>1.824273e+00</td>\n",
              "      <td>1.951992e+00</td>\n",
              "      <td>1.858401e+00</td>\n",
              "      <td>1.959153e+00</td>\n",
              "      <td>1.992837e+00</td>\n",
              "      <td>1.992194e+00</td>\n",
              "      <td>1.900339e+00</td>\n",
              "      <td>1.954104e+00</td>\n",
              "      <td>2.762403e+00</td>\n",
              "    </tr>\n",
              "    <tr>\n",
              "      <th>std</th>\n",
              "      <td>2.529996e+04</td>\n",
              "      <td>4.996746e-01</td>\n",
              "      <td>4.275133e+02</td>\n",
              "      <td>5.633826e-01</td>\n",
              "      <td>4.153483e+01</td>\n",
              "      <td>1.196062e+00</td>\n",
              "      <td>1.188913e+00</td>\n",
              "      <td>8.427762e-01</td>\n",
              "      <td>1.155367e+00</td>\n",
              "      <td>1.988089e+00</td>\n",
              "      <td>...</td>\n",
              "      <td>4.953154e-01</td>\n",
              "      <td>3.805878e-01</td>\n",
              "      <td>2.137831e-01</td>\n",
              "      <td>3.486380e-01</td>\n",
              "      <td>1.979354e-01</td>\n",
              "      <td>8.433279e-02</td>\n",
              "      <td>8.800496e-02</td>\n",
              "      <td>2.995479e-01</td>\n",
              "      <td>2.092605e-01</td>\n",
              "      <td>1.577284e+00</td>\n",
              "    </tr>\n",
              "    <tr>\n",
              "      <th>min</th>\n",
              "      <td>5.001000e+03</td>\n",
              "      <td>1.000000e+00</td>\n",
              "      <td>1.000000e+00</td>\n",
              "      <td>1.000000e+00</td>\n",
              "      <td>1.034483e+00</td>\n",
              "      <td>1.000000e+00</td>\n",
              "      <td>0.000000e+00</td>\n",
              "      <td>0.000000e+00</td>\n",
              "      <td>1.000000e+00</td>\n",
              "      <td>1.000000e+00</td>\n",
              "      <td>...</td>\n",
              "      <td>1.000000e+00</td>\n",
              "      <td>1.000000e+00</td>\n",
              "      <td>1.000000e+00</td>\n",
              "      <td>1.000000e+00</td>\n",
              "      <td>1.000000e+00</td>\n",
              "      <td>1.000000e+00</td>\n",
              "      <td>1.000000e+00</td>\n",
              "      <td>1.000000e+00</td>\n",
              "      <td>1.000000e+00</td>\n",
              "      <td>1.000000e+00</td>\n",
              "    </tr>\n",
              "    <tr>\n",
              "      <th>25%</th>\n",
              "      <td>1.584200e+04</td>\n",
              "      <td>1.000000e+00</td>\n",
              "      <td>2.670000e+02</td>\n",
              "      <td>1.000000e+00</td>\n",
              "      <td>1.927500e+00</td>\n",
              "      <td>3.000000e+00</td>\n",
              "      <td>1.000000e+00</td>\n",
              "      <td>1.000000e+00</td>\n",
              "      <td>1.000000e+00</td>\n",
              "      <td>1.000000e+00</td>\n",
              "      <td>...</td>\n",
              "      <td>1.000000e+00</td>\n",
              "      <td>2.000000e+00</td>\n",
              "      <td>2.000000e+00</td>\n",
              "      <td>2.000000e+00</td>\n",
              "      <td>2.000000e+00</td>\n",
              "      <td>2.000000e+00</td>\n",
              "      <td>2.000000e+00</td>\n",
              "      <td>2.000000e+00</td>\n",
              "      <td>2.000000e+00</td>\n",
              "      <td>1.000000e+00</td>\n",
              "    </tr>\n",
              "    <tr>\n",
              "      <th>50%</th>\n",
              "      <td>2.709900e+04</td>\n",
              "      <td>2.000000e+00</td>\n",
              "      <td>5.420000e+02</td>\n",
              "      <td>1.000000e+00</td>\n",
              "      <td>2.844584e+00</td>\n",
              "      <td>3.000000e+00</td>\n",
              "      <td>2.000000e+00</td>\n",
              "      <td>1.000000e+00</td>\n",
              "      <td>2.000000e+00</td>\n",
              "      <td>1.000000e+00</td>\n",
              "      <td>...</td>\n",
              "      <td>2.000000e+00</td>\n",
              "      <td>2.000000e+00</td>\n",
              "      <td>2.000000e+00</td>\n",
              "      <td>2.000000e+00</td>\n",
              "      <td>2.000000e+00</td>\n",
              "      <td>2.000000e+00</td>\n",
              "      <td>2.000000e+00</td>\n",
              "      <td>2.000000e+00</td>\n",
              "      <td>2.000000e+00</td>\n",
              "      <td>3.000000e+00</td>\n",
              "    </tr>\n",
              "    <tr>\n",
              "      <th>75%</th>\n",
              "      <td>5.482000e+04</td>\n",
              "      <td>2.000000e+00</td>\n",
              "      <td>8.760000e+02</td>\n",
              "      <td>1.000000e+00</td>\n",
              "      <td>4.655072e+00</td>\n",
              "      <td>4.000000e+00</td>\n",
              "      <td>3.000000e+00</td>\n",
              "      <td>2.000000e+00</td>\n",
              "      <td>2.000000e+00</td>\n",
              "      <td>2.000000e+00</td>\n",
              "      <td>...</td>\n",
              "      <td>2.000000e+00</td>\n",
              "      <td>2.000000e+00</td>\n",
              "      <td>2.000000e+00</td>\n",
              "      <td>2.000000e+00</td>\n",
              "      <td>2.000000e+00</td>\n",
              "      <td>2.000000e+00</td>\n",
              "      <td>2.000000e+00</td>\n",
              "      <td>2.000000e+00</td>\n",
              "      <td>2.000000e+00</td>\n",
              "      <td>4.000000e+00</td>\n",
              "    </tr>\n",
              "    <tr>\n",
              "      <th>max</th>\n",
              "      <td>9.977300e+04</td>\n",
              "      <td>2.000000e+00</td>\n",
              "      <td>3.057000e+03</td>\n",
              "      <td>1.500000e+01</td>\n",
              "      <td>1.747659e+03</td>\n",
              "      <td>5.000000e+00</td>\n",
              "      <td>1.500000e+01</td>\n",
              "      <td>1.500000e+01</td>\n",
              "      <td>5.000000e+00</td>\n",
              "      <td>9.000000e+00</td>\n",
              "      <td>...</td>\n",
              "      <td>2.000000e+00</td>\n",
              "      <td>2.000000e+00</td>\n",
              "      <td>2.000000e+00</td>\n",
              "      <td>2.000000e+00</td>\n",
              "      <td>2.000000e+00</td>\n",
              "      <td>2.000000e+00</td>\n",
              "      <td>2.000000e+00</td>\n",
              "      <td>2.000000e+00</td>\n",
              "      <td>2.000000e+00</td>\n",
              "      <td>1.900000e+01</td>\n",
              "    </tr>\n",
              "  </tbody>\n",
              "</table>\n",
              "<p>8 rows × 32 columns</p>\n",
              "</div>\n",
              "      <button class=\"colab-df-convert\" onclick=\"convertToInteractive('df-e54f5321-d2c6-4a0e-8b5c-b1ba41e9f08a')\"\n",
              "              title=\"Convert this dataframe to an interactive table.\"\n",
              "              style=\"display:none;\">\n",
              "        \n",
              "  <svg xmlns=\"http://www.w3.org/2000/svg\" height=\"24px\"viewBox=\"0 0 24 24\"\n",
              "       width=\"24px\">\n",
              "    <path d=\"M0 0h24v24H0V0z\" fill=\"none\"/>\n",
              "    <path d=\"M18.56 5.44l.94 2.06.94-2.06 2.06-.94-2.06-.94-.94-2.06-.94 2.06-2.06.94zm-11 1L8.5 8.5l.94-2.06 2.06-.94-2.06-.94L8.5 2.5l-.94 2.06-2.06.94zm10 10l.94 2.06.94-2.06 2.06-.94-2.06-.94-.94-2.06-.94 2.06-2.06.94z\"/><path d=\"M17.41 7.96l-1.37-1.37c-.4-.4-.92-.59-1.43-.59-.52 0-1.04.2-1.43.59L10.3 9.45l-7.72 7.72c-.78.78-.78 2.05 0 2.83L4 21.41c.39.39.9.59 1.41.59.51 0 1.02-.2 1.41-.59l7.78-7.78 2.81-2.81c.8-.78.8-2.07 0-2.86zM5.41 20L4 18.59l7.72-7.72 1.47 1.35L5.41 20z\"/>\n",
              "  </svg>\n",
              "      </button>\n",
              "      \n",
              "  <style>\n",
              "    .colab-df-container {\n",
              "      display:flex;\n",
              "      flex-wrap:wrap;\n",
              "      gap: 12px;\n",
              "    }\n",
              "\n",
              "    .colab-df-convert {\n",
              "      background-color: #E8F0FE;\n",
              "      border: none;\n",
              "      border-radius: 50%;\n",
              "      cursor: pointer;\n",
              "      display: none;\n",
              "      fill: #1967D2;\n",
              "      height: 32px;\n",
              "      padding: 0 0 0 0;\n",
              "      width: 32px;\n",
              "    }\n",
              "\n",
              "    .colab-df-convert:hover {\n",
              "      background-color: #E2EBFA;\n",
              "      box-shadow: 0px 1px 2px rgba(60, 64, 67, 0.3), 0px 1px 3px 1px rgba(60, 64, 67, 0.15);\n",
              "      fill: #174EA6;\n",
              "    }\n",
              "\n",
              "    [theme=dark] .colab-df-convert {\n",
              "      background-color: #3B4455;\n",
              "      fill: #D2E3FC;\n",
              "    }\n",
              "\n",
              "    [theme=dark] .colab-df-convert:hover {\n",
              "      background-color: #434B5C;\n",
              "      box-shadow: 0px 1px 3px 1px rgba(0, 0, 0, 0.15);\n",
              "      filter: drop-shadow(0px 1px 2px rgba(0, 0, 0, 0.3));\n",
              "      fill: #FFFFFF;\n",
              "    }\n",
              "  </style>\n",
              "\n",
              "      <script>\n",
              "        const buttonEl =\n",
              "          document.querySelector('#df-e54f5321-d2c6-4a0e-8b5c-b1ba41e9f08a button.colab-df-convert');\n",
              "        buttonEl.style.display =\n",
              "          google.colab.kernel.accessAllowed ? 'block' : 'none';\n",
              "\n",
              "        async function convertToInteractive(key) {\n",
              "          const element = document.querySelector('#df-e54f5321-d2c6-4a0e-8b5c-b1ba41e9f08a');\n",
              "          const dataTable =\n",
              "            await google.colab.kernel.invokeFunction('convertToInteractive',\n",
              "                                                     [key], {});\n",
              "          if (!dataTable) return;\n",
              "\n",
              "          const docLinkHtml = 'Like what you see? Visit the ' +\n",
              "            '<a target=\"_blank\" href=https://colab.research.google.com/notebooks/data_table.ipynb>data table notebook</a>'\n",
              "            + ' to learn more about interactive tables.';\n",
              "          element.innerHTML = '';\n",
              "          dataTable['output_type'] = 'display_data';\n",
              "          await google.colab.output.renderOutput(dataTable, element);\n",
              "          const docLink = document.createElement('div');\n",
              "          docLink.innerHTML = docLinkHtml;\n",
              "          element.appendChild(docLink);\n",
              "        }\n",
              "      </script>\n",
              "    </div>\n",
              "  </div>\n",
              "  "
            ]
          },
          "metadata": {},
          "execution_count": 5
        }
      ]
    },
    {
      "cell_type": "markdown",
      "source": [
        "Se generan otras exploraciones previas que entreguen mas información"
      ],
      "metadata": {
        "id": "O_lc4oVUe9Mc"
      }
    },
    {
      "cell_type": "markdown",
      "source": [
        "Nombre de las columnas"
      ],
      "metadata": {
        "id": "k8alhioofZkd"
      }
    },
    {
      "cell_type": "code",
      "source": [
        "#Imprimir el nombre de las columnas nos servira para saber que features tenemos disponibles en nuestro dataset\n",
        "print(dataHogar.columns)\n",
        "print(dataPersona.columns)\n",
        "print(dataVivienda.columns)"
      ],
      "metadata": {
        "colab": {
          "base_uri": "https://localhost:8080/"
        },
        "id": "uq_tRuLd24rI",
        "outputId": "52c9d80d-24cb-4a88-8f8b-7c0cdd936452"
      },
      "execution_count": null,
      "outputs": [
        {
          "output_type": "stream",
          "name": "stdout",
          "text": [
            "Index(['cod_mpio', 'ZONA', 'llave', 'CORTE', 'HOGAR', 'FEX', 'HOG001',\n",
            "       'HOG002', 'HOG003', 'HOG004', 'HOG005', 'HOG006', 'HOG007', 'HOG008',\n",
            "       'HOG009', 'HOG010', 'HOG011', 'HOG012', 'HOG013', 'HOG014', 'HOG015',\n",
            "       'HOG016', 'HOG017', 'HOG018', 'HOG019', 'HOG020', 'HOG021', 'HOG022',\n",
            "       'HOG023', 'HOG024', 'HOG025', 'HOG026', 'HOG027'],\n",
            "      dtype='object')\n",
            "Index(['cod_mpio', 'H_5', 'I1', 'I2', 'I3', 'I4', 'I5', 'I6', 'I7', 'I8', 'I9',\n",
            "       'I10', 'I11', 'I12', 'I13', 'I14', 'I15', 'Grupo', 'Nivel', 'ZONA',\n",
            "       'llave', 'CORTE', 'HOGAR', 'ORDEN', 'FEX', 'PER001', 'PER002', 'PER003',\n",
            "       'PER004', 'PER005', 'PER005B', 'PER006', 'PER006B', 'PER007', 'PER008',\n",
            "       'PER009', 'PER010', 'PER011', 'PER012', 'PER013', 'PER014', 'PER015',\n",
            "       'PER016', 'PER017', 'PER018', 'PER019', 'PER020', 'CLASIFICACION'],\n",
            "      dtype='object')\n",
            "Index(['cod_mpio', 'ZONA', 'llave', 'CORTE', 'FEX', 'VIV001', 'VIV002',\n",
            "       'VIV003', 'VIV004', 'VIV005', 'VIV006', 'VIV007', 'VIV008', 'VIV009',\n",
            "       'VIV010'],\n",
            "      dtype='object')\n"
          ]
        }
      ]
    },
    {
      "cell_type": "markdown",
      "source": [
        "Cantidad de registros por base de datos"
      ],
      "metadata": {
        "id": "ZOK_5iIdfVo9"
      }
    },
    {
      "cell_type": "code",
      "source": [
        "print('Hogar:',len(dataHogar),'Persona:', len(dataPersona),'Vivienda:',len(dataVivienda))"
      ],
      "metadata": {
        "colab": {
          "base_uri": "https://localhost:8080/"
        },
        "id": "n0tT8uKbfgCU",
        "outputId": "9be77f18-8eb1-4848-ec3e-e2fbd858637a"
      },
      "execution_count": null,
      "outputs": [
        {
          "output_type": "stream",
          "name": "stdout",
          "text": [
            "Hogar: 1341695 Persona: 3706298 Vivienda: 1148127\n"
          ]
        }
      ]
    },
    {
      "cell_type": "markdown",
      "source": [
        "Tipo de datos para cada columna"
      ],
      "metadata": {
        "id": "AC4tIsQtfkk1"
      }
    },
    {
      "cell_type": "code",
      "source": [
        "print(dataHogar.dtypes)\n",
        "print(dataPersona.dtypes)\n",
        "print(dataVivienda.dtypes)"
      ],
      "metadata": {
        "colab": {
          "base_uri": "https://localhost:8080/"
        },
        "id": "5s5f07KTfH18",
        "outputId": "9f85c1aa-7e03-4d74-8ded-459788281984"
      },
      "execution_count": null,
      "outputs": [
        {
          "output_type": "stream",
          "name": "stdout",
          "text": [
            "cod_mpio    float64\n",
            "ZONA        float64\n",
            "llave       float64\n",
            "CORTE        object\n",
            "HOGAR       float64\n",
            "FEX         float64\n",
            "HOG001      float64\n",
            "HOG002      float64\n",
            "HOG003      float64\n",
            "HOG004      float64\n",
            "HOG005      float64\n",
            "HOG006      float64\n",
            "HOG007      float64\n",
            "HOG008      float64\n",
            "HOG009      float64\n",
            "HOG010      float64\n",
            "HOG011      float64\n",
            "HOG012      float64\n",
            "HOG013      float64\n",
            "HOG014      float64\n",
            "HOG015      float64\n",
            "HOG016      float64\n",
            "HOG017      float64\n",
            "HOG018      float64\n",
            "HOG019      float64\n",
            "HOG020      float64\n",
            "HOG021      float64\n",
            "HOG022      float64\n",
            "HOG023      float64\n",
            "HOG024      float64\n",
            "HOG025      float64\n",
            "HOG026      float64\n",
            "HOG027      float64\n",
            "dtype: object\n",
            "cod_mpio         float64\n",
            "H_5              float64\n",
            "I1               float64\n",
            "I2               float64\n",
            "I3               float64\n",
            "I4               float64\n",
            "I5               float64\n",
            "I6               float64\n",
            "I7               float64\n",
            "I8               float64\n",
            "I9               float64\n",
            "I10              float64\n",
            "I11              float64\n",
            "I12              float64\n",
            "I13              float64\n",
            "I14              float64\n",
            "I15              float64\n",
            "Grupo             object\n",
            "Nivel            float64\n",
            "ZONA             float64\n",
            "llave            float64\n",
            "CORTE             object\n",
            "HOGAR            float64\n",
            "ORDEN            float64\n",
            "FEX              float64\n",
            "PER001           float64\n",
            "PER002           float64\n",
            "PER003           float64\n",
            "PER004           float64\n",
            "PER005           float64\n",
            "PER005B          float64\n",
            "PER006           float64\n",
            "PER006B          float64\n",
            "PER007           float64\n",
            "PER008           float64\n",
            "PER009           float64\n",
            "PER010           float64\n",
            "PER011           float64\n",
            "PER012           float64\n",
            "PER013           float64\n",
            "PER014           float64\n",
            "PER015           float64\n",
            "PER016           float64\n",
            "PER017           float64\n",
            "PER018           float64\n",
            "PER019           float64\n",
            "PER020           float64\n",
            "CLASIFICACION     object\n",
            "dtype: object\n",
            "cod_mpio    float64\n",
            "ZONA        float64\n",
            "llave       float64\n",
            "CORTE        object\n",
            "FEX         float64\n",
            "VIV001      float64\n",
            "VIV002      float64\n",
            "VIV003      float64\n",
            "VIV004      float64\n",
            "VIV005      float64\n",
            "VIV006      float64\n",
            "VIV007      float64\n",
            "VIV008      float64\n",
            "VIV009      float64\n",
            "VIV010      float64\n",
            "dtype: object\n"
          ]
        }
      ]
    },
    {
      "cell_type": "markdown",
      "source": [
        "#Merge del dataset\n",
        "Al tener varias bases de datos juntas, es necesario juntarlas segun las llaves foraneas o Foreign Key (FK), ajustar la cantidad de registro si es necesario."
      ],
      "metadata": {
        "id": "b1MF6S1uf2Pl"
      }
    },
    {
      "cell_type": "markdown",
      "source": [
        "Hacemos un merge por las llaves foraneas: \n",
        "> 'cod_mpio','ZONA','llave','CORTE','HOGAR'.\n",
        "\n",
        "Este merge se hara entre \"dataHogar\" y \"dataPersona\"\n",
        "\n"
      ],
      "metadata": {
        "id": "f9MykpcygcBV"
      }
    },
    {
      "cell_type": "code",
      "source": [
        "dataHogarPersona = pd.merge(dataHogar,dataPersona, on=['cod_mpio','ZONA','llave','CORTE','HOGAR'])"
      ],
      "metadata": {
        "id": "ePrQjtgN5zX4"
      },
      "execution_count": null,
      "outputs": []
    },
    {
      "cell_type": "markdown",
      "source": [
        "Haremos lo mismo con \"dataVivienda\" y la adicionaremos ak DataFrame ya creado anteriormente, \"dataHogarPersona\". Esto se hace mediante las llaves foraneas:\n",
        "> 'cod_mpio', 'ZONA', 'llave', 'CORTE'\n",
        "\n"
      ],
      "metadata": {
        "id": "3bP4qycLguSf"
      }
    },
    {
      "cell_type": "code",
      "source": [
        "data = pd.merge(dataHogarPersona,dataVivienda, on=['cod_mpio','ZONA','llave','CORTE'])"
      ],
      "metadata": {
        "id": "43b_yfRf87Tc"
      },
      "execution_count": null,
      "outputs": []
    },
    {
      "cell_type": "markdown",
      "source": [
        "Verificamos que las columnas hayan quedado correctamente y que la longuitud del DataFrame corresponda."
      ],
      "metadata": {
        "id": "Lb9N6WIwhNo2"
      }
    },
    {
      "cell_type": "code",
      "source": [
        "print(data.columns)\n",
        "print(len(data))"
      ],
      "metadata": {
        "colab": {
          "base_uri": "https://localhost:8080/"
        },
        "id": "YbDCOqVJ9LFV",
        "outputId": "be76ec22-967e-4782-b911-21113ee63fda"
      },
      "execution_count": null,
      "outputs": [
        {
          "output_type": "stream",
          "name": "stdout",
          "text": [
            "Index(['cod_mpio', 'ZONA', 'llave', 'CORTE', 'HOGAR', 'FEX_x', 'HOG001',\n",
            "       'HOG002', 'HOG003', 'HOG004', 'HOG005', 'HOG006', 'HOG007', 'HOG008',\n",
            "       'HOG009', 'HOG010', 'HOG011', 'HOG012', 'HOG013', 'HOG014', 'HOG015',\n",
            "       'HOG016', 'HOG017', 'HOG018', 'HOG019', 'HOG020', 'HOG021', 'HOG022',\n",
            "       'HOG023', 'HOG024', 'HOG025', 'HOG026', 'HOG027', 'H_5', 'I1', 'I2',\n",
            "       'I3', 'I4', 'I5', 'I6', 'I7', 'I8', 'I9', 'I10', 'I11', 'I12', 'I13',\n",
            "       'I14', 'I15', 'Grupo', 'Nivel', 'ORDEN', 'FEX_y', 'PER001', 'PER002',\n",
            "       'PER003', 'PER004', 'PER005', 'PER005B', 'PER006', 'PER006B', 'PER007',\n",
            "       'PER008', 'PER009', 'PER010', 'PER011', 'PER012', 'PER013', 'PER014',\n",
            "       'PER015', 'PER016', 'PER017', 'PER018', 'PER019', 'PER020',\n",
            "       'CLASIFICACION', 'FEX', 'VIV001', 'VIV002', 'VIV003', 'VIV004',\n",
            "       'VIV005', 'VIV006', 'VIV007', 'VIV008', 'VIV009', 'VIV010'],\n",
            "      dtype='object')\n",
            "3706298\n"
          ]
        }
      ]
    },
    {
      "cell_type": "markdown",
      "source": [
        "Si recordamos:\n",
        "> Hogar: 1341695 Persona: 3706298 Vivienda: 1148127\n",
        "\n",
        "Esas eran las bases de datos por su cantidad de registros, eso significa que el anterior DataFrame creado \"data\" posee valores nulos que deberemos corregir o que para un hogar, se han contado varias personas. \n",
        "\n",
        "Para esto, se prueba si alguna fila es nulo:"
      ],
      "metadata": {
        "id": "AbQYUfASw2pX"
      }
    },
    {
      "cell_type": "code",
      "source": [
        "nulos = data.isnull().sum()\n",
        "nulos.argmax()"
      ],
      "metadata": {
        "colab": {
          "base_uri": "https://localhost:8080/"
        },
        "id": "q9OleSYAw3kn",
        "outputId": "c0c2afdf-267a-4bff-e218-6fcb0b56160c"
      },
      "execution_count": null,
      "outputs": [
        {
          "output_type": "execute_result",
          "data": {
            "text/plain": [
              "0"
            ]
          },
          "metadata": {},
          "execution_count": 12
        }
      ]
    },
    {
      "cell_type": "markdown",
      "source": [
        "No tenemos ningun registro nulo, por lo que hay personas que compartiran información de la base de datos de Hogar y de Vivienda.\n",
        "\n",
        "Si ese no fuera el caso y tuvieramos data nula, como no poseemos data para rellenar esos vacios, la decisión hhubiera sido eliminar los registros que no posean todos los campos.\n",
        "\n",
        "Otras opciones para trabajar con datos vacios serian:\n",
        "\n",
        "- ``isnull()``: Para generar una mascara sobre los datos nulos\n",
        "- ``notnull()``: Los contrario a ``isnull()``\n",
        "- ``fillna()``: Retornar una copia del DataFrame con los datos nulos reemplazados por un valor\n",
        "\n",
        "---\n",
        "\n",
        "Esta seria la linea correcta\n",
        "\n",
        "```\n",
        "data.dropna(how='any', inplace=True)\n",
        "```\n",
        "\n",
        "pero debido al consumo tan grande que requiere hacer esta operación (y otras mas), haremos una reducción de memoria mediante algunas tecnias"
      ],
      "metadata": {
        "id": "ix0K3EzWhnyu"
      }
    },
    {
      "cell_type": "markdown",
      "source": [
        "# Reducción de memoria"
      ],
      "metadata": {
        "id": "I1ReJBOYsT_o"
      }
    },
    {
      "cell_type": "markdown",
      "source": [
        "Cambiar los tipos de datos por otros mas pequeños\n",
        "> Esto se puede hacer con ayuda de la descripción del dataset, que contiene la naturaleza de cada variable.\n",
        "\n",
        "Mediante el siguiente codigo\n",
        "\n",
        "\n",
        "\n",
        "```\n",
        "df['A'] = df['A'].astype(int)\n",
        "```\n",
        "\n"
      ],
      "metadata": {
        "id": "TLl-lF1dtKje"
      }
    },
    {
      "cell_type": "markdown",
      "source": [
        "Según la variables que tengo, las organizo en los tipos correctos:\n",
        "\n",
        "\n",
        "\n",
        "```\n",
        "['cod_mpio', 'ZONA', 'llave', 'CORTE', 'HOGAR', 'FEX_x', 'HOG001',\n",
        "       'HOG002', 'HOG003', 'HOG004', 'HOG005', 'HOG006', 'HOG007', 'HOG008',\n",
        "       'HOG009', 'HOG010', 'HOG011', 'HOG012', 'HOG013', 'HOG014', 'HOG015',\n",
        "       'HOG016', 'HOG017', 'HOG018', 'HOG019', 'HOG020', 'HOG021', 'HOG022',\n",
        "       'HOG023', 'HOG024', 'HOG025', 'HOG026', 'HOG027', 'H_5', 'I1', 'I2',\n",
        "       'I3', 'I4', 'I5', 'I6', 'I7', 'I8', 'I9', 'I10', 'I11', 'I12', 'I13',\n",
        "       'I14', 'I15', 'Grupo', 'Nivel', 'ORDEN', 'FEX_y', 'PER001', 'PER002',\n",
        "       'PER003', 'PER004', 'PER005', 'PER005B', 'PER006', 'PER006B', 'PER007',\n",
        "       'PER008', 'PER009', 'PER010', 'PER011', 'PER012', 'PER013', 'PER014',\n",
        "       'PER015', 'PER016', 'PER017', 'PER018', 'PER019', 'PER020',\n",
        "       'CLASIFICACION', 'FEX', 'VIV001', 'VIV002', 'VIV003', 'VIV004',\n",
        "       'VIV005', 'VIV006', 'VIV007', 'VIV008', 'VIV009', 'VIV010']\n",
        "```"
      ],
      "metadata": {
        "id": "r94QGHhp1dvf"
      }
    },
    {
      "cell_type": "code",
      "source": [
        " #Todos los int\n",
        "enteros = ['cod_mpio','llave', 'VIV009', 'VIV010', 'HOG002', 'HOG003',\n",
        "           'HOG009', 'HOG011', 'HOG027', 'PER005B', 'PER006B']\n",
        "for col in enteros:\n",
        "  data[col] = data[col].astype(int)"
      ],
      "metadata": {
        "id": "bufK8ZvbiAx1"
      },
      "execution_count": null,
      "outputs": []
    },
    {
      "cell_type": "code",
      "source": [
        "#Todas las categorias\n",
        "categorias = ['ZONA','VIV001','VIV002', 'VIV003', 'VIV004', 'VIV005',\n",
        "              'VIV006','VIV007', 'VIV008', 'HOGAR', 'HOG001', 'HOG004',\n",
        "              'HOG005','HOG006', 'HOG007', 'HOG008', 'HOG010', 'HOG012',\n",
        "              'HOG013', 'HOG014', 'HOG015', 'HOG016', 'HOG017', 'HOG018',\n",
        "              'HOG019', 'HOG020', 'HOG021', 'HOG022', 'HOG023', 'HOG024',\n",
        "              'HOG025', 'HOG026', 'H_5', 'I1', 'I2', 'I3', 'I4', 'I5', 'I6',\n",
        "              'I7', 'I8', 'I9', 'I10', 'I11', 'I12', 'I13', 'I14', 'I15',\n",
        "              'Nivel', 'ORDEN', 'PER001', 'PER002', 'PER003', 'PER004', 'PER005',\n",
        "              'PER006', 'PER007', 'PER008', 'PER009', 'PER010', 'PER011', 'PER012',\n",
        "              'PER013', 'PER014', 'PER015', 'PER016', 'PER017', 'PER018', 'PER019',\n",
        "              'PER020', 'CLASIFICACION']\n",
        "for col in categorias:\n",
        "  data[col] = data[col].astype('category')"
      ],
      "metadata": {
        "id": "0vgEjYcmzEaY"
      },
      "execution_count": null,
      "outputs": []
    },
    {
      "cell_type": "markdown",
      "source": [
        "Algunas generalidades extra de los datos\n",
        "\n",
        "String:\n",
        "\n",
        "  CORTE, Grupo\n",
        "\n",
        "float64:\n",
        "\n",
        "  FEX_x, FEX_y, FEX\n",
        "\n",
        "Irrelevante:\n",
        "\n",
        "  CORTE, ORDEN, llave, FEX_x, FEX_y, PER005B, PER006B, PER008, FEX\n",
        "\n",
        "Variable de interes:\n",
        "\n",
        "  PER017"
      ],
      "metadata": {
        "id": "x22_3lv912rQ"
      }
    },
    {
      "cell_type": "markdown",
      "source": [
        "Corroboramos que haya quedado con los nuevos tipos"
      ],
      "metadata": {
        "id": "C8pOT7Z8_J7w"
      }
    },
    {
      "cell_type": "code",
      "source": [
        "data.dtypes"
      ],
      "metadata": {
        "colab": {
          "base_uri": "https://localhost:8080/"
        },
        "id": "lc6iCDxi-eb3",
        "outputId": "888d8ec2-a4b2-4139-c554-fb1eca697fbd"
      },
      "execution_count": null,
      "outputs": [
        {
          "output_type": "execute_result",
          "data": {
            "text/plain": [
              "cod_mpio       int64\n",
              "ZONA        category\n",
              "llave          int64\n",
              "CORTE         object\n",
              "HOGAR       category\n",
              "              ...   \n",
              "VIV006      category\n",
              "VIV007      category\n",
              "VIV008      category\n",
              "VIV009         int64\n",
              "VIV010         int64\n",
              "Length: 87, dtype: object"
            ]
          },
          "metadata": {},
          "execution_count": 16
        }
      ]
    },
    {
      "cell_type": "markdown",
      "source": [
        "En este punto, hemos usado mucha memoria al guardar todos los DataFrame, por lo que eliminaremos las columnas irrelevantes y guardaremos el DataFrame en un .CSV para poder exportar el trabajo que llevamos hasta este punto."
      ],
      "metadata": {
        "id": "HwT_Fg_B_Vvn"
      }
    },
    {
      "cell_type": "markdown",
      "source": [
        "# Eliminación de columnas irrelevantes"
      ],
      "metadata": {
        "id": "3If459Ts_rvY"
      }
    },
    {
      "cell_type": "code",
      "source": [
        "data = data.drop(['CORTE', 'ORDEN', 'llave', 'FEX_x', 'FEX_y', 'PER005B', 'PER006B', 'PER008', 'FEX'], axis=1)"
      ],
      "metadata": {
        "id": "Dhtf4qq1_v4O"
      },
      "execution_count": null,
      "outputs": []
    },
    {
      "cell_type": "code",
      "source": [
        "len(data.columns)"
      ],
      "metadata": {
        "colab": {
          "base_uri": "https://localhost:8080/"
        },
        "id": "58OPa1szAQSQ",
        "outputId": "e2cf75e2-a44e-4cdb-ab1b-eaf955859d4b"
      },
      "execution_count": null,
      "outputs": [
        {
          "output_type": "execute_result",
          "data": {
            "text/plain": [
              "78"
            ]
          },
          "metadata": {},
          "execution_count": 21
        }
      ]
    },
    {
      "cell_type": "markdown",
      "source": [
        "# Guardar el DataFrame"
      ],
      "metadata": {
        "id": "YrGUrsvPAh6u"
      }
    },
    {
      "cell_type": "markdown",
      "source": [
        "Aunque por lo general uno guarda la información en un CSV, lo ideal es guardarlo en otro formato, por dos razones:\n",
        "\n",
        "* Es muy lento y consume mucha memoria guardar la información asi.\n",
        "* No permite exportar el tipo de los datos\n",
        "\n",
        "Por eso debemos exportarlo en el formato pickle para evitar estos dos inconvenientes."
      ],
      "metadata": {
        "id": "i8Urp-w6B2JX"
      }
    },
    {
      "cell_type": "code",
      "source": [
        "data.to_pickle(\"/content/drive/MyDrive/SisbenColombia/Sisben.pkl\") "
      ],
      "metadata": {
        "id": "pgkO8z9AAnAq"
      },
      "execution_count": null,
      "outputs": []
    }
  ]
}