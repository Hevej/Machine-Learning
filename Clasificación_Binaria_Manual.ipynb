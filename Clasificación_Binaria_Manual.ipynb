{
  "nbformat": 4,
  "nbformat_minor": 0,
  "metadata": {
    "colab": {
      "name": "Clasificación_Binaria_Manual.ipynb",
      "provenance": [],
      "collapsed_sections": [],
      "authorship_tag": "ABX9TyMO4mbEIPvDx19JyDox+L9A",
      "include_colab_link": true
    },
    "kernelspec": {
      "name": "python3",
      "display_name": "Python 3"
    },
    "language_info": {
      "name": "python"
    }
  },
  "cells": [
    {
      "cell_type": "markdown",
      "metadata": {
        "id": "view-in-github",
        "colab_type": "text"
      },
      "source": [
        "<a href=\"https://colab.research.google.com/github/Hevej/Machine-Learning/blob/main/Clasificaci%C3%B3n_Binaria_Manual.ipynb\" target=\"_parent\"><img src=\"https://colab.research.google.com/assets/colab-badge.svg\" alt=\"Open In Colab\"/></a>"
      ]
    },
    {
      "cell_type": "markdown",
      "source": [
        "Librerias"
      ],
      "metadata": {
        "id": "VV2brYEN3VNC"
      }
    },
    {
      "cell_type": "code",
      "execution_count": 1,
      "metadata": {
        "id": "y5q6mHp0yY8Z"
      },
      "outputs": [],
      "source": [
        "import numpy as np\n",
        "import matplotlib.pyplot as plt\n",
        "from sklearn.datasets import make_blobs\n",
        "import pandas as pd\n",
        "from collections import deque"
      ]
    },
    {
      "cell_type": "code",
      "source": [
        "from google.colab import drive\n",
        "drive.mount('/content/drive')\n"
      ],
      "metadata": {
        "colab": {
          "base_uri": "https://localhost:8080/"
        },
        "id": "uyXWH9xY9AdW",
        "outputId": "47ea47a5-7dfa-4a86-b4ca-f909e643cc1a"
      },
      "execution_count": 2,
      "outputs": [
        {
          "output_type": "stream",
          "name": "stdout",
          "text": [
            "Mounted at /content/drive\n"
          ]
        }
      ]
    },
    {
      "cell_type": "markdown",
      "source": [
        "Crear Dataset"
      ],
      "metadata": {
        "id": "3M-uaYu13bFO"
      }
    },
    {
      "cell_type": "code",
      "source": [
        "#Cantidad de registros\n",
        "N = 100\n",
        "Features, Clases = make_blobs(n_samples=N,\n",
        "                              #Cantidad de clases\n",
        "                              centers = 2,\n",
        "                              #Cantidad de features\n",
        "                              n_features = 2,\n",
        "                              cluster_std = 0.55,\n",
        "                              random_state = 0\n",
        "                              )"
      ],
      "metadata": {
        "id": "xEkJ4Ft-3eHG"
      },
      "execution_count": 3,
      "outputs": []
    },
    {
      "cell_type": "code",
      "source": [
        "Clases.shape"
      ],
      "metadata": {
        "colab": {
          "base_uri": "https://localhost:8080/"
        },
        "id": "R3Fbdhf84Gbc",
        "outputId": "2e65982b-e221-4c28-ab3e-73f651d18d2d"
      },
      "execution_count": 4,
      "outputs": [
        {
          "output_type": "execute_result",
          "data": {
            "text/plain": [
              "(100,)"
            ]
          },
          "metadata": {},
          "execution_count": 4
        }
      ]
    },
    {
      "cell_type": "code",
      "source": [
        "Clases = Clases[:,np.newaxis]\n",
        "Clases.shape"
      ],
      "metadata": {
        "colab": {
          "base_uri": "https://localhost:8080/"
        },
        "id": "PdinSk6d6SYt",
        "outputId": "0c7b1167-07d7-40c6-e5a5-fc898531ea8e"
      },
      "execution_count": 5,
      "outputs": [
        {
          "output_type": "execute_result",
          "data": {
            "text/plain": [
              "(100, 1)"
            ]
          },
          "metadata": {},
          "execution_count": 5
        }
      ]
    },
    {
      "cell_type": "code",
      "source": [
        "plt.scatter(Features[:,0], Features[:,1], c=Clases[:], s=40, cmap=plt.cm.Spectral)"
      ],
      "metadata": {
        "colab": {
          "base_uri": "https://localhost:8080/",
          "height": 282
        },
        "id": "4d5tf_mv5D59",
        "outputId": "640ac0ba-b7ea-401e-c326-87e909fbdc40"
      },
      "execution_count": 6,
      "outputs": [
        {
          "output_type": "execute_result",
          "data": {
            "text/plain": [
              "<matplotlib.collections.PathCollection at 0x7fdde07fef10>"
            ]
          },
          "metadata": {},
          "execution_count": 6
        },
        {
          "output_type": "display_data",
          "data": {
            "text/plain": [
              "<Figure size 432x288 with 1 Axes>"
            ],
            "image/png": "[encoded data removed]"
          },
          "metadata": {
            "needs_background": "light"
          }
        }
      ]
    },
    {
      "cell_type": "code",
      "source": [
        "def normalize(df):\n",
        "    result = df.copy()\n",
        "    for feature_name in df.columns:\n",
        "        max_value = df[feature_name].max()\n",
        "        min_value = df[feature_name].min()\n",
        "        result[feature_name] = (((df[feature_name] - min_value) / (max_value - min_value))*2)-1\n",
        "    return result"
      ],
      "metadata": {
        "id": "ZYruRuEUey0j"
      },
      "execution_count": 7,
      "outputs": []
    },
    {
      "cell_type": "code",
      "source": [
        "data_dir = '/content/drive/MyDrive/Dataset_IA/Generos.xlsx'\n",
        "Dataset = pd.read_excel(data_dir)"
      ],
      "metadata": {
        "id": "5wZAqBL45zX8"
      },
      "execution_count": 8,
      "outputs": []
    },
    {
      "cell_type": "code",
      "source": [
        "DataFeatures = Dataset[['X1','X2']]\n",
        "DataFeatures = normalize(DataFeatures).to_numpy()\n",
        "DataClases = Dataset['Y'].to_numpy()[:,np.newaxis]"
      ],
      "metadata": {
        "id": "kQRyVAtJGXjb"
      },
      "execution_count": 9,
      "outputs": []
    },
    {
      "cell_type": "code",
      "source": [
        "DataFeatures"
      ],
      "metadata": {
        "colab": {
          "base_uri": "https://localhost:8080/"
        },
        "id": "8Q-eVWbZNdov",
        "outputId": "dfa255ca-9a4b-4f05-fc5b-a7635753e616"
      },
      "execution_count": 10,
      "outputs": [
        {
          "output_type": "execute_result",
          "data": {
            "text/plain": [
              "array([[ 2.00000000e-01,  1.00000000e+00],\n",
              "       [ 5.33333333e-01,  9.31034483e-01],\n",
              "       [ 2.00000000e-01,  7.24137931e-01],\n",
              "       [-8.66666667e-01,  7.24137931e-01],\n",
              "       [ 1.00000000e+00,  5.86206897e-01],\n",
              "       [ 8.00000000e-01,  3.79310345e-01],\n",
              "       [-4.00000000e-01,  2.41379310e-01],\n",
              "       [-7.33333333e-01,  1.03448276e-01],\n",
              "       [ 5.33333333e-01, -3.44827586e-02],\n",
              "       [-5.33333333e-01, -3.44827586e-02],\n",
              "       [ 6.00000000e-01, -1.72413793e-01],\n",
              "       [ 4.66666667e-01, -1.72413793e-01],\n",
              "       [-4.00000000e-01, -3.10344828e-01],\n",
              "       [-1.00000000e+00, -4.48275862e-01],\n",
              "       [ 5.33333333e-01, -5.17241379e-01],\n",
              "       [ 2.22044605e-16, -5.17241379e-01],\n",
              "       [ 6.66666667e-02, -5.86206897e-01],\n",
              "       [-1.00000000e+00, -5.86206897e-01],\n",
              "       [-2.66666667e-01, -7.24137931e-01],\n",
              "       [-5.33333333e-01, -7.93103448e-01],\n",
              "       [-1.33333333e-01, -8.62068966e-01],\n",
              "       [-1.00000000e+00, -1.00000000e+00]])"
            ]
          },
          "metadata": {},
          "execution_count": 10
        }
      ]
    },
    {
      "cell_type": "code",
      "source": [
        "plt.scatter(DataFeatures[:,0], DataFeatures[:,1], c=DataClases[:], s=40, cmap=plt.cm.Spectral)"
      ],
      "metadata": {
        "id": "7PtipUdRKwN7",
        "colab": {
          "base_uri": "https://localhost:8080/",
          "height": 282
        },
        "outputId": "cf95630c-a08e-43ad-93ce-7823c646daa3"
      },
      "execution_count": 11,
      "outputs": [
        {
          "output_type": "execute_result",
          "data": {
            "text/plain": [
              "<matplotlib.collections.PathCollection at 0x7fdddf2c5910>"
            ]
          },
          "metadata": {},
          "execution_count": 11
        },
        {
          "output_type": "display_data",
          "data": {
            "text/plain": [
              "<Figure size 432x288 with 1 Axes>"
            ],
            "image/png": "[encoded data removed]"
          },
          "metadata": {
            "needs_background": "light"
          }
        }
      ]
    },
    {
      "cell_type": "code",
      "source": [
        "#Funciones\n",
        "def tanh(a, derivate=False):\n",
        "  if derivate:\n",
        "    return 1-((np.tanh(a))**2)\n",
        "  else:\n",
        "    return np.tanh(a)"
      ],
      "metadata": {
        "id": "kxmKopB0Pzmc"
      },
      "execution_count": 12,
      "outputs": []
    },
    {
      "cell_type": "code",
      "source": [
        "#Funcion de perdida\n",
        "def mse(y, y_hat, derivate=False):\n",
        "  if derivate:\n",
        "    return (y_hat-y)\n",
        "  else:\n",
        "    return np.mean((y_hat - y)**2)"
      ],
      "metadata": {
        "id": "H8m00_Duab1x"
      },
      "execution_count": 13,
      "outputs": []
    },
    {
      "cell_type": "code",
      "source": [
        "def initializer(layers_dims):\n",
        "  parameters = {}\n",
        "  L = len(layers_dims)         \n",
        "  for l in range(0, L-1):\n",
        "      parameters['W' + str(l+1)] = (np.random.rand(layers_dims[l], layers_dims[l+1]) * 2) - 1\n",
        "      parameters['b' + str(l+1)] = (np.random.rand(1, layers_dims[l+1]) * 2) - 1\n",
        "  return parameters"
      ],
      "metadata": {
        "id": "nkubZceYae9t"
      },
      "execution_count": 14,
      "outputs": []
    },
    {
      "cell_type": "code",
      "source": [
        "def train(xData, lr, params, training = True):\n",
        "  #X sera la activación de entrada\n",
        "  params['A0'] = xData\n",
        "  #Forward\n",
        "  params['Z1'] = np.matmul(params['A0'],params['W1'])+params['b1']\n",
        "  params['A1'] = tanh(params['Z1'])\n",
        "\n",
        "  output = params['A1']\n",
        "\n",
        "  if training:\n",
        "    #Backpropagation\n",
        "    #dC/db^L = dC/da^L * da^L/dZ^L * 1 = dC/dZ = δ^L para la ultima capa\n",
        "    #δ^L\n",
        "    params['db1'] =  mse(DataClases,output,True)*tanh(params['A1'],True)\n",
        "    #dC/dW^L = dC/dZ * a^(L-1) = δ^L *  a^(L-1) para la ultima capa\n",
        "    #δ^L *  a^(L-1)\n",
        "    params['dW1'] = np.matmul(params['A0'].T,params['db1'])\n",
        "\n",
        "    #Gradiente descent\n",
        "    #Actualizar los pesos\n",
        "\n",
        "    params['W1'] = params['W1'] - params['dW1']* lr\n",
        "    params['b1'] = params['b1'] - (np.mean(params['db1'],axis=0, keepdims=True))* lr\n",
        "\n",
        "  return output"
      ],
      "metadata": {
        "id": "dPAz0av0agFg"
      },
      "execution_count": 15,
      "outputs": []
    },
    {
      "cell_type": "code",
      "source": [
        "layer_dims = [2,1]\n",
        "params = initializer(layer_dims)"
      ],
      "metadata": {
        "id": "w9Y1qcf2kC4y"
      },
      "execution_count": 16,
      "outputs": []
    },
    {
      "cell_type": "code",
      "source": [
        "params"
      ],
      "metadata": {
        "id": "PLHPzt_7kEWB",
        "colab": {
          "base_uri": "https://localhost:8080/"
        },
        "outputId": "e4007b23-6813-4b86-da91-ed3563ad6288"
      },
      "execution_count": 17,
      "outputs": [
        {
          "output_type": "execute_result",
          "data": {
            "text/plain": [
              "{'W1': array([[-0.0126815 ],\n",
              "        [ 0.90887067]]), 'b1': array([[-0.52616273]])}"
            ]
          },
          "metadata": {},
          "execution_count": 17
        }
      ]
    },
    {
      "cell_type": "code",
      "source": [
        "errors = deque()\n",
        "\n",
        "for i in range(50000):\n",
        "  output = train(DataFeatures,0.01,params)\n",
        "  errors.append(mse(DataClases,output))\n",
        "  if errors[-1]<=0.01:\n",
        "    print(\"Me sali en la iteración \", i)\n",
        "    break\n"
      ],
      "metadata": {
        "id": "dJZBVVNCah44",
        "colab": {
          "base_uri": "https://localhost:8080/"
        },
        "outputId": "26a523c6-7acf-40d3-b432-5a64a3ee2d1c"
      },
      "execution_count": 18,
      "outputs": [
        {
          "output_type": "stream",
          "name": "stdout",
          "text": [
            "Me sali en la iteración  3541\n"
          ]
        }
      ]
    },
    {
      "cell_type": "code",
      "source": [
        "plt.ylabel('MSE')\n",
        "plt.xlabel('Epocs')\n",
        "plt.plot(errors)"
      ],
      "metadata": {
        "id": "LSeoFb5WcQtC",
        "colab": {
          "base_uri": "https://localhost:8080/",
          "height": 299
        },
        "outputId": "ae9aecc0-fa6f-4f23-ce89-119c05df00f2"
      },
      "execution_count": 19,
      "outputs": [
        {
          "output_type": "execute_result",
          "data": {
            "text/plain": [
              "[<matplotlib.lines.Line2D at 0x7fdddf289c10>]"
            ]
          },
          "metadata": {},
          "execution_count": 19
        },
        {
          "output_type": "display_data",
          "data": {
            "text/plain": [
              "<Figure size 432x288 with 1 Axes>"
            ],
            "image/png": "[encoded data removed]"
          },
          "metadata": {
            "needs_background": "light"
          }
        }
      ]
    },
    {
      "cell_type": "code",
      "source": [
        "#Dibujar la linea\n",
        "xLinea = np.linspace(-1,1, num=100)[:,np.newaxis]\n",
        "yLinea = -(params['W1'][0]/params['W1'][1])*xLinea.T - (params['b1']/params['W1'][1])\n",
        "yLineaSup = -(params['W1'][0]/params['W1'][1])*xLinea.T - (params['b1']/params['W1'][1]) + (0.9*params['b1']/params['W1'][1])\n",
        "yLineaInf = -(params['W1'][0]/params['W1'][1])*xLinea.T - (params['b1']/params['W1'][1]) - (0.9*params['b1']/params['W1'][1])"
      ],
      "metadata": {
        "id": "ME0Oi7cNDhAX"
      },
      "execution_count": 20,
      "outputs": []
    },
    {
      "cell_type": "code",
      "source": [
        "plt.ylabel('X2')\n",
        "plt.xlabel('X1')\n",
        "plt.scatter(DataFeatures[:,0], DataFeatures[:,1], c=DataClases[:], s=40, cmap=plt.cm.Spectral)\n",
        "plt.plot(xLinea,yLinea.T)\n",
        "plt.plot(xLinea,yLineaSup.T)\n",
        "plt.plot(xLinea,yLineaInf.T)\n",
        "plt.show()"
      ],
      "metadata": {
        "id": "SVo67pZpEff4",
        "colab": {
          "base_uri": "https://localhost:8080/",
          "height": 279
        },
        "outputId": "79d95ff0-0af6-4da2-f578-4564c47a411e"
      },
      "execution_count": 21,
      "outputs": [
        {
          "output_type": "display_data",
          "data": {
            "text/plain": [
              "<Figure size 432x288 with 1 Axes>"
            ],
            "image/png": "[encoded data removed]"
          },
          "metadata": {
            "needs_background": "light"
          }
        }
      ]
    }
  ]
}