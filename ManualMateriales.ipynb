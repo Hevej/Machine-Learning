{
  "nbformat": 4,
  "nbformat_minor": 0,
  "metadata": {
    "colab": {
      "name": "ManualMateriales.ipynb",
      "provenance": [],
      "collapsed_sections": [
        "khzdPbP2fEIx",
        "mOsD4PQSTO85"
      ],
      "authorship_tag": "ABX9TyOjWxs+YvQW6YLmRtGzlaNj",
      "include_colab_link": true
    },
    "kernelspec": {
      "name": "python3",
      "display_name": "Python 3"
    },
    "language_info": {
      "name": "python"
    }
  },
  "cells": [
    {
      "cell_type": "markdown",
      "metadata": {
        "id": "view-in-github",
        "colab_type": "text"
      },
      "source": [
        "<a href=\"https://colab.research.google.com/github/Hevej/Machine-Learning/blob/main/ManualMateriales.ipynb\" target=\"_parent\"><img src=\"https://colab.research.google.com/assets/colab-badge.svg\" alt=\"Open In Colab\"/></a>"
      ]
    },
    {
      "cell_type": "markdown",
      "source": [
        "# Librerias"
      ],
      "metadata": {
        "id": "0Y45bAYe_gVH"
      }
    },
    {
      "cell_type": "code",
      "source": [
        "import pandas as pd\n",
        "import numpy as np"
      ],
      "metadata": {
        "id": "Ho4w5cNR_iCM"
      },
      "execution_count": null,
      "outputs": []
    },
    {
      "cell_type": "markdown",
      "source": [
        "# Ingresar los datos\n",
        "\n"
      ],
      "metadata": {
        "id": "_HJZsI_zeCVz"
      }
    },
    {
      "cell_type": "markdown",
      "source": [
        "## Ingresar los datos desde el Drive"
      ],
      "metadata": {
        "id": "0JbHssVSXIkV"
      }
    },
    {
      "cell_type": "markdown",
      "source": [
        "Primero se establece la conexión en el Drive"
      ],
      "metadata": {
        "id": "Lns7X9yEXZ59"
      }
    },
    {
      "cell_type": "code",
      "source": [
        "from google.colab import drive\n",
        "drive.mount('/content/drive')"
      ],
      "metadata": {
        "colab": {
          "base_uri": "https://localhost:8080/"
        },
        "id": "3aZ3sZMLXHYD",
        "outputId": "581caf9e-16ca-4abe-a878-61b12c9dec04"
      },
      "execution_count": null,
      "outputs": [
        {
          "output_type": "stream",
          "name": "stdout",
          "text": [
            "Drive already mounted at /content/drive; to attempt to forcibly remount, call drive.mount(\"/content/drive\", force_remount=True).\n"
          ]
        }
      ]
    },
    {
      "cell_type": "markdown",
      "source": [
        "Despues se debe cambiar la ruta en la variable ``` filename ``` por la ruta donde se encuentre el archivo\n",
        "\n"
      ],
      "metadata": {
        "id": "G0-ZPKvdXeqn"
      }
    },
    {
      "cell_type": "code",
      "source": [
        "filename = '/content/drive/MyDrive/Dataset_Materiales/BrazoRobotico.xlsx'"
      ],
      "metadata": {
        "id": "tQcAorMU_yF2"
      },
      "execution_count": null,
      "outputs": []
    },
    {
      "cell_type": "code",
      "source": [
        "data = pd.read_excel(filename, sheet_name ='Materiales')"
      ],
      "metadata": {
        "id": "_LOao_3cXtq8"
      },
      "execution_count": null,
      "outputs": []
    },
    {
      "cell_type": "markdown",
      "source": [
        "## Ingresar los datos desde memoria\n",
        "\n",
        "Se debe arrastrar el archivo al colab"
      ],
      "metadata": {
        "id": "ySadBZtjXOfC"
      }
    },
    {
      "cell_type": "markdown",
      "source": [
        "Despues se debe cambiar la ruta en la variable ``` filename ``` por la ruta donde se encuentre el archivo\n",
        "\n"
      ],
      "metadata": {
        "id": "uB0o5LN0q00G"
      }
    },
    {
      "cell_type": "code",
      "source": [
        "filename = '/content/BrazoRobotico.xlsx'"
      ],
      "metadata": {
        "id": "jGYWvI0rXy0T"
      },
      "execution_count": null,
      "outputs": []
    },
    {
      "cell_type": "code",
      "source": [
        "data = pd.read_excel(filename, sheet_name ='Materiales')"
      ],
      "metadata": {
        "id": "BK4aEhCPq-fW"
      },
      "execution_count": null,
      "outputs": []
    },
    {
      "cell_type": "markdown",
      "source": [
        "# Ingresar los datos para el método AHP\n",
        "Estas lineas solo se deben correr si se tienen los datos dentro del EXCEL correspondientes a los requeridos por método AHP"
      ],
      "metadata": {
        "id": "0PCpfq1XX7wi"
      }
    },
    {
      "cell_type": "code",
      "source": [
        "criteria = pd.read_excel(filename, sheet_name ='Criterios', dtype = float, usecols=lambda x: 'Unnamed' not in x)"
      ],
      "metadata": {
        "id": "IlWWGkZjRw6A"
      },
      "execution_count": null,
      "outputs": []
    },
    {
      "cell_type": "code",
      "source": [
        "properties = dict()\n",
        "for i in range(len(data.index)):\n",
        "  properties[data['In'][i]] = pd.read_excel(filename, sheet_name = 'C{0}'.format(i+1), dtype = float, usecols=lambda x: 'Unnamed' not in x)"
      ],
      "metadata": {
        "id": "cKO8NkKS0vTv"
      },
      "execution_count": null,
      "outputs": []
    },
    {
      "cell_type": "markdown",
      "source": [
        "# Cargar la clase con sus metodos"
      ],
      "metadata": {
        "id": "VBbbylkJeNga"
      }
    },
    {
      "cell_type": "code",
      "source": [
        "class MaterialSelection():\n",
        "  def __init__(self, DB):\n",
        "    self.DB = DB\n",
        "    self.propertiesVector = DB['No.']\n",
        "    self.materialsVector = DB.columns[5:]\n",
        "    self.intention = DB[['No.','Intención']].set_index('No.')\n",
        "\n",
        "  def __cleanVsMatrix(self):\n",
        "    return pd.DataFrame(0.0, index=self.materialsVector, columns=self.materialsVector)\n",
        "\n",
        "  ###################\n",
        "  ######  AHP  ######\n",
        "  ###################\n",
        "\n",
        "  def __iterConsistency(self, matrix):\n",
        "    normalSum = matrix.sum(axis=1)\n",
        "    normalTotal = normalSum.sum()\n",
        "    normalizeSum = normalSum/normalTotal\n",
        "    return normalizeSum\n",
        "\n",
        "  #Metodo que calcula el vector lambda\n",
        "  def __lambda(self, matrix):\n",
        "    # matrix es la matriz pareada\n",
        "    matrix = matrix.to_numpy()\n",
        "    #Genera por lo menos una vez, Do-While\n",
        "    matrix =  matrix@matrix\n",
        "    anterior = self.__iterConsistency(matrix)\n",
        "    while True:\n",
        "      matrix = matrix@matrix\n",
        "      normalizeSum = self.__iterConsistency(matrix)\n",
        "      #Se sale cuando el error esta por debajo de 1e-5\n",
        "      if np.max(normalizeSum - anterior) <= 0.00001:\n",
        "        break\n",
        "      else:\n",
        "        anterior = normalizeSum\n",
        "    #Retorna el vector lambda\n",
        "    return normalizeSum\n",
        "\n",
        "  #Calcula los p valores de la matriz pareada\n",
        "  def __pValues(self, matrix):\n",
        "    return matrix.sum(axis=0)\n",
        "\n",
        "  def __aleatoryConsistencyIndex(self, n):\n",
        "    rIValue = np.array([0, 0, 0.58, 0.89, 1.12, 1.26, 1.36, 1.41, 1.42, 1.49, 1.54, 1.56, 1.58])\n",
        "    if n<= 14:\n",
        "      return rIValue[n-1]\n",
        "    else:\n",
        "      return rIValue[-1]\n",
        "\n",
        "  def __consistency(self, matrix):\n",
        "    lambdaVector = self.__lambda(matrix)\n",
        "    lambdaMax = np.dot(lambdaVector, self.__pValues(matrix))\n",
        "    #Número de críterios\n",
        "    n = len(matrix.index)\n",
        "    #Índice de consistencia\n",
        "    CI = (lambdaMax - n)/(n-1)\n",
        "    #Índice aleatorio de consistencia\n",
        "    RI = self.__aleatoryConsistencyIndex(n)\n",
        "    CR = CI/RI\n",
        "    return '{0}%'.format(np.around(CR*100, decimals = 2)) , lambdaVector\n",
        "\n",
        "  def __clasificationAHP(self, arguments):\n",
        "    weightedScore = []\n",
        "    sol = {'Alternativa': self.materialsVector}\n",
        "    for i in self.propertiesVector:\n",
        "      sol[i] = arguments[i]\n",
        "    sol = pd.DataFrame(data=sol).set_index('Alternativa')\n",
        "    for i in range(len(self.materialsVector)):\n",
        "      weightedScore.append(np.dot(sol.iloc[i],arguments['Pesos']))\n",
        "    sol['Puntaje Ponderado'] = weightedScore\n",
        "    sol['Clasificación'] = sol['Puntaje Ponderado'].rank(ascending = False)\n",
        "    return sol\n",
        "\n",
        "  def mAHP(self, criterios, arrays=0, pesos=True):\n",
        "    arguments = dict()\n",
        "    consistentRatios = []\n",
        "    i = 1\n",
        "    #Matriz de consistencia para las propiedades\n",
        "    a, b = self.__consistency(criterios)\n",
        "    arguments['Pesos'] = b\n",
        "    if pesos:\n",
        "      consistentRatios.append(a)\n",
        "      arguments['CR'] = consistentRatios\n",
        "      return arguments\n",
        "    else:\n",
        "      #Matriz de consistencia para los materiales\n",
        "      for matrix in arrays.values():\n",
        "        a, b = self.__consistency(matrix)\n",
        "        consistentRatios.append(a)\n",
        "        arguments['C{0}'.format(i)] = b\n",
        "        i += 1\n",
        "      arguments['CR'] = consistentRatios\n",
        "      sol = self.__clasificationAHP(arguments)\n",
        "      #Aca va la función de clasificación\n",
        "      return arguments, sol\n",
        "\n",
        "  ###################\n",
        "  ####  ELECTRE  ####\n",
        "  ###################\n",
        "\n",
        "  def __decisionalMatrix(self):\n",
        "    decsMatrix = dict()\n",
        "    decsMatrix = {'Alternativa': self.propertiesVector.to_numpy()}\n",
        "    for i in range(len(self.materialsVector)):\n",
        "      decsMatrix[self.materialsVector[i]] =  self.DB[self.materialsVector[i]]\n",
        "    return pd.DataFrame.from_dict(decsMatrix).set_index('Alternativa').transpose()\n",
        "    \n",
        "  def __normalize(self):\n",
        "    decisional = self.__decisionalMatrix()\n",
        "    sumRij2 = []\n",
        "    for col in decisional:\n",
        "      if self.intention['Intención'].loc[col] == 'Max':\n",
        "        decisional[col] = decisional[col]/np.sqrt((decisional[col]**2).sum())\n",
        "      else:\n",
        "        decisional[col] = (1/decisional[col])/np.sqrt((1/(decisional[col]**2)).sum())\n",
        "    return decisional\n",
        "\n",
        "  def __weights(self, weights, criteria, ahp):\n",
        "    if ahp:\n",
        "      return self.mAHP(criteria, pesos=True)['Pesos']\n",
        "    else:\n",
        "      return weights\n",
        "\n",
        "  def __weightedMatrix(self, decisional, weights):\n",
        "    i = 0\n",
        "    for col in decisional:\n",
        "      decisional[col] = decisional[col]*weights[i]\n",
        "      i += 1\n",
        "    return decisional\n",
        "  \n",
        "  def __weightedComparison(self, vSup, vInf, weights):\n",
        "    totalWight = 0\n",
        "    for i in range(len(vSup)):\n",
        "      if vSup[i] >= vInf[i]:\n",
        "          totalWight += weights[i]\n",
        "    return totalWight\n",
        "\n",
        "  def __weightedDifference(self, vSup, vInf, index, col, params):\n",
        "    dif = vSup - vInf\n",
        "    MDN = np.min(dif)\n",
        "    MDT = np.max(np.abs(dif))\n",
        "    params['{0}-{1}'.format(index, col)] = np.concatenate((dif, MDN, MDT), axis=None)\n",
        "    return params\n",
        "\n",
        "  def __concordanceMatrix(self, wMatrix, weights):\n",
        "    #Inicializar la matriz\n",
        "    params = {}\n",
        "    cMatrix = self.__cleanVsMatrix()\n",
        "    for index, row in cMatrix.iterrows():\n",
        "      for column, value in row.iteritems():\n",
        "        if index == column:\n",
        "          continue\n",
        "        else:\n",
        "          cMatrix[column].loc[index] = self.__weightedComparison(wMatrix.loc[index], wMatrix.loc[column], weights)\n",
        "          params = self.__weightedDifference(wMatrix.loc[index], wMatrix.loc[column], index, column, params)\n",
        "    diffMatrix = pd.DataFrame(params, index=np.concatenate((self.propertiesVector, 'MDN', 'MDT'), axis=None)).transpose()\n",
        "    return cMatrix, diffMatrix\n",
        "\n",
        "  def __discordanceMatrix(self, diffMatrix):\n",
        "    #Inicializar la matriz\n",
        "    dMatrix = self.__cleanVsMatrix()\n",
        "    for index, row in dMatrix.iterrows():\n",
        "      for column, value in row.iteritems():\n",
        "        if index == column:\n",
        "          continue\n",
        "        else:\n",
        "          diffIndex = '{0}-{1}'.format(index, column)\n",
        "          dMatrix[column].loc[index] = np.abs(diffMatrix['MDN'].loc[diffIndex])/np.abs(diffMatrix['MDT'].loc[diffIndex])\n",
        "    return dMatrix\n",
        "\n",
        "  #Umbral de concordancia y discordancia\n",
        "  def __valuesUCUD(self, c, d):\n",
        "    nc = c.size\n",
        "    nd = d.size\n",
        "    UC = (c.to_numpy().sum())/(nc-np.sqrt(nc))\n",
        "    UD = (d.to_numpy().sum())/(nd-np.sqrt(nd))\n",
        "    return UC, UD\n",
        "\n",
        "  #CC Dominante y DC Dominante\n",
        "  def __ccdcDominant(self, cc, uc, dc, ud):\n",
        "    ccD = cc.applymap(lambda x: 1 if x>=uc else 0)\n",
        "    dcD = dc.applymap(lambda x: 1 if x<=ud else 0)\n",
        "    return ccD, dcD\n",
        "\n",
        "  def __clasificationELECTRE(self, inf, sup):\n",
        "    sol = {'Dominancia':sup-inf}\n",
        "    sol['Clasificación'] = np.floor(sol['Dominancia'].rank(ascending = False))\n",
        "    return pd.DataFrame(sol, index = self.materialsVector)\n",
        "\n",
        "  def mELECTRE(self, weights = 0, criteria = 0, ahp=False):\n",
        "    weights = self.__weights(weights, criteria, ahp)\n",
        "    weightedMatrix = self.__weightedMatrix(self.__normalize(), weights)\n",
        "    concordanceMatrix, diffMatrix = self.__concordanceMatrix(weightedMatrix, weights)\n",
        "    discordanceMatrix = self.__discordanceMatrix(diffMatrix)\n",
        "    UC, UD = self.__valuesUCUD(concordanceMatrix, discordanceMatrix)\n",
        "    ccDominant, dcDominant = self.__ccdcDominant(concordanceMatrix, UC, discordanceMatrix, UD)\n",
        "    aggregateDominance = ccDominant.multiply(dcDominant)\n",
        "    inferior, superior = aggregateDominance.sum(axis=0), aggregateDominance.sum(axis=1)\n",
        "    sol = self.__clasificationELECTRE(inferior, superior)\n",
        "    return sol\n",
        "\n",
        "  ###################\n",
        "  ###  PROMETHEE  ###\n",
        "  ###################\n",
        "\n",
        "  def __functions(self, name, data, q, p):\n",
        "    if name=='I':\n",
        "      return data.applymap(lambda x: 1 if x> 0 else 0)\n",
        "    elif name =='II':\n",
        "      return data.applymap(lambda x: 1 if x>q else 0)\n",
        "    elif name =='III':\n",
        "      return data.applymap(lambda x: 1 if x>p else (x/p if x>0 else 0))\n",
        "    elif name =='IV':\n",
        "      return data.applymap(lambda x: 1 if x>p else (1/2 if x>q else 0))\n",
        "    elif name == 'V':\n",
        "      return data.applymap(lambda x: 1 if x>p else ((x/(p-q))+(q/(q-p)) if x>q else 0))\n",
        "    elif name == 'VI':\n",
        "      positives = data.applymap(lambda x: np.abs(x))\n",
        "      n = data.size\n",
        "      s = positives.stack().sum()/(n-np.sqrt(n))\n",
        "      return data.applymap(lambda x: 1-np.exp(-(x**2)/(2*(s**2))) if x> 0 else 0 )\n",
        "\n",
        "  def __diffMatrix(self, criterio, proper):\n",
        "    decisional = self.__decisionalMatrix()\n",
        "    tempMatrix = self.__cleanVsMatrix()\n",
        "    i = 0\n",
        "    for column in tempMatrix:\n",
        "      if criterio == 'Max':\n",
        "        tempMatrix[column] = decisional[proper] - decisional[proper].iloc[i]\n",
        "      else:\n",
        "        tempMatrix[column] = -decisional[proper] + decisional[proper].iloc[i]\n",
        "      i += 1\n",
        "    return pd.DataFrame(tempMatrix)\n",
        "\n",
        "  def __diffArrys(self, w):\n",
        "    tempMatrix = dict()\n",
        "    for index, row in self.intention.iterrows():\n",
        "      tempMatrix[index] = self.__diffMatrix(row[0], index)\n",
        "    return tempMatrix\n",
        "\n",
        "  def __alternativeMatrix(self, data, functions, q, p):\n",
        "    i = 0\n",
        "    for key in data:\n",
        "      data[key] = self.__functions(functions[i], data[key], q[i], p[i])\n",
        "      i += 1\n",
        "    return data\n",
        "\n",
        "  def __arrayPreferenceIndices(self, data, weights):\n",
        "    i = 0\n",
        "    total = self.__cleanVsMatrix()\n",
        "    for key in data:\n",
        "      total = data[key]*weights[i] + total\n",
        "      i += 1\n",
        "    return total\n",
        "\n",
        "  def __fs(self, data):\n",
        "    sol = data.copy()\n",
        "    n = len(data)-1\n",
        "    sol['FS+'] = data.sum(axis=1)/n\n",
        "    sol['FS-'] = data.sum(axis=0)/n\n",
        "    return sol[['FS+','FS-']]\n",
        "  \n",
        "  def __clasificationPROMETHEE(self, fsPositive, fsNegative):\n",
        "    sol = {'FS_N': fsPositive - fsNegative}\n",
        "    sol['Clasificación'] = sol['FS_N'].rank(ascending = False)\n",
        "    return pd.DataFrame(sol, index = self.materialsVector)\n",
        "\n",
        "  def mPROMETHEE(self, functions, q, p, weights = 0, diff = False,  criteria = 0, ahp=False):\n",
        "    weights = self.__weights(weights, criteria, ahp)\n",
        "    diffArrays = self.__diffArrys(weights)\n",
        "    if diff:\n",
        "      return diffArrays\n",
        "    alternativeMatrix = self.__alternativeMatrix(diffArrays, functions, q, p)\n",
        "    arrayPreferenceIndices = self.__arrayPreferenceIndices(alternativeMatrix, weights)\n",
        "    fs = self.__fs(arrayPreferenceIndices)\n",
        "    sol = self.__clasificationPROMETHEE(fs['FS+'], fs['FS-'])\n",
        "    return sol\n",
        "\n",
        "  ###################\n",
        "  #####  TOPSIS #####\n",
        "  ###################\n",
        "\n",
        "  def __rij2(self, decisional):\n",
        "    rij2 = decisional.applymap(lambda x: x**2)\n",
        "    return rij2, rij2.sum(axis=0)\n",
        "  \n",
        "  def __normalizedRij2(self, decisional, rij2, sum):\n",
        "    i = 0\n",
        "    for col in rij2:\n",
        "      rij2[col] = decisional[col]/np.sqrt(sum[i])\n",
        "      i += 1\n",
        "    return rij2\n",
        "\n",
        "  def __v(self, wMatrix, letter):\n",
        "    vPositive = []\n",
        "    vNegative = []\n",
        "    i = 0\n",
        "    for intention in self.intention.to_numpy():\n",
        "      if intention == 'Max':\n",
        "        vPositive.append(wMatrix.max(axis=0)[i])\n",
        "        vNegative.append(wMatrix.min(axis=0)[i])\n",
        "      else:\n",
        "        vPositive.append(wMatrix.min(axis=0)[i])\n",
        "        vNegative.append(wMatrix.max(axis=0)[i])\n",
        "      i += 1\n",
        "    sol = {'{0}+'.format(letter): vPositive, '{0}-'.format(letter): vNegative}\n",
        "    return pd.DataFrame(sol, index = self.propertiesVector)\n",
        "\n",
        "  def __distance(self, wMatrix,  vP, vM):\n",
        "    dP, dM = [], []\n",
        "    for index, row in wMatrix.iterrows():\n",
        "      dP.append(np.sqrt(((row - vP)**2).sum()))\n",
        "      dM.append(np.sqrt(((row - vM)**2).sum()))\n",
        "    sol = {'d+': dP, 'd-': dM}\n",
        "    return pd.DataFrame(sol, index=self.materialsVector)\n",
        "  \n",
        "  def __clasificationTOPSIS(self, dP, dN):\n",
        "    sol = {'P': dN/(dN+dP)}\n",
        "    sol['Clasificación'] = sol['P'].rank(ascending = False)\n",
        "    return pd.DataFrame(sol, index = self.materialsVector)\n",
        "\n",
        "  def mTOPSIS(self, weights = 0, criteria =  0, ahp = False):\n",
        "    weights = self.__weights(weights, criteria, ahp)\n",
        "    decisional = self.__decisionalMatrix()\n",
        "    rij2, sum = self.__rij2(decisional)\n",
        "    normalizedRij2 = self.__normalizedRij2(decisional, rij2, sum)\n",
        "    weightedMatrix = self.__weightedMatrix(normalizedRij2, weights)\n",
        "    v = self.__v(weightedMatrix, 'V')\n",
        "    distances = self.__distance(weightedMatrix, v['V+'], v['V-'])\n",
        "    sol = self.__clasificationTOPSIS(distances['d+'], distances['d-'])\n",
        "    return sol\n",
        "\n",
        "  ###################\n",
        "  #####  VIKOR   ####\n",
        "  ###################\n",
        "\n",
        "  def __sr(self, decisional, fP, fM, weights):\n",
        "    i = 0\n",
        "    for col in decisional:\n",
        "      decisional[col] = weights[i]*(fP[i]-decisional[col])/(fP[i]-fM[i])\n",
        "      i += 1\n",
        "    return decisional\n",
        "\n",
        "  def __siRi(self, sr):\n",
        "    si = sr.sum(axis=1)\n",
        "    Ri = sr.max(axis=1)\n",
        "    sa, Ra = np.min(si), np.min(Ri)\n",
        "    sm, Rm = np.max(si), np.max(Ri)\n",
        "    return sa, Ra, sm, Rm, si, Ri\n",
        "\n",
        "  def __clasificationVIKOR(self, s_r, v):\n",
        "    sa, Ra, sm, Rm, si, Ri = self.__siRi(s_r)\n",
        "    sol = {'Q_i': v*(si-sa)/(sm-sa)+(1-v)*(Ri-Ra)/(Rm-Ra)}\n",
        "    sol['Clasificación'] = sol['Q_i'].rank(ascending = True)\n",
        "    return pd.DataFrame(sol, index = self.materialsVector)\n",
        "\n",
        "  def mVIKOR(self, weights = 0, criteria=0, ahp = False, v=0.5):\n",
        "    weights = self.__weights(weights, criteria, ahp)\n",
        "    decisional = self.__decisionalMatrix()\n",
        "    f = self.__v(decisional, 'f')\n",
        "    s_r = self.__sr(decisional, f['f+'], f['f-'], weights)    \n",
        "    sol = self.__clasificationVIKOR(s_r, v)\n",
        "    return sol\n"
      ],
      "metadata": {
        "id": "t75tM7sxhVU5"
      },
      "execution_count": null,
      "outputs": []
    },
    {
      "cell_type": "markdown",
      "source": [
        "# Función entropia"
      ],
      "metadata": {
        "id": "i7U_OslrHx2I"
      }
    },
    {
      "cell_type": "markdown",
      "source": [
        "La siguiente función calcula los pesos por el método de entropia"
      ],
      "metadata": {
        "id": "PX6nNx74Q24r"
      }
    },
    {
      "cell_type": "code",
      "source": [
        "def entropy(data):\n",
        "  materials = data.columns[5:].values.tolist()\n",
        "  matrixE = data.set_index('No.')[data.columns[5:].values.tolist()]\n",
        "  sumaE = matrixE.sum(axis=1)\n",
        "  matrixE = matrixE.transpose()\n",
        "  mE = len(data.index)\n",
        "  hE = -1/np.log(mE)\n",
        "  for col in matrixE:\n",
        "    matrixE[col] = matrixE[col]/sumaE.loc[col]\n",
        "    matrixE[col] = hE*matrixE[col]*np.log(matrixE[col])\n",
        "  ejE = matrixE.sum().transpose()\n",
        "  djE = 1-ejE\n",
        "  sumdjE = djE.sum()\n",
        "  wjE = djE/sumdjE\n",
        "  return wjE"
      ],
      "metadata": {
        "id": "nWNuCKGcJAwQ"
      },
      "execution_count": null,
      "outputs": []
    },
    {
      "cell_type": "markdown",
      "source": [
        "# Selección de materiales"
      ],
      "metadata": {
        "id": "khzdPbP2fEIx"
      }
    },
    {
      "cell_type": "markdown",
      "source": [
        "Primero se debe crear un objeto de la clase ``` MaterialSelection```, pasandole como único argumento el Pandas DataFrame creado al leer el excel."
      ],
      "metadata": {
        "id": "kLh0m_VtY3-7"
      }
    },
    {
      "cell_type": "code",
      "source": [
        "Seleccion = MaterialSelection(data)"
      ],
      "metadata": {
        "id": "b7StRok5e8RE"
      },
      "execution_count": null,
      "outputs": []
    },
    {
      "cell_type": "markdown",
      "source": [
        "## Método AHP (Pesos y Clasificación)"
      ],
      "metadata": {
        "id": "xwdznN3ZY2uL"
      }
    },
    {
      "cell_type": "markdown",
      "source": [
        "Si queremos averiguar solo el porcentaje de CR de la matiz de criterios y los pesos, debemos correr el meétodo como se ve a continuación, en donde:\n",
        "* El primer argumento es la matriz de criterios\n",
        "* El segundo argumento es una bandera ``` pesos ``` en ``` True ```, que significa que no clasificaremos los materiales.\n",
        "* El método devuelve el %CR y un array de pesos.\n",
        "\n",
        "**Este método se usa de esta manera unicamente si queremos corroborar los pesos y el %CR**"
      ],
      "metadata": {
        "id": "ODZtjGscZoVD"
      }
    },
    {
      "cell_type": "code",
      "source": [
        "print(Seleccion.mAHP(criteria, pesos=True))"
      ],
      "metadata": {
        "colab": {
          "base_uri": "https://localhost:8080/"
        },
        "id": "EQ7ja4QMaveh",
        "outputId": "92a7ea68-48a3-4d08-e319-d1b06229e753"
      },
      "execution_count": null,
      "outputs": [
        {
          "output_type": "stream",
          "name": "stdout",
          "text": [
            "{'Pesos': array([0.41816103, 0.27070697, 0.12049985, 0.19063214]), 'CR': ['2.66%']}\n"
          ]
        }
      ]
    },
    {
      "cell_type": "markdown",
      "source": [
        "Clasificación AHP\n",
        "\n",
        "Acá si se generan los pesos internamente y clasifica los materiales. Devuelve dos matrices:\n",
        "* Una donde se encuentra el puntaje por material y criterio, los %CR para cada criterio (C_n) y los pesos obtenidos\n",
        "* La matriz de clasificación de los materiales "
      ],
      "metadata": {
        "id": "yhctykvbam92"
      }
    },
    {
      "cell_type": "code",
      "source": [
        "datosAHP, clasificacionAHP = Seleccion.mAHP(criteria, properties, pesos=False)"
      ],
      "metadata": {
        "id": "5Q8kbzCD-vLm"
      },
      "execution_count": null,
      "outputs": []
    },
    {
      "cell_type": "code",
      "source": [
        "datosAHP"
      ],
      "metadata": {
        "colab": {
          "base_uri": "https://localhost:8080/"
        },
        "id": "u6ctCqOhNoZ5",
        "outputId": "e29c5f18-a8f1-4055-c130-6337fd80362c"
      },
      "execution_count": null,
      "outputs": [
        {
          "output_type": "execute_result",
          "data": {
            "text/plain": [
              "{'C1': array([0.12195719, 0.31961826, 0.55842454]),\n",
              " 'C2': array([0.16919987, 0.44342911, 0.38737101]),\n",
              " 'C3': array([0.31961826, 0.12195719, 0.55842454]),\n",
              " 'C4': array([0.63698557, 0.25828499, 0.10472943]),\n",
              " 'CR': ['1.58%', '1.58%', '1.58%', '3.32%'],\n",
              " 'Pesos': array([0.41816103, 0.27070697, 0.12049985, 0.19063214])}"
            ]
          },
          "metadata": {},
          "execution_count": 14
        }
      ]
    },
    {
      "cell_type": "code",
      "source": [
        "clasificacionAHP"
      ],
      "metadata": {
        "colab": {
          "base_uri": "https://localhost:8080/"
        },
        "id": "U055o8bcNqTp",
        "outputId": "22b625ff-4a20-47cc-ad7f-f7980d8a220c"
      },
      "execution_count": null,
      "outputs": [
        {
          "output_type": "execute_result",
          "data": {
            "text/plain": [
              "                   C1        C2        C3        C4  Puntaje Ponderado  \\\n",
              "Alternativa                                                              \n",
              "Madera       0.121957  0.169200  0.319618  0.636986           0.256745   \n",
              "Plástico     0.319618  0.443429  0.121957  0.258285           0.317625   \n",
              "Metal        0.558425  0.387371  0.558425  0.104729           0.425630   \n",
              "\n",
              "             Clasificación  \n",
              "Alternativa                 \n",
              "Madera                 3.0  \n",
              "Plástico               2.0  \n",
              "Metal                  1.0  "
            ],
            "text/html": [
              "\n",
              "  <div id=\"df-d82b0231-2a0b-44b9-9098-8378ea7c9679\">\n",
              "    <div class=\"colab-df-container\">\n",
              "      <div>\n",
              "<style scoped>\n",
              "    .dataframe tbody tr th:only-of-type {\n",
              "        vertical-align: middle;\n",
              "    }\n",
              "\n",
              "    .dataframe tbody tr th {\n",
              "        vertical-align: top;\n",
              "    }\n",
              "\n",
              "    .dataframe thead th {\n",
              "        text-align: right;\n",
              "    }\n",
              "</style>\n",
              "<table border=\"1\" class=\"dataframe\">\n",
              "  <thead>\n",
              "    <tr style=\"text-align: right;\">\n",
              "      <th></th>\n",
              "      <th>C1</th>\n",
              "      <th>C2</th>\n",
              "      <th>C3</th>\n",
              "      <th>C4</th>\n",
              "      <th>Puntaje Ponderado</th>\n",
              "      <th>Clasificación</th>\n",
              "    </tr>\n",
              "    <tr>\n",
              "      <th>Alternativa</th>\n",
              "      <th></th>\n",
              "      <th></th>\n",
              "      <th></th>\n",
              "      <th></th>\n",
              "      <th></th>\n",
              "      <th></th>\n",
              "    </tr>\n",
              "  </thead>\n",
              "  <tbody>\n",
              "    <tr>\n",
              "      <th>Madera</th>\n",
              "      <td>0.121957</td>\n",
              "      <td>0.169200</td>\n",
              "      <td>0.319618</td>\n",
              "      <td>0.636986</td>\n",
              "      <td>0.256745</td>\n",
              "      <td>3.0</td>\n",
              "    </tr>\n",
              "    <tr>\n",
              "      <th>Plástico</th>\n",
              "      <td>0.319618</td>\n",
              "      <td>0.443429</td>\n",
              "      <td>0.121957</td>\n",
              "      <td>0.258285</td>\n",
              "      <td>0.317625</td>\n",
              "      <td>2.0</td>\n",
              "    </tr>\n",
              "    <tr>\n",
              "      <th>Metal</th>\n",
              "      <td>0.558425</td>\n",
              "      <td>0.387371</td>\n",
              "      <td>0.558425</td>\n",
              "      <td>0.104729</td>\n",
              "      <td>0.425630</td>\n",
              "      <td>1.0</td>\n",
              "    </tr>\n",
              "  </tbody>\n",
              "</table>\n",
              "</div>\n",
              "      <button class=\"colab-df-convert\" onclick=\"convertToInteractive('df-d82b0231-2a0b-44b9-9098-8378ea7c9679')\"\n",
              "              title=\"Convert this dataframe to an interactive table.\"\n",
              "              style=\"display:none;\">\n",
              "        \n",
              "  <svg xmlns=\"http://www.w3.org/2000/svg\" height=\"24px\"viewBox=\"0 0 24 24\"\n",
              "       width=\"24px\">\n",
              "    <path d=\"M0 0h24v24H0V0z\" fill=\"none\"/>\n",
              "    <path d=\"M18.56 5.44l.94 2.06.94-2.06 2.06-.94-2.06-.94-.94-2.06-.94 2.06-2.06.94zm-11 1L8.5 8.5l.94-2.06 2.06-.94-2.06-.94L8.5 2.5l-.94 2.06-2.06.94zm10 10l.94 2.06.94-2.06 2.06-.94-2.06-.94-.94-2.06-.94 2.06-2.06.94z\"/><path d=\"M17.41 7.96l-1.37-1.37c-.4-.4-.92-.59-1.43-.59-.52 0-1.04.2-1.43.59L10.3 9.45l-7.72 7.72c-.78.78-.78 2.05 0 2.83L4 21.41c.39.39.9.59 1.41.59.51 0 1.02-.2 1.41-.59l7.78-7.78 2.81-2.81c.8-.78.8-2.07 0-2.86zM5.41 20L4 18.59l7.72-7.72 1.47 1.35L5.41 20z\"/>\n",
              "  </svg>\n",
              "      </button>\n",
              "      \n",
              "  <style>\n",
              "    .colab-df-container {\n",
              "      display:flex;\n",
              "      flex-wrap:wrap;\n",
              "      gap: 12px;\n",
              "    }\n",
              "\n",
              "    .colab-df-convert {\n",
              "      background-color: #E8F0FE;\n",
              "      border: none;\n",
              "      border-radius: 50%;\n",
              "      cursor: pointer;\n",
              "      display: none;\n",
              "      fill: #1967D2;\n",
              "      height: 32px;\n",
              "      padding: 0 0 0 0;\n",
              "      width: 32px;\n",
              "    }\n",
              "\n",
              "    .colab-df-convert:hover {\n",
              "      background-color: #E2EBFA;\n",
              "      box-shadow: 0px 1px 2px rgba(60, 64, 67, 0.3), 0px 1px 3px 1px rgba(60, 64, 67, 0.15);\n",
              "      fill: #174EA6;\n",
              "    }\n",
              "\n",
              "    [theme=dark] .colab-df-convert {\n",
              "      background-color: #3B4455;\n",
              "      fill: #D2E3FC;\n",
              "    }\n",
              "\n",
              "    [theme=dark] .colab-df-convert:hover {\n",
              "      background-color: #434B5C;\n",
              "      box-shadow: 0px 1px 3px 1px rgba(0, 0, 0, 0.15);\n",
              "      filter: drop-shadow(0px 1px 2px rgba(0, 0, 0, 0.3));\n",
              "      fill: #FFFFFF;\n",
              "    }\n",
              "  </style>\n",
              "\n",
              "      <script>\n",
              "        const buttonEl =\n",
              "          document.querySelector('#df-d82b0231-2a0b-44b9-9098-8378ea7c9679 button.colab-df-convert');\n",
              "        buttonEl.style.display =\n",
              "          google.colab.kernel.accessAllowed ? 'block' : 'none';\n",
              "\n",
              "        async function convertToInteractive(key) {\n",
              "          const element = document.querySelector('#df-d82b0231-2a0b-44b9-9098-8378ea7c9679');\n",
              "          const dataTable =\n",
              "            await google.colab.kernel.invokeFunction('convertToInteractive',\n",
              "                                                     [key], {});\n",
              "          if (!dataTable) return;\n",
              "\n",
              "          const docLinkHtml = 'Like what you see? Visit the ' +\n",
              "            '<a target=\"_blank\" href=https://colab.research.google.com/notebooks/data_table.ipynb>data table notebook</a>'\n",
              "            + ' to learn more about interactive tables.';\n",
              "          element.innerHTML = '';\n",
              "          dataTable['output_type'] = 'display_data';\n",
              "          await google.colab.output.renderOutput(dataTable, element);\n",
              "          const docLink = document.createElement('div');\n",
              "          docLink.innerHTML = docLinkHtml;\n",
              "          element.appendChild(docLink);\n",
              "        }\n",
              "      </script>\n",
              "    </div>\n",
              "  </div>\n",
              "  "
            ]
          },
          "metadata": {},
          "execution_count": 15
        }
      ]
    },
    {
      "cell_type": "markdown",
      "source": [
        "## Método ELECTRE (Normal y con pesos AHP -Híbrido-)"
      ],
      "metadata": {
        "id": "RR2w_0dAbTuT"
      }
    },
    {
      "cell_type": "markdown",
      "source": [
        "### Con pesos de AHP\n",
        "Si se quiere usar los pesos de AHP, se debe traer la matriz de criterios, los argumentos que entran al método son:\n",
        "* ``` criteria ``` en donde se ingresa la matriz **criteria**, al ingresarla en la sección de entrada de datos, pertenece a la matriz de datos para calcular los pesos con AHP.\n",
        "* ``` ahp ``` en ``` True ```, para asegurar que el método se ejecutara con pesos de ahp"
      ],
      "metadata": {
        "id": "5HuoUj-pbrMp"
      }
    },
    {
      "cell_type": "code",
      "source": [
        "Seleccion.mELECTRE(criteria = criteria, ahp = True)"
      ],
      "metadata": {
        "colab": {
          "base_uri": "https://localhost:8080/"
        },
        "id": "pg_ZEf1ndBJV",
        "outputId": "1395acc0-0d7d-498d-a22c-4d6b24d0c783"
      },
      "execution_count": null,
      "outputs": [
        {
          "output_type": "execute_result",
          "data": {
            "text/plain": [
              "          Dominancia  Clasificación\n",
              "Madera            -1            2.0\n",
              "Plástico          -1            2.0\n",
              "Metal              2            1.0"
            ],
            "text/html": [
              "\n",
              "  <div id=\"df-c8f5f292-15ae-40c2-bc17-5c3c82c063d2\">\n",
              "    <div class=\"colab-df-container\">\n",
              "      <div>\n",
              "<style scoped>\n",
              "    .dataframe tbody tr th:only-of-type {\n",
              "        vertical-align: middle;\n",
              "    }\n",
              "\n",
              "    .dataframe tbody tr th {\n",
              "        vertical-align: top;\n",
              "    }\n",
              "\n",
              "    .dataframe thead th {\n",
              "        text-align: right;\n",
              "    }\n",
              "</style>\n",
              "<table border=\"1\" class=\"dataframe\">\n",
              "  <thead>\n",
              "    <tr style=\"text-align: right;\">\n",
              "      <th></th>\n",
              "      <th>Dominancia</th>\n",
              "      <th>Clasificación</th>\n",
              "    </tr>\n",
              "  </thead>\n",
              "  <tbody>\n",
              "    <tr>\n",
              "      <th>Madera</th>\n",
              "      <td>-1</td>\n",
              "      <td>2.0</td>\n",
              "    </tr>\n",
              "    <tr>\n",
              "      <th>Plástico</th>\n",
              "      <td>-1</td>\n",
              "      <td>2.0</td>\n",
              "    </tr>\n",
              "    <tr>\n",
              "      <th>Metal</th>\n",
              "      <td>2</td>\n",
              "      <td>1.0</td>\n",
              "    </tr>\n",
              "  </tbody>\n",
              "</table>\n",
              "</div>\n",
              "      <button class=\"colab-df-convert\" onclick=\"convertToInteractive('df-c8f5f292-15ae-40c2-bc17-5c3c82c063d2')\"\n",
              "              title=\"Convert this dataframe to an interactive table.\"\n",
              "              style=\"display:none;\">\n",
              "        \n",
              "  <svg xmlns=\"http://www.w3.org/2000/svg\" height=\"24px\"viewBox=\"0 0 24 24\"\n",
              "       width=\"24px\">\n",
              "    <path d=\"M0 0h24v24H0V0z\" fill=\"none\"/>\n",
              "    <path d=\"M18.56 5.44l.94 2.06.94-2.06 2.06-.94-2.06-.94-.94-2.06-.94 2.06-2.06.94zm-11 1L8.5 8.5l.94-2.06 2.06-.94-2.06-.94L8.5 2.5l-.94 2.06-2.06.94zm10 10l.94 2.06.94-2.06 2.06-.94-2.06-.94-.94-2.06-.94 2.06-2.06.94z\"/><path d=\"M17.41 7.96l-1.37-1.37c-.4-.4-.92-.59-1.43-.59-.52 0-1.04.2-1.43.59L10.3 9.45l-7.72 7.72c-.78.78-.78 2.05 0 2.83L4 21.41c.39.39.9.59 1.41.59.51 0 1.02-.2 1.41-.59l7.78-7.78 2.81-2.81c.8-.78.8-2.07 0-2.86zM5.41 20L4 18.59l7.72-7.72 1.47 1.35L5.41 20z\"/>\n",
              "  </svg>\n",
              "      </button>\n",
              "      \n",
              "  <style>\n",
              "    .colab-df-container {\n",
              "      display:flex;\n",
              "      flex-wrap:wrap;\n",
              "      gap: 12px;\n",
              "    }\n",
              "\n",
              "    .colab-df-convert {\n",
              "      background-color: #E8F0FE;\n",
              "      border: none;\n",
              "      border-radius: 50%;\n",
              "      cursor: pointer;\n",
              "      display: none;\n",
              "      fill: #1967D2;\n",
              "      height: 32px;\n",
              "      padding: 0 0 0 0;\n",
              "      width: 32px;\n",
              "    }\n",
              "\n",
              "    .colab-df-convert:hover {\n",
              "      background-color: #E2EBFA;\n",
              "      box-shadow: 0px 1px 2px rgba(60, 64, 67, 0.3), 0px 1px 3px 1px rgba(60, 64, 67, 0.15);\n",
              "      fill: #174EA6;\n",
              "    }\n",
              "\n",
              "    [theme=dark] .colab-df-convert {\n",
              "      background-color: #3B4455;\n",
              "      fill: #D2E3FC;\n",
              "    }\n",
              "\n",
              "    [theme=dark] .colab-df-convert:hover {\n",
              "      background-color: #434B5C;\n",
              "      box-shadow: 0px 1px 3px 1px rgba(0, 0, 0, 0.15);\n",
              "      filter: drop-shadow(0px 1px 2px rgba(0, 0, 0, 0.3));\n",
              "      fill: #FFFFFF;\n",
              "    }\n",
              "  </style>\n",
              "\n",
              "      <script>\n",
              "        const buttonEl =\n",
              "          document.querySelector('#df-c8f5f292-15ae-40c2-bc17-5c3c82c063d2 button.colab-df-convert');\n",
              "        buttonEl.style.display =\n",
              "          google.colab.kernel.accessAllowed ? 'block' : 'none';\n",
              "\n",
              "        async function convertToInteractive(key) {\n",
              "          const element = document.querySelector('#df-c8f5f292-15ae-40c2-bc17-5c3c82c063d2');\n",
              "          const dataTable =\n",
              "            await google.colab.kernel.invokeFunction('convertToInteractive',\n",
              "                                                     [key], {});\n",
              "          if (!dataTable) return;\n",
              "\n",
              "          const docLinkHtml = 'Like what you see? Visit the ' +\n",
              "            '<a target=\"_blank\" href=https://colab.research.google.com/notebooks/data_table.ipynb>data table notebook</a>'\n",
              "            + ' to learn more about interactive tables.';\n",
              "          element.innerHTML = '';\n",
              "          dataTable['output_type'] = 'display_data';\n",
              "          await google.colab.output.renderOutput(dataTable, element);\n",
              "          const docLink = document.createElement('div');\n",
              "          docLink.innerHTML = docLinkHtml;\n",
              "          element.appendChild(docLink);\n",
              "        }\n",
              "      </script>\n",
              "    </div>\n",
              "  </div>\n",
              "  "
            ]
          },
          "metadata": {},
          "execution_count": 16
        }
      ]
    },
    {
      "cell_type": "markdown",
      "source": [
        "### Con pesos definidos por el usuario"
      ],
      "metadata": {
        "id": "9aLD7N0JcPHv"
      }
    },
    {
      "cell_type": "markdown",
      "source": [
        "Se ingresan primero los pesos como un ``` np.array ```"
      ],
      "metadata": {
        "id": "Prqfw8JpciPz"
      }
    },
    {
      "cell_type": "code",
      "source": [
        "pesos = np.array([0.1, 0.15, 0.3, 0.1, 0.35])"
      ],
      "metadata": {
        "id": "SzwYm-dachSu"
      },
      "execution_count": null,
      "outputs": []
    },
    {
      "cell_type": "markdown",
      "source": [
        "La entradas al método son:\n",
        "* Los pesos, previamente definidos.\n",
        "\n"
      ],
      "metadata": {
        "id": "h26UnGCucvSs"
      }
    },
    {
      "cell_type": "code",
      "source": [
        "Seleccion.mELECTRE(pesos)"
      ],
      "metadata": {
        "colab": {
          "base_uri": "https://localhost:8080/"
        },
        "id": "HDPpv-ijfIZ9",
        "outputId": "830ab0fb-25d3-45ec-d01e-216b537fd122"
      },
      "execution_count": null,
      "outputs": [
        {
          "output_type": "execute_result",
          "data": {
            "text/plain": [
              "          Dominancia  Clasificación\n",
              "Madera            -1            2.0\n",
              "Plástico          -1            2.0\n",
              "Metal              2            1.0"
            ],
            "text/html": [
              "\n",
              "  <div id=\"df-8006aab5-fe80-4f19-b283-f62c384cc0a2\">\n",
              "    <div class=\"colab-df-container\">\n",
              "      <div>\n",
              "<style scoped>\n",
              "    .dataframe tbody tr th:only-of-type {\n",
              "        vertical-align: middle;\n",
              "    }\n",
              "\n",
              "    .dataframe tbody tr th {\n",
              "        vertical-align: top;\n",
              "    }\n",
              "\n",
              "    .dataframe thead th {\n",
              "        text-align: right;\n",
              "    }\n",
              "</style>\n",
              "<table border=\"1\" class=\"dataframe\">\n",
              "  <thead>\n",
              "    <tr style=\"text-align: right;\">\n",
              "      <th></th>\n",
              "      <th>Dominancia</th>\n",
              "      <th>Clasificación</th>\n",
              "    </tr>\n",
              "  </thead>\n",
              "  <tbody>\n",
              "    <tr>\n",
              "      <th>Madera</th>\n",
              "      <td>-1</td>\n",
              "      <td>2.0</td>\n",
              "    </tr>\n",
              "    <tr>\n",
              "      <th>Plástico</th>\n",
              "      <td>-1</td>\n",
              "      <td>2.0</td>\n",
              "    </tr>\n",
              "    <tr>\n",
              "      <th>Metal</th>\n",
              "      <td>2</td>\n",
              "      <td>1.0</td>\n",
              "    </tr>\n",
              "  </tbody>\n",
              "</table>\n",
              "</div>\n",
              "      <button class=\"colab-df-convert\" onclick=\"convertToInteractive('df-8006aab5-fe80-4f19-b283-f62c384cc0a2')\"\n",
              "              title=\"Convert this dataframe to an interactive table.\"\n",
              "              style=\"display:none;\">\n",
              "        \n",
              "  <svg xmlns=\"http://www.w3.org/2000/svg\" height=\"24px\"viewBox=\"0 0 24 24\"\n",
              "       width=\"24px\">\n",
              "    <path d=\"M0 0h24v24H0V0z\" fill=\"none\"/>\n",
              "    <path d=\"M18.56 5.44l.94 2.06.94-2.06 2.06-.94-2.06-.94-.94-2.06-.94 2.06-2.06.94zm-11 1L8.5 8.5l.94-2.06 2.06-.94-2.06-.94L8.5 2.5l-.94 2.06-2.06.94zm10 10l.94 2.06.94-2.06 2.06-.94-2.06-.94-.94-2.06-.94 2.06-2.06.94z\"/><path d=\"M17.41 7.96l-1.37-1.37c-.4-.4-.92-.59-1.43-.59-.52 0-1.04.2-1.43.59L10.3 9.45l-7.72 7.72c-.78.78-.78 2.05 0 2.83L4 21.41c.39.39.9.59 1.41.59.51 0 1.02-.2 1.41-.59l7.78-7.78 2.81-2.81c.8-.78.8-2.07 0-2.86zM5.41 20L4 18.59l7.72-7.72 1.47 1.35L5.41 20z\"/>\n",
              "  </svg>\n",
              "      </button>\n",
              "      \n",
              "  <style>\n",
              "    .colab-df-container {\n",
              "      display:flex;\n",
              "      flex-wrap:wrap;\n",
              "      gap: 12px;\n",
              "    }\n",
              "\n",
              "    .colab-df-convert {\n",
              "      background-color: #E8F0FE;\n",
              "      border: none;\n",
              "      border-radius: 50%;\n",
              "      cursor: pointer;\n",
              "      display: none;\n",
              "      fill: #1967D2;\n",
              "      height: 32px;\n",
              "      padding: 0 0 0 0;\n",
              "      width: 32px;\n",
              "    }\n",
              "\n",
              "    .colab-df-convert:hover {\n",
              "      background-color: #E2EBFA;\n",
              "      box-shadow: 0px 1px 2px rgba(60, 64, 67, 0.3), 0px 1px 3px 1px rgba(60, 64, 67, 0.15);\n",
              "      fill: #174EA6;\n",
              "    }\n",
              "\n",
              "    [theme=dark] .colab-df-convert {\n",
              "      background-color: #3B4455;\n",
              "      fill: #D2E3FC;\n",
              "    }\n",
              "\n",
              "    [theme=dark] .colab-df-convert:hover {\n",
              "      background-color: #434B5C;\n",
              "      box-shadow: 0px 1px 3px 1px rgba(0, 0, 0, 0.15);\n",
              "      filter: drop-shadow(0px 1px 2px rgba(0, 0, 0, 0.3));\n",
              "      fill: #FFFFFF;\n",
              "    }\n",
              "  </style>\n",
              "\n",
              "      <script>\n",
              "        const buttonEl =\n",
              "          document.querySelector('#df-8006aab5-fe80-4f19-b283-f62c384cc0a2 button.colab-df-convert');\n",
              "        buttonEl.style.display =\n",
              "          google.colab.kernel.accessAllowed ? 'block' : 'none';\n",
              "\n",
              "        async function convertToInteractive(key) {\n",
              "          const element = document.querySelector('#df-8006aab5-fe80-4f19-b283-f62c384cc0a2');\n",
              "          const dataTable =\n",
              "            await google.colab.kernel.invokeFunction('convertToInteractive',\n",
              "                                                     [key], {});\n",
              "          if (!dataTable) return;\n",
              "\n",
              "          const docLinkHtml = 'Like what you see? Visit the ' +\n",
              "            '<a target=\"_blank\" href=https://colab.research.google.com/notebooks/data_table.ipynb>data table notebook</a>'\n",
              "            + ' to learn more about interactive tables.';\n",
              "          element.innerHTML = '';\n",
              "          dataTable['output_type'] = 'display_data';\n",
              "          await google.colab.output.renderOutput(dataTable, element);\n",
              "          const docLink = document.createElement('div');\n",
              "          docLink.innerHTML = docLinkHtml;\n",
              "          element.appendChild(docLink);\n",
              "        }\n",
              "      </script>\n",
              "    </div>\n",
              "  </div>\n",
              "  "
            ]
          },
          "metadata": {},
          "execution_count": 18
        }
      ]
    },
    {
      "cell_type": "markdown",
      "source": [
        "## Método PROMETHEE (Normal y con pesos AHP -Híbrido-)"
      ],
      "metadata": {
        "id": "LQ5Ddl7ddPA-"
      }
    },
    {
      "cell_type": "markdown",
      "source": [
        "Primero se deben definir tres listas:\n",
        "* Funciones : en donde se estableceran el tipo de funciones a usar, en números romanos.\n",
        "* q : los parametros q para esas funciones, de no tener, se debe colocar un cero o número negativo.\n",
        "* p : los parametros p para esas funciones, de no tener, se debe colocar un cero o número negativo."
      ],
      "metadata": {
        "id": "p9txxT3ddhIz"
      }
    },
    {
      "cell_type": "code",
      "source": [
        "funciones = ['II', 'IV', 'V', 'III', 'VI']\n",
        "q = [ 10, 1, 0.03, 0, 0]\n",
        "p = [ 0, 2, 0.25, 1.8, 0]"
      ],
      "metadata": {
        "id": "VSPpieoEdgnm"
      },
      "execution_count": null,
      "outputs": []
    },
    {
      "cell_type": "markdown",
      "source": [
        "Si no se sabe a priori que funciones o datos q y p usar, se puede el método PROMETHEE de la siguiente manera para ver el comportamiento de cada matriz:"
      ],
      "metadata": {
        "id": "IfmrhAsiiv1V"
      }
    },
    {
      "cell_type": "markdown",
      "source": [
        "### Matriz de diferenias"
      ],
      "metadata": {
        "id": "Yo4oqjZ-j44l"
      }
    },
    {
      "cell_type": "code",
      "source": [
        "output = Seleccion.mPROMETHEE(0, 0, 0, diff=True)"
      ],
      "metadata": {
        "id": "pMF3df1jj_zk"
      },
      "execution_count": null,
      "outputs": []
    },
    {
      "cell_type": "code",
      "source": [
        "for key in output:\n",
        "  print(\"Matriz\", key)\n",
        "  print(output[key])\n",
        "  print()"
      ],
      "metadata": {
        "colab": {
          "base_uri": "https://localhost:8080/"
        },
        "id": "0CIAjkYnouwY",
        "outputId": "d7071558-ae75-4104-85bd-9f64fa334527"
      },
      "execution_count": null,
      "outputs": [
        {
          "output_type": "stream",
          "name": "stdout",
          "text": [
            "Matriz C1\n",
            "          Madera  Plástico  Metal\n",
            "Madera       0.0     -50.0 -130.0\n",
            "Plástico    50.0       0.0  -80.0\n",
            "Metal      130.0      80.0    0.0\n",
            "\n",
            "Matriz C2\n",
            "          Madera  Plástico   Metal\n",
            "Madera       0.0     500.0  7300.0\n",
            "Plástico  -500.0       0.0  6800.0\n",
            "Metal    -7300.0   -6800.0     0.0\n",
            "\n",
            "Matriz C3\n",
            "          Madera  Plástico  Metal\n",
            "Madera       0.0      -4.0 -199.0\n",
            "Plástico     4.0       0.0 -195.0\n",
            "Metal      199.0     195.0    0.0\n",
            "\n",
            "Matriz C4\n",
            "          Madera  Plástico  Metal\n",
            "Madera       0.0       0.2    0.5\n",
            "Plástico    -0.2       0.0    0.3\n",
            "Metal       -0.5      -0.3    0.0\n",
            "\n"
          ]
        }
      ]
    },
    {
      "cell_type": "markdown",
      "source": [
        "### Con pesos de AHP\n",
        "Si se quiere usar los pesos de AHP, se debe traer la matriz de criterios, los argumentos que entran al método son:\n",
        "* ``` criteria ``` en donde se ingresa la matriz **criteria**, al ingresarla en la sección de entrada de datos, pertenece a la matriz de datos para calcular los pesos con AHP.\n",
        "* ``` ahp ``` en ``` True ```, para asegurar que el método se ejecutara con pesos de ahp"
      ],
      "metadata": {
        "id": "P5ki8nxydVhV"
      }
    },
    {
      "cell_type": "code",
      "source": [
        "Seleccion.mPROMETHEE(funciones, q, p, criteria = criteria, ahp = True)"
      ],
      "metadata": {
        "colab": {
          "base_uri": "https://localhost:8080/"
        },
        "id": "yMn8sorFdWRX",
        "outputId": "a0704a3a-6466-43e2-8aa0-e9bae34f3159"
      },
      "execution_count": null,
      "outputs": [
        {
          "output_type": "execute_result",
          "data": {
            "text/plain": [
              "              FS_N  Clasificación\n",
              "Madera   -0.230887            3.0\n",
              "Plástico  0.005295            2.0\n",
              "Metal     0.225591            1.0"
            ],
            "text/html": [
              "\n",
              "  <div id=\"df-3fcc737e-12f2-405e-9278-438ba0c2fba9\">\n",
              "    <div class=\"colab-df-container\">\n",
              "      <div>\n",
              "<style scoped>\n",
              "    .dataframe tbody tr th:only-of-type {\n",
              "        vertical-align: middle;\n",
              "    }\n",
              "\n",
              "    .dataframe tbody tr th {\n",
              "        vertical-align: top;\n",
              "    }\n",
              "\n",
              "    .dataframe thead th {\n",
              "        text-align: right;\n",
              "    }\n",
              "</style>\n",
              "<table border=\"1\" class=\"dataframe\">\n",
              "  <thead>\n",
              "    <tr style=\"text-align: right;\">\n",
              "      <th></th>\n",
              "      <th>FS_N</th>\n",
              "      <th>Clasificación</th>\n",
              "    </tr>\n",
              "  </thead>\n",
              "  <tbody>\n",
              "    <tr>\n",
              "      <th>Madera</th>\n",
              "      <td>-0.230887</td>\n",
              "      <td>3.0</td>\n",
              "    </tr>\n",
              "    <tr>\n",
              "      <th>Plástico</th>\n",
              "      <td>0.005295</td>\n",
              "      <td>2.0</td>\n",
              "    </tr>\n",
              "    <tr>\n",
              "      <th>Metal</th>\n",
              "      <td>0.225591</td>\n",
              "      <td>1.0</td>\n",
              "    </tr>\n",
              "  </tbody>\n",
              "</table>\n",
              "</div>\n",
              "      <button class=\"colab-df-convert\" onclick=\"convertToInteractive('df-3fcc737e-12f2-405e-9278-438ba0c2fba9')\"\n",
              "              title=\"Convert this dataframe to an interactive table.\"\n",
              "              style=\"display:none;\">\n",
              "        \n",
              "  <svg xmlns=\"http://www.w3.org/2000/svg\" height=\"24px\"viewBox=\"0 0 24 24\"\n",
              "       width=\"24px\">\n",
              "    <path d=\"M0 0h24v24H0V0z\" fill=\"none\"/>\n",
              "    <path d=\"M18.56 5.44l.94 2.06.94-2.06 2.06-.94-2.06-.94-.94-2.06-.94 2.06-2.06.94zm-11 1L8.5 8.5l.94-2.06 2.06-.94-2.06-.94L8.5 2.5l-.94 2.06-2.06.94zm10 10l.94 2.06.94-2.06 2.06-.94-2.06-.94-.94-2.06-.94 2.06-2.06.94z\"/><path d=\"M17.41 7.96l-1.37-1.37c-.4-.4-.92-.59-1.43-.59-.52 0-1.04.2-1.43.59L10.3 9.45l-7.72 7.72c-.78.78-.78 2.05 0 2.83L4 21.41c.39.39.9.59 1.41.59.51 0 1.02-.2 1.41-.59l7.78-7.78 2.81-2.81c.8-.78.8-2.07 0-2.86zM5.41 20L4 18.59l7.72-7.72 1.47 1.35L5.41 20z\"/>\n",
              "  </svg>\n",
              "      </button>\n",
              "      \n",
              "  <style>\n",
              "    .colab-df-container {\n",
              "      display:flex;\n",
              "      flex-wrap:wrap;\n",
              "      gap: 12px;\n",
              "    }\n",
              "\n",
              "    .colab-df-convert {\n",
              "      background-color: #E8F0FE;\n",
              "      border: none;\n",
              "      border-radius: 50%;\n",
              "      cursor: pointer;\n",
              "      display: none;\n",
              "      fill: #1967D2;\n",
              "      height: 32px;\n",
              "      padding: 0 0 0 0;\n",
              "      width: 32px;\n",
              "    }\n",
              "\n",
              "    .colab-df-convert:hover {\n",
              "      background-color: #E2EBFA;\n",
              "      box-shadow: 0px 1px 2px rgba(60, 64, 67, 0.3), 0px 1px 3px 1px rgba(60, 64, 67, 0.15);\n",
              "      fill: #174EA6;\n",
              "    }\n",
              "\n",
              "    [theme=dark] .colab-df-convert {\n",
              "      background-color: #3B4455;\n",
              "      fill: #D2E3FC;\n",
              "    }\n",
              "\n",
              "    [theme=dark] .colab-df-convert:hover {\n",
              "      background-color: #434B5C;\n",
              "      box-shadow: 0px 1px 3px 1px rgba(0, 0, 0, 0.15);\n",
              "      filter: drop-shadow(0px 1px 2px rgba(0, 0, 0, 0.3));\n",
              "      fill: #FFFFFF;\n",
              "    }\n",
              "  </style>\n",
              "\n",
              "      <script>\n",
              "        const buttonEl =\n",
              "          document.querySelector('#df-3fcc737e-12f2-405e-9278-438ba0c2fba9 button.colab-df-convert');\n",
              "        buttonEl.style.display =\n",
              "          google.colab.kernel.accessAllowed ? 'block' : 'none';\n",
              "\n",
              "        async function convertToInteractive(key) {\n",
              "          const element = document.querySelector('#df-3fcc737e-12f2-405e-9278-438ba0c2fba9');\n",
              "          const dataTable =\n",
              "            await google.colab.kernel.invokeFunction('convertToInteractive',\n",
              "                                                     [key], {});\n",
              "          if (!dataTable) return;\n",
              "\n",
              "          const docLinkHtml = 'Like what you see? Visit the ' +\n",
              "            '<a target=\"_blank\" href=https://colab.research.google.com/notebooks/data_table.ipynb>data table notebook</a>'\n",
              "            + ' to learn more about interactive tables.';\n",
              "          element.innerHTML = '';\n",
              "          dataTable['output_type'] = 'display_data';\n",
              "          await google.colab.output.renderOutput(dataTable, element);\n",
              "          const docLink = document.createElement('div');\n",
              "          docLink.innerHTML = docLinkHtml;\n",
              "          element.appendChild(docLink);\n",
              "        }\n",
              "      </script>\n",
              "    </div>\n",
              "  </div>\n",
              "  "
            ]
          },
          "metadata": {},
          "execution_count": 22
        }
      ]
    },
    {
      "cell_type": "markdown",
      "source": [
        "### Con pesos definidos por el usuario"
      ],
      "metadata": {
        "id": "ihr-9vvcdaT7"
      }
    },
    {
      "cell_type": "markdown",
      "source": [
        "Se ingresan primero los pesos como un ``` np.array ```"
      ],
      "metadata": {
        "id": "tTPhst-1en8s"
      }
    },
    {
      "cell_type": "code",
      "source": [
        "pesos = np.array([0.1, 0.15, 0.3, 0.1, 0.35])"
      ],
      "metadata": {
        "id": "p2aonJvhenhn"
      },
      "execution_count": null,
      "outputs": []
    },
    {
      "cell_type": "markdown",
      "source": [
        "La entradas al método son:\n",
        "* Las listas ``` funciones, q, p``` previamente definidas.\n",
        "* Los pesos, previamente definidos."
      ],
      "metadata": {
        "id": "fpdZDEZieX-7"
      }
    },
    {
      "cell_type": "code",
      "source": [
        "Seleccion.mPROMETHEE(funciones, q, p, pesos)"
      ],
      "metadata": {
        "colab": {
          "base_uri": "https://localhost:8080/"
        },
        "id": "lYOCm2BFaQWH",
        "outputId": "1c0a9233-e41b-40f7-839c-50b12ce604b2"
      },
      "execution_count": null,
      "outputs": [
        {
          "output_type": "execute_result",
          "data": {
            "text/plain": [
              "              FS_N  Clasificación\n",
              "Madera   -0.230556            3.0\n",
              "Plástico  0.002778            2.0\n",
              "Metal     0.227778            1.0"
            ],
            "text/html": [
              "\n",
              "  <div id=\"df-cd9a7858-d646-490e-bf43-015adde5928c\">\n",
              "    <div class=\"colab-df-container\">\n",
              "      <div>\n",
              "<style scoped>\n",
              "    .dataframe tbody tr th:only-of-type {\n",
              "        vertical-align: middle;\n",
              "    }\n",
              "\n",
              "    .dataframe tbody tr th {\n",
              "        vertical-align: top;\n",
              "    }\n",
              "\n",
              "    .dataframe thead th {\n",
              "        text-align: right;\n",
              "    }\n",
              "</style>\n",
              "<table border=\"1\" class=\"dataframe\">\n",
              "  <thead>\n",
              "    <tr style=\"text-align: right;\">\n",
              "      <th></th>\n",
              "      <th>FS_N</th>\n",
              "      <th>Clasificación</th>\n",
              "    </tr>\n",
              "  </thead>\n",
              "  <tbody>\n",
              "    <tr>\n",
              "      <th>Madera</th>\n",
              "      <td>-0.230556</td>\n",
              "      <td>3.0</td>\n",
              "    </tr>\n",
              "    <tr>\n",
              "      <th>Plástico</th>\n",
              "      <td>0.002778</td>\n",
              "      <td>2.0</td>\n",
              "    </tr>\n",
              "    <tr>\n",
              "      <th>Metal</th>\n",
              "      <td>0.227778</td>\n",
              "      <td>1.0</td>\n",
              "    </tr>\n",
              "  </tbody>\n",
              "</table>\n",
              "</div>\n",
              "      <button class=\"colab-df-convert\" onclick=\"convertToInteractive('df-cd9a7858-d646-490e-bf43-015adde5928c')\"\n",
              "              title=\"Convert this dataframe to an interactive table.\"\n",
              "              style=\"display:none;\">\n",
              "        \n",
              "  <svg xmlns=\"http://www.w3.org/2000/svg\" height=\"24px\"viewBox=\"0 0 24 24\"\n",
              "       width=\"24px\">\n",
              "    <path d=\"M0 0h24v24H0V0z\" fill=\"none\"/>\n",
              "    <path d=\"M18.56 5.44l.94 2.06.94-2.06 2.06-.94-2.06-.94-.94-2.06-.94 2.06-2.06.94zm-11 1L8.5 8.5l.94-2.06 2.06-.94-2.06-.94L8.5 2.5l-.94 2.06-2.06.94zm10 10l.94 2.06.94-2.06 2.06-.94-2.06-.94-.94-2.06-.94 2.06-2.06.94z\"/><path d=\"M17.41 7.96l-1.37-1.37c-.4-.4-.92-.59-1.43-.59-.52 0-1.04.2-1.43.59L10.3 9.45l-7.72 7.72c-.78.78-.78 2.05 0 2.83L4 21.41c.39.39.9.59 1.41.59.51 0 1.02-.2 1.41-.59l7.78-7.78 2.81-2.81c.8-.78.8-2.07 0-2.86zM5.41 20L4 18.59l7.72-7.72 1.47 1.35L5.41 20z\"/>\n",
              "  </svg>\n",
              "      </button>\n",
              "      \n",
              "  <style>\n",
              "    .colab-df-container {\n",
              "      display:flex;\n",
              "      flex-wrap:wrap;\n",
              "      gap: 12px;\n",
              "    }\n",
              "\n",
              "    .colab-df-convert {\n",
              "      background-color: #E8F0FE;\n",
              "      border: none;\n",
              "      border-radius: 50%;\n",
              "      cursor: pointer;\n",
              "      display: none;\n",
              "      fill: #1967D2;\n",
              "      height: 32px;\n",
              "      padding: 0 0 0 0;\n",
              "      width: 32px;\n",
              "    }\n",
              "\n",
              "    .colab-df-convert:hover {\n",
              "      background-color: #E2EBFA;\n",
              "      box-shadow: 0px 1px 2px rgba(60, 64, 67, 0.3), 0px 1px 3px 1px rgba(60, 64, 67, 0.15);\n",
              "      fill: #174EA6;\n",
              "    }\n",
              "\n",
              "    [theme=dark] .colab-df-convert {\n",
              "      background-color: #3B4455;\n",
              "      fill: #D2E3FC;\n",
              "    }\n",
              "\n",
              "    [theme=dark] .colab-df-convert:hover {\n",
              "      background-color: #434B5C;\n",
              "      box-shadow: 0px 1px 3px 1px rgba(0, 0, 0, 0.15);\n",
              "      filter: drop-shadow(0px 1px 2px rgba(0, 0, 0, 0.3));\n",
              "      fill: #FFFFFF;\n",
              "    }\n",
              "  </style>\n",
              "\n",
              "      <script>\n",
              "        const buttonEl =\n",
              "          document.querySelector('#df-cd9a7858-d646-490e-bf43-015adde5928c button.colab-df-convert');\n",
              "        buttonEl.style.display =\n",
              "          google.colab.kernel.accessAllowed ? 'block' : 'none';\n",
              "\n",
              "        async function convertToInteractive(key) {\n",
              "          const element = document.querySelector('#df-cd9a7858-d646-490e-bf43-015adde5928c');\n",
              "          const dataTable =\n",
              "            await google.colab.kernel.invokeFunction('convertToInteractive',\n",
              "                                                     [key], {});\n",
              "          if (!dataTable) return;\n",
              "\n",
              "          const docLinkHtml = 'Like what you see? Visit the ' +\n",
              "            '<a target=\"_blank\" href=https://colab.research.google.com/notebooks/data_table.ipynb>data table notebook</a>'\n",
              "            + ' to learn more about interactive tables.';\n",
              "          element.innerHTML = '';\n",
              "          dataTable['output_type'] = 'display_data';\n",
              "          await google.colab.output.renderOutput(dataTable, element);\n",
              "          const docLink = document.createElement('div');\n",
              "          docLink.innerHTML = docLinkHtml;\n",
              "          element.appendChild(docLink);\n",
              "        }\n",
              "      </script>\n",
              "    </div>\n",
              "  </div>\n",
              "  "
            ]
          },
          "metadata": {},
          "execution_count": 24
        }
      ]
    },
    {
      "cell_type": "markdown",
      "source": [
        "## Método TOPSIS (Normal y con pesos AHP -Híbrido-)"
      ],
      "metadata": {
        "id": "SNEmsZHdgY_E"
      }
    },
    {
      "cell_type": "markdown",
      "source": [
        "### Con pesos de AHP\n",
        "Si se quiere usar los pesos de AHP, se debe traer la matriz de criterios, los argumentos que entran al método son:\n",
        "* ``` criteria ``` en donde se ingresa la matriz **criteria**, al ingresarla en la sección de entrada de datos, pertenece a la matriz de datos para calcular los pesos con AHP.\n",
        "* ``` ahp ``` en ``` True ```, para asegurar que el método se ejecutara con pesos de ahp"
      ],
      "metadata": {
        "id": "zqFfo5BUgqc8"
      }
    },
    {
      "cell_type": "code",
      "source": [
        "Seleccion.mTOPSIS(criteria = criteria, ahp = True)"
      ],
      "metadata": {
        "colab": {
          "base_uri": "https://localhost:8080/"
        },
        "id": "yV3u9bobg2RW",
        "outputId": "b5737b00-0fae-488c-eb58-2a4373e6aada"
      },
      "execution_count": null,
      "outputs": [
        {
          "output_type": "execute_result",
          "data": {
            "text/plain": [
              "                 P  Clasificación\n",
              "Madera    0.429010            3.0\n",
              "Plástico  0.533529            2.0\n",
              "Metal     0.570990            1.0"
            ],
            "text/html": [
              "\n",
              "  <div id=\"df-3cce54ae-8ff5-451a-a17d-1e2cd9a69ce7\">\n",
              "    <div class=\"colab-df-container\">\n",
              "      <div>\n",
              "<style scoped>\n",
              "    .dataframe tbody tr th:only-of-type {\n",
              "        vertical-align: middle;\n",
              "    }\n",
              "\n",
              "    .dataframe tbody tr th {\n",
              "        vertical-align: top;\n",
              "    }\n",
              "\n",
              "    .dataframe thead th {\n",
              "        text-align: right;\n",
              "    }\n",
              "</style>\n",
              "<table border=\"1\" class=\"dataframe\">\n",
              "  <thead>\n",
              "    <tr style=\"text-align: right;\">\n",
              "      <th></th>\n",
              "      <th>P</th>\n",
              "      <th>Clasificación</th>\n",
              "    </tr>\n",
              "  </thead>\n",
              "  <tbody>\n",
              "    <tr>\n",
              "      <th>Madera</th>\n",
              "      <td>0.429010</td>\n",
              "      <td>3.0</td>\n",
              "    </tr>\n",
              "    <tr>\n",
              "      <th>Plástico</th>\n",
              "      <td>0.533529</td>\n",
              "      <td>2.0</td>\n",
              "    </tr>\n",
              "    <tr>\n",
              "      <th>Metal</th>\n",
              "      <td>0.570990</td>\n",
              "      <td>1.0</td>\n",
              "    </tr>\n",
              "  </tbody>\n",
              "</table>\n",
              "</div>\n",
              "      <button class=\"colab-df-convert\" onclick=\"convertToInteractive('df-3cce54ae-8ff5-451a-a17d-1e2cd9a69ce7')\"\n",
              "              title=\"Convert this dataframe to an interactive table.\"\n",
              "              style=\"display:none;\">\n",
              "        \n",
              "  <svg xmlns=\"http://www.w3.org/2000/svg\" height=\"24px\"viewBox=\"0 0 24 24\"\n",
              "       width=\"24px\">\n",
              "    <path d=\"M0 0h24v24H0V0z\" fill=\"none\"/>\n",
              "    <path d=\"M18.56 5.44l.94 2.06.94-2.06 2.06-.94-2.06-.94-.94-2.06-.94 2.06-2.06.94zm-11 1L8.5 8.5l.94-2.06 2.06-.94-2.06-.94L8.5 2.5l-.94 2.06-2.06.94zm10 10l.94 2.06.94-2.06 2.06-.94-2.06-.94-.94-2.06-.94 2.06-2.06.94z\"/><path d=\"M17.41 7.96l-1.37-1.37c-.4-.4-.92-.59-1.43-.59-.52 0-1.04.2-1.43.59L10.3 9.45l-7.72 7.72c-.78.78-.78 2.05 0 2.83L4 21.41c.39.39.9.59 1.41.59.51 0 1.02-.2 1.41-.59l7.78-7.78 2.81-2.81c.8-.78.8-2.07 0-2.86zM5.41 20L4 18.59l7.72-7.72 1.47 1.35L5.41 20z\"/>\n",
              "  </svg>\n",
              "      </button>\n",
              "      \n",
              "  <style>\n",
              "    .colab-df-container {\n",
              "      display:flex;\n",
              "      flex-wrap:wrap;\n",
              "      gap: 12px;\n",
              "    }\n",
              "\n",
              "    .colab-df-convert {\n",
              "      background-color: #E8F0FE;\n",
              "      border: none;\n",
              "      border-radius: 50%;\n",
              "      cursor: pointer;\n",
              "      display: none;\n",
              "      fill: #1967D2;\n",
              "      height: 32px;\n",
              "      padding: 0 0 0 0;\n",
              "      width: 32px;\n",
              "    }\n",
              "\n",
              "    .colab-df-convert:hover {\n",
              "      background-color: #E2EBFA;\n",
              "      box-shadow: 0px 1px 2px rgba(60, 64, 67, 0.3), 0px 1px 3px 1px rgba(60, 64, 67, 0.15);\n",
              "      fill: #174EA6;\n",
              "    }\n",
              "\n",
              "    [theme=dark] .colab-df-convert {\n",
              "      background-color: #3B4455;\n",
              "      fill: #D2E3FC;\n",
              "    }\n",
              "\n",
              "    [theme=dark] .colab-df-convert:hover {\n",
              "      background-color: #434B5C;\n",
              "      box-shadow: 0px 1px 3px 1px rgba(0, 0, 0, 0.15);\n",
              "      filter: drop-shadow(0px 1px 2px rgba(0, 0, 0, 0.3));\n",
              "      fill: #FFFFFF;\n",
              "    }\n",
              "  </style>\n",
              "\n",
              "      <script>\n",
              "        const buttonEl =\n",
              "          document.querySelector('#df-3cce54ae-8ff5-451a-a17d-1e2cd9a69ce7 button.colab-df-convert');\n",
              "        buttonEl.style.display =\n",
              "          google.colab.kernel.accessAllowed ? 'block' : 'none';\n",
              "\n",
              "        async function convertToInteractive(key) {\n",
              "          const element = document.querySelector('#df-3cce54ae-8ff5-451a-a17d-1e2cd9a69ce7');\n",
              "          const dataTable =\n",
              "            await google.colab.kernel.invokeFunction('convertToInteractive',\n",
              "                                                     [key], {});\n",
              "          if (!dataTable) return;\n",
              "\n",
              "          const docLinkHtml = 'Like what you see? Visit the ' +\n",
              "            '<a target=\"_blank\" href=https://colab.research.google.com/notebooks/data_table.ipynb>data table notebook</a>'\n",
              "            + ' to learn more about interactive tables.';\n",
              "          element.innerHTML = '';\n",
              "          dataTable['output_type'] = 'display_data';\n",
              "          await google.colab.output.renderOutput(dataTable, element);\n",
              "          const docLink = document.createElement('div');\n",
              "          docLink.innerHTML = docLinkHtml;\n",
              "          element.appendChild(docLink);\n",
              "        }\n",
              "      </script>\n",
              "    </div>\n",
              "  </div>\n",
              "  "
            ]
          },
          "metadata": {},
          "execution_count": 25
        }
      ]
    },
    {
      "cell_type": "markdown",
      "source": [
        "### Con pesos definidos por el usuario"
      ],
      "metadata": {
        "id": "P_7i7LfJgvfO"
      }
    },
    {
      "cell_type": "markdown",
      "source": [
        "Se ingresan primero los pesos como un ``` np.array ```"
      ],
      "metadata": {
        "id": "ojX3gZlYhdAE"
      }
    },
    {
      "cell_type": "code",
      "source": [
        "pesos = np.array([0.1, 0.15, 0.3, 0.1, 0.35])"
      ],
      "metadata": {
        "id": "PQ7XSvcXhd6v"
      },
      "execution_count": null,
      "outputs": []
    },
    {
      "cell_type": "markdown",
      "source": [
        "La entradas al método son:\n",
        "* Los pesos, previamente definidos."
      ],
      "metadata": {
        "id": "oxfDJ2JyhniX"
      }
    },
    {
      "cell_type": "code",
      "source": [
        "Seleccion.mTOPSIS(pesos)"
      ],
      "metadata": {
        "colab": {
          "base_uri": "https://localhost:8080/"
        },
        "id": "Mgs3AQkyg_XC",
        "outputId": "d9675d7d-f3e2-4adf-eb14-dc8b46dee6bc"
      },
      "execution_count": null,
      "outputs": [
        {
          "output_type": "execute_result",
          "data": {
            "text/plain": [
              "                 P  Clasificación\n",
              "Madera    0.318350            2.0\n",
              "Plástico  0.312509            3.0\n",
              "Metal     0.681650            1.0"
            ],
            "text/html": [
              "\n",
              "  <div id=\"df-3b79ce65-5e08-497c-8280-51e1e0badf64\">\n",
              "    <div class=\"colab-df-container\">\n",
              "      <div>\n",
              "<style scoped>\n",
              "    .dataframe tbody tr th:only-of-type {\n",
              "        vertical-align: middle;\n",
              "    }\n",
              "\n",
              "    .dataframe tbody tr th {\n",
              "        vertical-align: top;\n",
              "    }\n",
              "\n",
              "    .dataframe thead th {\n",
              "        text-align: right;\n",
              "    }\n",
              "</style>\n",
              "<table border=\"1\" class=\"dataframe\">\n",
              "  <thead>\n",
              "    <tr style=\"text-align: right;\">\n",
              "      <th></th>\n",
              "      <th>P</th>\n",
              "      <th>Clasificación</th>\n",
              "    </tr>\n",
              "  </thead>\n",
              "  <tbody>\n",
              "    <tr>\n",
              "      <th>Madera</th>\n",
              "      <td>0.318350</td>\n",
              "      <td>2.0</td>\n",
              "    </tr>\n",
              "    <tr>\n",
              "      <th>Plástico</th>\n",
              "      <td>0.312509</td>\n",
              "      <td>3.0</td>\n",
              "    </tr>\n",
              "    <tr>\n",
              "      <th>Metal</th>\n",
              "      <td>0.681650</td>\n",
              "      <td>1.0</td>\n",
              "    </tr>\n",
              "  </tbody>\n",
              "</table>\n",
              "</div>\n",
              "      <button class=\"colab-df-convert\" onclick=\"convertToInteractive('df-3b79ce65-5e08-497c-8280-51e1e0badf64')\"\n",
              "              title=\"Convert this dataframe to an interactive table.\"\n",
              "              style=\"display:none;\">\n",
              "        \n",
              "  <svg xmlns=\"http://www.w3.org/2000/svg\" height=\"24px\"viewBox=\"0 0 24 24\"\n",
              "       width=\"24px\">\n",
              "    <path d=\"M0 0h24v24H0V0z\" fill=\"none\"/>\n",
              "    <path d=\"M18.56 5.44l.94 2.06.94-2.06 2.06-.94-2.06-.94-.94-2.06-.94 2.06-2.06.94zm-11 1L8.5 8.5l.94-2.06 2.06-.94-2.06-.94L8.5 2.5l-.94 2.06-2.06.94zm10 10l.94 2.06.94-2.06 2.06-.94-2.06-.94-.94-2.06-.94 2.06-2.06.94z\"/><path d=\"M17.41 7.96l-1.37-1.37c-.4-.4-.92-.59-1.43-.59-.52 0-1.04.2-1.43.59L10.3 9.45l-7.72 7.72c-.78.78-.78 2.05 0 2.83L4 21.41c.39.39.9.59 1.41.59.51 0 1.02-.2 1.41-.59l7.78-7.78 2.81-2.81c.8-.78.8-2.07 0-2.86zM5.41 20L4 18.59l7.72-7.72 1.47 1.35L5.41 20z\"/>\n",
              "  </svg>\n",
              "      </button>\n",
              "      \n",
              "  <style>\n",
              "    .colab-df-container {\n",
              "      display:flex;\n",
              "      flex-wrap:wrap;\n",
              "      gap: 12px;\n",
              "    }\n",
              "\n",
              "    .colab-df-convert {\n",
              "      background-color: #E8F0FE;\n",
              "      border: none;\n",
              "      border-radius: 50%;\n",
              "      cursor: pointer;\n",
              "      display: none;\n",
              "      fill: #1967D2;\n",
              "      height: 32px;\n",
              "      padding: 0 0 0 0;\n",
              "      width: 32px;\n",
              "    }\n",
              "\n",
              "    .colab-df-convert:hover {\n",
              "      background-color: #E2EBFA;\n",
              "      box-shadow: 0px 1px 2px rgba(60, 64, 67, 0.3), 0px 1px 3px 1px rgba(60, 64, 67, 0.15);\n",
              "      fill: #174EA6;\n",
              "    }\n",
              "\n",
              "    [theme=dark] .colab-df-convert {\n",
              "      background-color: #3B4455;\n",
              "      fill: #D2E3FC;\n",
              "    }\n",
              "\n",
              "    [theme=dark] .colab-df-convert:hover {\n",
              "      background-color: #434B5C;\n",
              "      box-shadow: 0px 1px 3px 1px rgba(0, 0, 0, 0.15);\n",
              "      filter: drop-shadow(0px 1px 2px rgba(0, 0, 0, 0.3));\n",
              "      fill: #FFFFFF;\n",
              "    }\n",
              "  </style>\n",
              "\n",
              "      <script>\n",
              "        const buttonEl =\n",
              "          document.querySelector('#df-3b79ce65-5e08-497c-8280-51e1e0badf64 button.colab-df-convert');\n",
              "        buttonEl.style.display =\n",
              "          google.colab.kernel.accessAllowed ? 'block' : 'none';\n",
              "\n",
              "        async function convertToInteractive(key) {\n",
              "          const element = document.querySelector('#df-3b79ce65-5e08-497c-8280-51e1e0badf64');\n",
              "          const dataTable =\n",
              "            await google.colab.kernel.invokeFunction('convertToInteractive',\n",
              "                                                     [key], {});\n",
              "          if (!dataTable) return;\n",
              "\n",
              "          const docLinkHtml = 'Like what you see? Visit the ' +\n",
              "            '<a target=\"_blank\" href=https://colab.research.google.com/notebooks/data_table.ipynb>data table notebook</a>'\n",
              "            + ' to learn more about interactive tables.';\n",
              "          element.innerHTML = '';\n",
              "          dataTable['output_type'] = 'display_data';\n",
              "          await google.colab.output.renderOutput(dataTable, element);\n",
              "          const docLink = document.createElement('div');\n",
              "          docLink.innerHTML = docLinkHtml;\n",
              "          element.appendChild(docLink);\n",
              "        }\n",
              "      </script>\n",
              "    </div>\n",
              "  </div>\n",
              "  "
            ]
          },
          "metadata": {},
          "execution_count": 27
        }
      ]
    },
    {
      "cell_type": "markdown",
      "source": [
        "## Método VIKOR (Normal y con pesos AHP -Híbrido-)"
      ],
      "metadata": {
        "id": "5pn34Fb_gfZx"
      }
    },
    {
      "cell_type": "markdown",
      "source": [
        "### Con pesos de AHP\n",
        "Si se quiere usar los pesos de AHP, se debe traer la matriz de criterios, los argumentos que entran al método son:\n",
        "* ``` criteria ``` en donde se ingresa la matriz **criteria**, al ingresarla en la sección de entrada de datos, pertenece a la matriz de datos para calcular los pesos con AHP.\n",
        "* ``` ahp ``` en ``` True ```, para asegurar que el método se ejecutara con pesos de ahp"
      ],
      "metadata": {
        "id": "_1OANymJgrSA"
      }
    },
    {
      "cell_type": "code",
      "source": [
        "Seleccion.mVIKOR(criteria = criteria, ahp = True)"
      ],
      "metadata": {
        "colab": {
          "base_uri": "https://localhost:8080/"
        },
        "id": "WqQ2r73YgLyk",
        "outputId": "3b0401f5-4d62-4eaf-d975-5f75f785d26a"
      },
      "execution_count": null,
      "outputs": [
        {
          "output_type": "execute_result",
          "data": {
            "text/plain": [
              "               Q_i  Clasificación\n",
              "Madera    1.000000            3.0\n",
              "Plástico  0.057312            2.0\n",
              "Metal     0.041587            1.0"
            ],
            "text/html": [
              "\n",
              "  <div id=\"df-7747f5ae-feac-45f2-9cee-c3401ad25007\">\n",
              "    <div class=\"colab-df-container\">\n",
              "      <div>\n",
              "<style scoped>\n",
              "    .dataframe tbody tr th:only-of-type {\n",
              "        vertical-align: middle;\n",
              "    }\n",
              "\n",
              "    .dataframe tbody tr th {\n",
              "        vertical-align: top;\n",
              "    }\n",
              "\n",
              "    .dataframe thead th {\n",
              "        text-align: right;\n",
              "    }\n",
              "</style>\n",
              "<table border=\"1\" class=\"dataframe\">\n",
              "  <thead>\n",
              "    <tr style=\"text-align: right;\">\n",
              "      <th></th>\n",
              "      <th>Q_i</th>\n",
              "      <th>Clasificación</th>\n",
              "    </tr>\n",
              "  </thead>\n",
              "  <tbody>\n",
              "    <tr>\n",
              "      <th>Madera</th>\n",
              "      <td>1.000000</td>\n",
              "      <td>3.0</td>\n",
              "    </tr>\n",
              "    <tr>\n",
              "      <th>Plástico</th>\n",
              "      <td>0.057312</td>\n",
              "      <td>2.0</td>\n",
              "    </tr>\n",
              "    <tr>\n",
              "      <th>Metal</th>\n",
              "      <td>0.041587</td>\n",
              "      <td>1.0</td>\n",
              "    </tr>\n",
              "  </tbody>\n",
              "</table>\n",
              "</div>\n",
              "      <button class=\"colab-df-convert\" onclick=\"convertToInteractive('df-7747f5ae-feac-45f2-9cee-c3401ad25007')\"\n",
              "              title=\"Convert this dataframe to an interactive table.\"\n",
              "              style=\"display:none;\">\n",
              "        \n",
              "  <svg xmlns=\"http://www.w3.org/2000/svg\" height=\"24px\"viewBox=\"0 0 24 24\"\n",
              "       width=\"24px\">\n",
              "    <path d=\"M0 0h24v24H0V0z\" fill=\"none\"/>\n",
              "    <path d=\"M18.56 5.44l.94 2.06.94-2.06 2.06-.94-2.06-.94-.94-2.06-.94 2.06-2.06.94zm-11 1L8.5 8.5l.94-2.06 2.06-.94-2.06-.94L8.5 2.5l-.94 2.06-2.06.94zm10 10l.94 2.06.94-2.06 2.06-.94-2.06-.94-.94-2.06-.94 2.06-2.06.94z\"/><path d=\"M17.41 7.96l-1.37-1.37c-.4-.4-.92-.59-1.43-.59-.52 0-1.04.2-1.43.59L10.3 9.45l-7.72 7.72c-.78.78-.78 2.05 0 2.83L4 21.41c.39.39.9.59 1.41.59.51 0 1.02-.2 1.41-.59l7.78-7.78 2.81-2.81c.8-.78.8-2.07 0-2.86zM5.41 20L4 18.59l7.72-7.72 1.47 1.35L5.41 20z\"/>\n",
              "  </svg>\n",
              "      </button>\n",
              "      \n",
              "  <style>\n",
              "    .colab-df-container {\n",
              "      display:flex;\n",
              "      flex-wrap:wrap;\n",
              "      gap: 12px;\n",
              "    }\n",
              "\n",
              "    .colab-df-convert {\n",
              "      background-color: #E8F0FE;\n",
              "      border: none;\n",
              "      border-radius: 50%;\n",
              "      cursor: pointer;\n",
              "      display: none;\n",
              "      fill: #1967D2;\n",
              "      height: 32px;\n",
              "      padding: 0 0 0 0;\n",
              "      width: 32px;\n",
              "    }\n",
              "\n",
              "    .colab-df-convert:hover {\n",
              "      background-color: #E2EBFA;\n",
              "      box-shadow: 0px 1px 2px rgba(60, 64, 67, 0.3), 0px 1px 3px 1px rgba(60, 64, 67, 0.15);\n",
              "      fill: #174EA6;\n",
              "    }\n",
              "\n",
              "    [theme=dark] .colab-df-convert {\n",
              "      background-color: #3B4455;\n",
              "      fill: #D2E3FC;\n",
              "    }\n",
              "\n",
              "    [theme=dark] .colab-df-convert:hover {\n",
              "      background-color: #434B5C;\n",
              "      box-shadow: 0px 1px 3px 1px rgba(0, 0, 0, 0.15);\n",
              "      filter: drop-shadow(0px 1px 2px rgba(0, 0, 0, 0.3));\n",
              "      fill: #FFFFFF;\n",
              "    }\n",
              "  </style>\n",
              "\n",
              "      <script>\n",
              "        const buttonEl =\n",
              "          document.querySelector('#df-7747f5ae-feac-45f2-9cee-c3401ad25007 button.colab-df-convert');\n",
              "        buttonEl.style.display =\n",
              "          google.colab.kernel.accessAllowed ? 'block' : 'none';\n",
              "\n",
              "        async function convertToInteractive(key) {\n",
              "          const element = document.querySelector('#df-7747f5ae-feac-45f2-9cee-c3401ad25007');\n",
              "          const dataTable =\n",
              "            await google.colab.kernel.invokeFunction('convertToInteractive',\n",
              "                                                     [key], {});\n",
              "          if (!dataTable) return;\n",
              "\n",
              "          const docLinkHtml = 'Like what you see? Visit the ' +\n",
              "            '<a target=\"_blank\" href=https://colab.research.google.com/notebooks/data_table.ipynb>data table notebook</a>'\n",
              "            + ' to learn more about interactive tables.';\n",
              "          element.innerHTML = '';\n",
              "          dataTable['output_type'] = 'display_data';\n",
              "          await google.colab.output.renderOutput(dataTable, element);\n",
              "          const docLink = document.createElement('div');\n",
              "          docLink.innerHTML = docLinkHtml;\n",
              "          element.appendChild(docLink);\n",
              "        }\n",
              "      </script>\n",
              "    </div>\n",
              "  </div>\n",
              "  "
            ]
          },
          "metadata": {},
          "execution_count": 28
        }
      ]
    },
    {
      "cell_type": "markdown",
      "source": [
        "### Con pesos definidos por el usuario"
      ],
      "metadata": {
        "id": "nnjGVI2pgwr4"
      }
    },
    {
      "cell_type": "markdown",
      "source": [
        "Se ingresan primero los pesos como un ``` np.array ```"
      ],
      "metadata": {
        "id": "QKgmDTf_iX55"
      }
    },
    {
      "cell_type": "code",
      "source": [
        "pesos = np.array([0.1, 0.15, 0.3, 0.1, 0.35])"
      ],
      "metadata": {
        "id": "pXTCi2uziov9"
      },
      "execution_count": null,
      "outputs": []
    },
    {
      "cell_type": "markdown",
      "source": [
        "La entradas al método son:\n",
        "* Los pesos, previamente definidos."
      ],
      "metadata": {
        "id": "tgCmHfpuipNS"
      }
    },
    {
      "cell_type": "code",
      "source": [
        "Seleccion.mVIKOR(pesos)"
      ],
      "metadata": {
        "colab": {
          "base_uri": "https://localhost:8080/"
        },
        "id": "ow36xxiJRDsc",
        "outputId": "1c66fb7a-06dd-427f-f717-0ea18bcfce82"
      },
      "execution_count": null,
      "outputs": [
        {
          "output_type": "execute_result",
          "data": {
            "text/plain": [
              "               Q_i  Clasificación\n",
              "Madera    0.981441            3.0\n",
              "Plástico  0.979899            2.0\n",
              "Metal     0.000000            1.0"
            ],
            "text/html": [
              "\n",
              "  <div id=\"df-e15bee58-1512-4ae4-a8b3-cb4a9492caff\">\n",
              "    <div class=\"colab-df-container\">\n",
              "      <div>\n",
              "<style scoped>\n",
              "    .dataframe tbody tr th:only-of-type {\n",
              "        vertical-align: middle;\n",
              "    }\n",
              "\n",
              "    .dataframe tbody tr th {\n",
              "        vertical-align: top;\n",
              "    }\n",
              "\n",
              "    .dataframe thead th {\n",
              "        text-align: right;\n",
              "    }\n",
              "</style>\n",
              "<table border=\"1\" class=\"dataframe\">\n",
              "  <thead>\n",
              "    <tr style=\"text-align: right;\">\n",
              "      <th></th>\n",
              "      <th>Q_i</th>\n",
              "      <th>Clasificación</th>\n",
              "    </tr>\n",
              "  </thead>\n",
              "  <tbody>\n",
              "    <tr>\n",
              "      <th>Madera</th>\n",
              "      <td>0.981441</td>\n",
              "      <td>3.0</td>\n",
              "    </tr>\n",
              "    <tr>\n",
              "      <th>Plástico</th>\n",
              "      <td>0.979899</td>\n",
              "      <td>2.0</td>\n",
              "    </tr>\n",
              "    <tr>\n",
              "      <th>Metal</th>\n",
              "      <td>0.000000</td>\n",
              "      <td>1.0</td>\n",
              "    </tr>\n",
              "  </tbody>\n",
              "</table>\n",
              "</div>\n",
              "      <button class=\"colab-df-convert\" onclick=\"convertToInteractive('df-e15bee58-1512-4ae4-a8b3-cb4a9492caff')\"\n",
              "              title=\"Convert this dataframe to an interactive table.\"\n",
              "              style=\"display:none;\">\n",
              "        \n",
              "  <svg xmlns=\"http://www.w3.org/2000/svg\" height=\"24px\"viewBox=\"0 0 24 24\"\n",
              "       width=\"24px\">\n",
              "    <path d=\"M0 0h24v24H0V0z\" fill=\"none\"/>\n",
              "    <path d=\"M18.56 5.44l.94 2.06.94-2.06 2.06-.94-2.06-.94-.94-2.06-.94 2.06-2.06.94zm-11 1L8.5 8.5l.94-2.06 2.06-.94-2.06-.94L8.5 2.5l-.94 2.06-2.06.94zm10 10l.94 2.06.94-2.06 2.06-.94-2.06-.94-.94-2.06-.94 2.06-2.06.94z\"/><path d=\"M17.41 7.96l-1.37-1.37c-.4-.4-.92-.59-1.43-.59-.52 0-1.04.2-1.43.59L10.3 9.45l-7.72 7.72c-.78.78-.78 2.05 0 2.83L4 21.41c.39.39.9.59 1.41.59.51 0 1.02-.2 1.41-.59l7.78-7.78 2.81-2.81c.8-.78.8-2.07 0-2.86zM5.41 20L4 18.59l7.72-7.72 1.47 1.35L5.41 20z\"/>\n",
              "  </svg>\n",
              "      </button>\n",
              "      \n",
              "  <style>\n",
              "    .colab-df-container {\n",
              "      display:flex;\n",
              "      flex-wrap:wrap;\n",
              "      gap: 12px;\n",
              "    }\n",
              "\n",
              "    .colab-df-convert {\n",
              "      background-color: #E8F0FE;\n",
              "      border: none;\n",
              "      border-radius: 50%;\n",
              "      cursor: pointer;\n",
              "      display: none;\n",
              "      fill: #1967D2;\n",
              "      height: 32px;\n",
              "      padding: 0 0 0 0;\n",
              "      width: 32px;\n",
              "    }\n",
              "\n",
              "    .colab-df-convert:hover {\n",
              "      background-color: #E2EBFA;\n",
              "      box-shadow: 0px 1px 2px rgba(60, 64, 67, 0.3), 0px 1px 3px 1px rgba(60, 64, 67, 0.15);\n",
              "      fill: #174EA6;\n",
              "    }\n",
              "\n",
              "    [theme=dark] .colab-df-convert {\n",
              "      background-color: #3B4455;\n",
              "      fill: #D2E3FC;\n",
              "    }\n",
              "\n",
              "    [theme=dark] .colab-df-convert:hover {\n",
              "      background-color: #434B5C;\n",
              "      box-shadow: 0px 1px 3px 1px rgba(0, 0, 0, 0.15);\n",
              "      filter: drop-shadow(0px 1px 2px rgba(0, 0, 0, 0.3));\n",
              "      fill: #FFFFFF;\n",
              "    }\n",
              "  </style>\n",
              "\n",
              "      <script>\n",
              "        const buttonEl =\n",
              "          document.querySelector('#df-e15bee58-1512-4ae4-a8b3-cb4a9492caff button.colab-df-convert');\n",
              "        buttonEl.style.display =\n",
              "          google.colab.kernel.accessAllowed ? 'block' : 'none';\n",
              "\n",
              "        async function convertToInteractive(key) {\n",
              "          const element = document.querySelector('#df-e15bee58-1512-4ae4-a8b3-cb4a9492caff');\n",
              "          const dataTable =\n",
              "            await google.colab.kernel.invokeFunction('convertToInteractive',\n",
              "                                                     [key], {});\n",
              "          if (!dataTable) return;\n",
              "\n",
              "          const docLinkHtml = 'Like what you see? Visit the ' +\n",
              "            '<a target=\"_blank\" href=https://colab.research.google.com/notebooks/data_table.ipynb>data table notebook</a>'\n",
              "            + ' to learn more about interactive tables.';\n",
              "          element.innerHTML = '';\n",
              "          dataTable['output_type'] = 'display_data';\n",
              "          await google.colab.output.renderOutput(dataTable, element);\n",
              "          const docLink = document.createElement('div');\n",
              "          docLink.innerHTML = docLinkHtml;\n",
              "          element.appendChild(docLink);\n",
              "        }\n",
              "      </script>\n",
              "    </div>\n",
              "  </div>\n",
              "  "
            ]
          },
          "metadata": {},
          "execution_count": 30
        }
      ]
    },
    {
      "cell_type": "markdown",
      "source": [
        "# Selección Entropia"
      ],
      "metadata": {
        "id": "mOsD4PQSTO85"
      }
    },
    {
      "cell_type": "code",
      "source": [
        "pesosEntropia = entropy(data)"
      ],
      "metadata": {
        "id": "vNwjlOCPUIbj"
      },
      "execution_count": null,
      "outputs": []
    },
    {
      "cell_type": "markdown",
      "source": [
        "## ELECTREE"
      ],
      "metadata": {
        "id": "DVngM5fbT_LZ"
      }
    },
    {
      "cell_type": "code",
      "source": [
        "Seleccion.mELECTRE(pesosEntropia)"
      ],
      "metadata": {
        "colab": {
          "base_uri": "https://localhost:8080/"
        },
        "id": "3SAOZhnUYZGb",
        "outputId": "7409b716-b87e-4d60-e032-5f2e3f711ebd"
      },
      "execution_count": null,
      "outputs": [
        {
          "output_type": "execute_result",
          "data": {
            "text/plain": [
              "          Dominancia  Clasificación\n",
              "Madera            -1            2.0\n",
              "Plástico          -1            2.0\n",
              "Metal              2            1.0"
            ],
            "text/html": [
              "\n",
              "  <div id=\"df-931794e2-2382-4ade-abd2-02201941930a\">\n",
              "    <div class=\"colab-df-container\">\n",
              "      <div>\n",
              "<style scoped>\n",
              "    .dataframe tbody tr th:only-of-type {\n",
              "        vertical-align: middle;\n",
              "    }\n",
              "\n",
              "    .dataframe tbody tr th {\n",
              "        vertical-align: top;\n",
              "    }\n",
              "\n",
              "    .dataframe thead th {\n",
              "        text-align: right;\n",
              "    }\n",
              "</style>\n",
              "<table border=\"1\" class=\"dataframe\">\n",
              "  <thead>\n",
              "    <tr style=\"text-align: right;\">\n",
              "      <th></th>\n",
              "      <th>Dominancia</th>\n",
              "      <th>Clasificación</th>\n",
              "    </tr>\n",
              "  </thead>\n",
              "  <tbody>\n",
              "    <tr>\n",
              "      <th>Madera</th>\n",
              "      <td>-1</td>\n",
              "      <td>2.0</td>\n",
              "    </tr>\n",
              "    <tr>\n",
              "      <th>Plástico</th>\n",
              "      <td>-1</td>\n",
              "      <td>2.0</td>\n",
              "    </tr>\n",
              "    <tr>\n",
              "      <th>Metal</th>\n",
              "      <td>2</td>\n",
              "      <td>1.0</td>\n",
              "    </tr>\n",
              "  </tbody>\n",
              "</table>\n",
              "</div>\n",
              "      <button class=\"colab-df-convert\" onclick=\"convertToInteractive('df-931794e2-2382-4ade-abd2-02201941930a')\"\n",
              "              title=\"Convert this dataframe to an interactive table.\"\n",
              "              style=\"display:none;\">\n",
              "        \n",
              "  <svg xmlns=\"http://www.w3.org/2000/svg\" height=\"24px\"viewBox=\"0 0 24 24\"\n",
              "       width=\"24px\">\n",
              "    <path d=\"M0 0h24v24H0V0z\" fill=\"none\"/>\n",
              "    <path d=\"M18.56 5.44l.94 2.06.94-2.06 2.06-.94-2.06-.94-.94-2.06-.94 2.06-2.06.94zm-11 1L8.5 8.5l.94-2.06 2.06-.94-2.06-.94L8.5 2.5l-.94 2.06-2.06.94zm10 10l.94 2.06.94-2.06 2.06-.94-2.06-.94-.94-2.06-.94 2.06-2.06.94z\"/><path d=\"M17.41 7.96l-1.37-1.37c-.4-.4-.92-.59-1.43-.59-.52 0-1.04.2-1.43.59L10.3 9.45l-7.72 7.72c-.78.78-.78 2.05 0 2.83L4 21.41c.39.39.9.59 1.41.59.51 0 1.02-.2 1.41-.59l7.78-7.78 2.81-2.81c.8-.78.8-2.07 0-2.86zM5.41 20L4 18.59l7.72-7.72 1.47 1.35L5.41 20z\"/>\n",
              "  </svg>\n",
              "      </button>\n",
              "      \n",
              "  <style>\n",
              "    .colab-df-container {\n",
              "      display:flex;\n",
              "      flex-wrap:wrap;\n",
              "      gap: 12px;\n",
              "    }\n",
              "\n",
              "    .colab-df-convert {\n",
              "      background-color: #E8F0FE;\n",
              "      border: none;\n",
              "      border-radius: 50%;\n",
              "      cursor: pointer;\n",
              "      display: none;\n",
              "      fill: #1967D2;\n",
              "      height: 32px;\n",
              "      padding: 0 0 0 0;\n",
              "      width: 32px;\n",
              "    }\n",
              "\n",
              "    .colab-df-convert:hover {\n",
              "      background-color: #E2EBFA;\n",
              "      box-shadow: 0px 1px 2px rgba(60, 64, 67, 0.3), 0px 1px 3px 1px rgba(60, 64, 67, 0.15);\n",
              "      fill: #174EA6;\n",
              "    }\n",
              "\n",
              "    [theme=dark] .colab-df-convert {\n",
              "      background-color: #3B4455;\n",
              "      fill: #D2E3FC;\n",
              "    }\n",
              "\n",
              "    [theme=dark] .colab-df-convert:hover {\n",
              "      background-color: #434B5C;\n",
              "      box-shadow: 0px 1px 3px 1px rgba(0, 0, 0, 0.15);\n",
              "      filter: drop-shadow(0px 1px 2px rgba(0, 0, 0, 0.3));\n",
              "      fill: #FFFFFF;\n",
              "    }\n",
              "  </style>\n",
              "\n",
              "      <script>\n",
              "        const buttonEl =\n",
              "          document.querySelector('#df-931794e2-2382-4ade-abd2-02201941930a button.colab-df-convert');\n",
              "        buttonEl.style.display =\n",
              "          google.colab.kernel.accessAllowed ? 'block' : 'none';\n",
              "\n",
              "        async function convertToInteractive(key) {\n",
              "          const element = document.querySelector('#df-931794e2-2382-4ade-abd2-02201941930a');\n",
              "          const dataTable =\n",
              "            await google.colab.kernel.invokeFunction('convertToInteractive',\n",
              "                                                     [key], {});\n",
              "          if (!dataTable) return;\n",
              "\n",
              "          const docLinkHtml = 'Like what you see? Visit the ' +\n",
              "            '<a target=\"_blank\" href=https://colab.research.google.com/notebooks/data_table.ipynb>data table notebook</a>'\n",
              "            + ' to learn more about interactive tables.';\n",
              "          element.innerHTML = '';\n",
              "          dataTable['output_type'] = 'display_data';\n",
              "          await google.colab.output.renderOutput(dataTable, element);\n",
              "          const docLink = document.createElement('div');\n",
              "          docLink.innerHTML = docLinkHtml;\n",
              "          element.appendChild(docLink);\n",
              "        }\n",
              "      </script>\n",
              "    </div>\n",
              "  </div>\n",
              "  "
            ]
          },
          "metadata": {},
          "execution_count": 32
        }
      ]
    },
    {
      "cell_type": "markdown",
      "source": [
        "## PROMETHEE"
      ],
      "metadata": {
        "id": "j7g0m3y0T__r"
      }
    },
    {
      "cell_type": "code",
      "source": [
        "funciones = ['II', 'IV', 'V', 'III', 'VI']\n",
        "q = [ 10, 1, 0.03, 0, 0]\n",
        "p = [ 0, 2, 0.25, 1.8, 0]"
      ],
      "metadata": {
        "id": "o2LujzbAYj0c"
      },
      "execution_count": null,
      "outputs": []
    },
    {
      "cell_type": "code",
      "source": [
        "Seleccion.mPROMETHEE(funciones, q, p, pesos)"
      ],
      "metadata": {
        "colab": {
          "base_uri": "https://localhost:8080/"
        },
        "id": "P9eLPrMFYsaD",
        "outputId": "066543aa-3257-4331-96f4-3956ac4a2bad"
      },
      "execution_count": null,
      "outputs": [
        {
          "output_type": "execute_result",
          "data": {
            "text/plain": [
              "              FS_N  Clasificación\n",
              "Madera   -0.230556            3.0\n",
              "Plástico  0.002778            2.0\n",
              "Metal     0.227778            1.0"
            ],
            "text/html": [
              "\n",
              "  <div id=\"df-66bfe7c4-4576-4f75-8c23-8ef0cd308ad2\">\n",
              "    <div class=\"colab-df-container\">\n",
              "      <div>\n",
              "<style scoped>\n",
              "    .dataframe tbody tr th:only-of-type {\n",
              "        vertical-align: middle;\n",
              "    }\n",
              "\n",
              "    .dataframe tbody tr th {\n",
              "        vertical-align: top;\n",
              "    }\n",
              "\n",
              "    .dataframe thead th {\n",
              "        text-align: right;\n",
              "    }\n",
              "</style>\n",
              "<table border=\"1\" class=\"dataframe\">\n",
              "  <thead>\n",
              "    <tr style=\"text-align: right;\">\n",
              "      <th></th>\n",
              "      <th>FS_N</th>\n",
              "      <th>Clasificación</th>\n",
              "    </tr>\n",
              "  </thead>\n",
              "  <tbody>\n",
              "    <tr>\n",
              "      <th>Madera</th>\n",
              "      <td>-0.230556</td>\n",
              "      <td>3.0</td>\n",
              "    </tr>\n",
              "    <tr>\n",
              "      <th>Plástico</th>\n",
              "      <td>0.002778</td>\n",
              "      <td>2.0</td>\n",
              "    </tr>\n",
              "    <tr>\n",
              "      <th>Metal</th>\n",
              "      <td>0.227778</td>\n",
              "      <td>1.0</td>\n",
              "    </tr>\n",
              "  </tbody>\n",
              "</table>\n",
              "</div>\n",
              "      <button class=\"colab-df-convert\" onclick=\"convertToInteractive('df-66bfe7c4-4576-4f75-8c23-8ef0cd308ad2')\"\n",
              "              title=\"Convert this dataframe to an interactive table.\"\n",
              "              style=\"display:none;\">\n",
              "        \n",
              "  <svg xmlns=\"http://www.w3.org/2000/svg\" height=\"24px\"viewBox=\"0 0 24 24\"\n",
              "       width=\"24px\">\n",
              "    <path d=\"M0 0h24v24H0V0z\" fill=\"none\"/>\n",
              "    <path d=\"M18.56 5.44l.94 2.06.94-2.06 2.06-.94-2.06-.94-.94-2.06-.94 2.06-2.06.94zm-11 1L8.5 8.5l.94-2.06 2.06-.94-2.06-.94L8.5 2.5l-.94 2.06-2.06.94zm10 10l.94 2.06.94-2.06 2.06-.94-2.06-.94-.94-2.06-.94 2.06-2.06.94z\"/><path d=\"M17.41 7.96l-1.37-1.37c-.4-.4-.92-.59-1.43-.59-.52 0-1.04.2-1.43.59L10.3 9.45l-7.72 7.72c-.78.78-.78 2.05 0 2.83L4 21.41c.39.39.9.59 1.41.59.51 0 1.02-.2 1.41-.59l7.78-7.78 2.81-2.81c.8-.78.8-2.07 0-2.86zM5.41 20L4 18.59l7.72-7.72 1.47 1.35L5.41 20z\"/>\n",
              "  </svg>\n",
              "      </button>\n",
              "      \n",
              "  <style>\n",
              "    .colab-df-container {\n",
              "      display:flex;\n",
              "      flex-wrap:wrap;\n",
              "      gap: 12px;\n",
              "    }\n",
              "\n",
              "    .colab-df-convert {\n",
              "      background-color: #E8F0FE;\n",
              "      border: none;\n",
              "      border-radius: 50%;\n",
              "      cursor: pointer;\n",
              "      display: none;\n",
              "      fill: #1967D2;\n",
              "      height: 32px;\n",
              "      padding: 0 0 0 0;\n",
              "      width: 32px;\n",
              "    }\n",
              "\n",
              "    .colab-df-convert:hover {\n",
              "      background-color: #E2EBFA;\n",
              "      box-shadow: 0px 1px 2px rgba(60, 64, 67, 0.3), 0px 1px 3px 1px rgba(60, 64, 67, 0.15);\n",
              "      fill: #174EA6;\n",
              "    }\n",
              "\n",
              "    [theme=dark] .colab-df-convert {\n",
              "      background-color: #3B4455;\n",
              "      fill: #D2E3FC;\n",
              "    }\n",
              "\n",
              "    [theme=dark] .colab-df-convert:hover {\n",
              "      background-color: #434B5C;\n",
              "      box-shadow: 0px 1px 3px 1px rgba(0, 0, 0, 0.15);\n",
              "      filter: drop-shadow(0px 1px 2px rgba(0, 0, 0, 0.3));\n",
              "      fill: #FFFFFF;\n",
              "    }\n",
              "  </style>\n",
              "\n",
              "      <script>\n",
              "        const buttonEl =\n",
              "          document.querySelector('#df-66bfe7c4-4576-4f75-8c23-8ef0cd308ad2 button.colab-df-convert');\n",
              "        buttonEl.style.display =\n",
              "          google.colab.kernel.accessAllowed ? 'block' : 'none';\n",
              "\n",
              "        async function convertToInteractive(key) {\n",
              "          const element = document.querySelector('#df-66bfe7c4-4576-4f75-8c23-8ef0cd308ad2');\n",
              "          const dataTable =\n",
              "            await google.colab.kernel.invokeFunction('convertToInteractive',\n",
              "                                                     [key], {});\n",
              "          if (!dataTable) return;\n",
              "\n",
              "          const docLinkHtml = 'Like what you see? Visit the ' +\n",
              "            '<a target=\"_blank\" href=https://colab.research.google.com/notebooks/data_table.ipynb>data table notebook</a>'\n",
              "            + ' to learn more about interactive tables.';\n",
              "          element.innerHTML = '';\n",
              "          dataTable['output_type'] = 'display_data';\n",
              "          await google.colab.output.renderOutput(dataTable, element);\n",
              "          const docLink = document.createElement('div');\n",
              "          docLink.innerHTML = docLinkHtml;\n",
              "          element.appendChild(docLink);\n",
              "        }\n",
              "      </script>\n",
              "    </div>\n",
              "  </div>\n",
              "  "
            ]
          },
          "metadata": {},
          "execution_count": 34
        }
      ]
    },
    {
      "cell_type": "markdown",
      "source": [
        "## TOPSIS"
      ],
      "metadata": {
        "id": "Ii60uoo-UBcu"
      }
    },
    {
      "cell_type": "code",
      "source": [
        "Seleccion.mTOPSIS(pesosEntropia)"
      ],
      "metadata": {
        "colab": {
          "base_uri": "https://localhost:8080/"
        },
        "id": "yQdb8EnjYypq",
        "outputId": "cb9bd7ce-6dfb-421b-eb4d-69a5190083c8"
      },
      "execution_count": null,
      "outputs": [
        {
          "output_type": "execute_result",
          "data": {
            "text/plain": [
              "                 P  Clasificación\n",
              "Madera    0.377673            2.0\n",
              "Plástico  0.376442            3.0\n",
              "Metal     0.622327            1.0"
            ],
            "text/html": [
              "\n",
              "  <div id=\"df-82299171-2f86-4201-a98d-72fdb022b00e\">\n",
              "    <div class=\"colab-df-container\">\n",
              "      <div>\n",
              "<style scoped>\n",
              "    .dataframe tbody tr th:only-of-type {\n",
              "        vertical-align: middle;\n",
              "    }\n",
              "\n",
              "    .dataframe tbody tr th {\n",
              "        vertical-align: top;\n",
              "    }\n",
              "\n",
              "    .dataframe thead th {\n",
              "        text-align: right;\n",
              "    }\n",
              "</style>\n",
              "<table border=\"1\" class=\"dataframe\">\n",
              "  <thead>\n",
              "    <tr style=\"text-align: right;\">\n",
              "      <th></th>\n",
              "      <th>P</th>\n",
              "      <th>Clasificación</th>\n",
              "    </tr>\n",
              "  </thead>\n",
              "  <tbody>\n",
              "    <tr>\n",
              "      <th>Madera</th>\n",
              "      <td>0.377673</td>\n",
              "      <td>2.0</td>\n",
              "    </tr>\n",
              "    <tr>\n",
              "      <th>Plástico</th>\n",
              "      <td>0.376442</td>\n",
              "      <td>3.0</td>\n",
              "    </tr>\n",
              "    <tr>\n",
              "      <th>Metal</th>\n",
              "      <td>0.622327</td>\n",
              "      <td>1.0</td>\n",
              "    </tr>\n",
              "  </tbody>\n",
              "</table>\n",
              "</div>\n",
              "      <button class=\"colab-df-convert\" onclick=\"convertToInteractive('df-82299171-2f86-4201-a98d-72fdb022b00e')\"\n",
              "              title=\"Convert this dataframe to an interactive table.\"\n",
              "              style=\"display:none;\">\n",
              "        \n",
              "  <svg xmlns=\"http://www.w3.org/2000/svg\" height=\"24px\"viewBox=\"0 0 24 24\"\n",
              "       width=\"24px\">\n",
              "    <path d=\"M0 0h24v24H0V0z\" fill=\"none\"/>\n",
              "    <path d=\"M18.56 5.44l.94 2.06.94-2.06 2.06-.94-2.06-.94-.94-2.06-.94 2.06-2.06.94zm-11 1L8.5 8.5l.94-2.06 2.06-.94-2.06-.94L8.5 2.5l-.94 2.06-2.06.94zm10 10l.94 2.06.94-2.06 2.06-.94-2.06-.94-.94-2.06-.94 2.06-2.06.94z\"/><path d=\"M17.41 7.96l-1.37-1.37c-.4-.4-.92-.59-1.43-.59-.52 0-1.04.2-1.43.59L10.3 9.45l-7.72 7.72c-.78.78-.78 2.05 0 2.83L4 21.41c.39.39.9.59 1.41.59.51 0 1.02-.2 1.41-.59l7.78-7.78 2.81-2.81c.8-.78.8-2.07 0-2.86zM5.41 20L4 18.59l7.72-7.72 1.47 1.35L5.41 20z\"/>\n",
              "  </svg>\n",
              "      </button>\n",
              "      \n",
              "  <style>\n",
              "    .colab-df-container {\n",
              "      display:flex;\n",
              "      flex-wrap:wrap;\n",
              "      gap: 12px;\n",
              "    }\n",
              "\n",
              "    .colab-df-convert {\n",
              "      background-color: #E8F0FE;\n",
              "      border: none;\n",
              "      border-radius: 50%;\n",
              "      cursor: pointer;\n",
              "      display: none;\n",
              "      fill: #1967D2;\n",
              "      height: 32px;\n",
              "      padding: 0 0 0 0;\n",
              "      width: 32px;\n",
              "    }\n",
              "\n",
              "    .colab-df-convert:hover {\n",
              "      background-color: #E2EBFA;\n",
              "      box-shadow: 0px 1px 2px rgba(60, 64, 67, 0.3), 0px 1px 3px 1px rgba(60, 64, 67, 0.15);\n",
              "      fill: #174EA6;\n",
              "    }\n",
              "\n",
              "    [theme=dark] .colab-df-convert {\n",
              "      background-color: #3B4455;\n",
              "      fill: #D2E3FC;\n",
              "    }\n",
              "\n",
              "    [theme=dark] .colab-df-convert:hover {\n",
              "      background-color: #434B5C;\n",
              "      box-shadow: 0px 1px 3px 1px rgba(0, 0, 0, 0.15);\n",
              "      filter: drop-shadow(0px 1px 2px rgba(0, 0, 0, 0.3));\n",
              "      fill: #FFFFFF;\n",
              "    }\n",
              "  </style>\n",
              "\n",
              "      <script>\n",
              "        const buttonEl =\n",
              "          document.querySelector('#df-82299171-2f86-4201-a98d-72fdb022b00e button.colab-df-convert');\n",
              "        buttonEl.style.display =\n",
              "          google.colab.kernel.accessAllowed ? 'block' : 'none';\n",
              "\n",
              "        async function convertToInteractive(key) {\n",
              "          const element = document.querySelector('#df-82299171-2f86-4201-a98d-72fdb022b00e');\n",
              "          const dataTable =\n",
              "            await google.colab.kernel.invokeFunction('convertToInteractive',\n",
              "                                                     [key], {});\n",
              "          if (!dataTable) return;\n",
              "\n",
              "          const docLinkHtml = 'Like what you see? Visit the ' +\n",
              "            '<a target=\"_blank\" href=https://colab.research.google.com/notebooks/data_table.ipynb>data table notebook</a>'\n",
              "            + ' to learn more about interactive tables.';\n",
              "          element.innerHTML = '';\n",
              "          dataTable['output_type'] = 'display_data';\n",
              "          await google.colab.output.renderOutput(dataTable, element);\n",
              "          const docLink = document.createElement('div');\n",
              "          docLink.innerHTML = docLinkHtml;\n",
              "          element.appendChild(docLink);\n",
              "        }\n",
              "      </script>\n",
              "    </div>\n",
              "  </div>\n",
              "  "
            ]
          },
          "metadata": {},
          "execution_count": 35
        }
      ]
    },
    {
      "cell_type": "markdown",
      "source": [
        "## VIKOR"
      ],
      "metadata": {
        "id": "9oOs8JsNUDuJ"
      }
    },
    {
      "cell_type": "code",
      "source": [
        "Seleccion.mVIKOR(pesosEntropia)"
      ],
      "metadata": {
        "colab": {
          "base_uri": "https://localhost:8080/"
        },
        "id": "RrNzz1pXY4Cb",
        "outputId": "ab290c4b-fd35-4ea1-a328-9b27ad79d618"
      },
      "execution_count": null,
      "outputs": [
        {
          "output_type": "execute_result",
          "data": {
            "text/plain": [
              "               Q_i  Clasificación\n",
              "Madera    1.000000            3.0\n",
              "Plástico  0.936296            2.0\n",
              "Metal     0.000000            1.0"
            ],
            "text/html": [
              "\n",
              "  <div id=\"df-519cd6f6-3a75-445e-9282-1b17e58279e7\">\n",
              "    <div class=\"colab-df-container\">\n",
              "      <div>\n",
              "<style scoped>\n",
              "    .dataframe tbody tr th:only-of-type {\n",
              "        vertical-align: middle;\n",
              "    }\n",
              "\n",
              "    .dataframe tbody tr th {\n",
              "        vertical-align: top;\n",
              "    }\n",
              "\n",
              "    .dataframe thead th {\n",
              "        text-align: right;\n",
              "    }\n",
              "</style>\n",
              "<table border=\"1\" class=\"dataframe\">\n",
              "  <thead>\n",
              "    <tr style=\"text-align: right;\">\n",
              "      <th></th>\n",
              "      <th>Q_i</th>\n",
              "      <th>Clasificación</th>\n",
              "    </tr>\n",
              "  </thead>\n",
              "  <tbody>\n",
              "    <tr>\n",
              "      <th>Madera</th>\n",
              "      <td>1.000000</td>\n",
              "      <td>3.0</td>\n",
              "    </tr>\n",
              "    <tr>\n",
              "      <th>Plástico</th>\n",
              "      <td>0.936296</td>\n",
              "      <td>2.0</td>\n",
              "    </tr>\n",
              "    <tr>\n",
              "      <th>Metal</th>\n",
              "      <td>0.000000</td>\n",
              "      <td>1.0</td>\n",
              "    </tr>\n",
              "  </tbody>\n",
              "</table>\n",
              "</div>\n",
              "      <button class=\"colab-df-convert\" onclick=\"convertToInteractive('df-519cd6f6-3a75-445e-9282-1b17e58279e7')\"\n",
              "              title=\"Convert this dataframe to an interactive table.\"\n",
              "              style=\"display:none;\">\n",
              "        \n",
              "  <svg xmlns=\"http://www.w3.org/2000/svg\" height=\"24px\"viewBox=\"0 0 24 24\"\n",
              "       width=\"24px\">\n",
              "    <path d=\"M0 0h24v24H0V0z\" fill=\"none\"/>\n",
              "    <path d=\"M18.56 5.44l.94 2.06.94-2.06 2.06-.94-2.06-.94-.94-2.06-.94 2.06-2.06.94zm-11 1L8.5 8.5l.94-2.06 2.06-.94-2.06-.94L8.5 2.5l-.94 2.06-2.06.94zm10 10l.94 2.06.94-2.06 2.06-.94-2.06-.94-.94-2.06-.94 2.06-2.06.94z\"/><path d=\"M17.41 7.96l-1.37-1.37c-.4-.4-.92-.59-1.43-.59-.52 0-1.04.2-1.43.59L10.3 9.45l-7.72 7.72c-.78.78-.78 2.05 0 2.83L4 21.41c.39.39.9.59 1.41.59.51 0 1.02-.2 1.41-.59l7.78-7.78 2.81-2.81c.8-.78.8-2.07 0-2.86zM5.41 20L4 18.59l7.72-7.72 1.47 1.35L5.41 20z\"/>\n",
              "  </svg>\n",
              "      </button>\n",
              "      \n",
              "  <style>\n",
              "    .colab-df-container {\n",
              "      display:flex;\n",
              "      flex-wrap:wrap;\n",
              "      gap: 12px;\n",
              "    }\n",
              "\n",
              "    .colab-df-convert {\n",
              "      background-color: #E8F0FE;\n",
              "      border: none;\n",
              "      border-radius: 50%;\n",
              "      cursor: pointer;\n",
              "      display: none;\n",
              "      fill: #1967D2;\n",
              "      height: 32px;\n",
              "      padding: 0 0 0 0;\n",
              "      width: 32px;\n",
              "    }\n",
              "\n",
              "    .colab-df-convert:hover {\n",
              "      background-color: #E2EBFA;\n",
              "      box-shadow: 0px 1px 2px rgba(60, 64, 67, 0.3), 0px 1px 3px 1px rgba(60, 64, 67, 0.15);\n",
              "      fill: #174EA6;\n",
              "    }\n",
              "\n",
              "    [theme=dark] .colab-df-convert {\n",
              "      background-color: #3B4455;\n",
              "      fill: #D2E3FC;\n",
              "    }\n",
              "\n",
              "    [theme=dark] .colab-df-convert:hover {\n",
              "      background-color: #434B5C;\n",
              "      box-shadow: 0px 1px 3px 1px rgba(0, 0, 0, 0.15);\n",
              "      filter: drop-shadow(0px 1px 2px rgba(0, 0, 0, 0.3));\n",
              "      fill: #FFFFFF;\n",
              "    }\n",
              "  </style>\n",
              "\n",
              "      <script>\n",
              "        const buttonEl =\n",
              "          document.querySelector('#df-519cd6f6-3a75-445e-9282-1b17e58279e7 button.colab-df-convert');\n",
              "        buttonEl.style.display =\n",
              "          google.colab.kernel.accessAllowed ? 'block' : 'none';\n",
              "\n",
              "        async function convertToInteractive(key) {\n",
              "          const element = document.querySelector('#df-519cd6f6-3a75-445e-9282-1b17e58279e7');\n",
              "          const dataTable =\n",
              "            await google.colab.kernel.invokeFunction('convertToInteractive',\n",
              "                                                     [key], {});\n",
              "          if (!dataTable) return;\n",
              "\n",
              "          const docLinkHtml = 'Like what you see? Visit the ' +\n",
              "            '<a target=\"_blank\" href=https://colab.research.google.com/notebooks/data_table.ipynb>data table notebook</a>'\n",
              "            + ' to learn more about interactive tables.';\n",
              "          element.innerHTML = '';\n",
              "          dataTable['output_type'] = 'display_data';\n",
              "          await google.colab.output.renderOutput(dataTable, element);\n",
              "          const docLink = document.createElement('div');\n",
              "          docLink.innerHTML = docLinkHtml;\n",
              "          element.appendChild(docLink);\n",
              "        }\n",
              "      </script>\n",
              "    </div>\n",
              "  </div>\n",
              "  "
            ]
          },
          "metadata": {},
          "execution_count": 36
        }
      ]
    }
  ]
}