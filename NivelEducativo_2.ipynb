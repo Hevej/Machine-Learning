{
  "nbformat": 4,
  "nbformat_minor": 0,
  "metadata": {
    "colab": {
      "name": "NivelEducativo_2.ipynb",
      "provenance": [],
      "collapsed_sections": [],
      "machine_shape": "hm",
      "include_colab_link": true
    },
    "kernelspec": {
      "name": "python3",
      "display_name": "Python 3"
    },
    "language_info": {
      "name": "python"
    }
  },
  "cells": [
    {
      "cell_type": "markdown",
      "metadata": {
        "id": "view-in-github",
        "colab_type": "text"
      },
      "source": [
        "<a href=\"https://colab.research.google.com/github/Hevej/Machine-Learning/blob/main/NivelEducativo_2.ipynb\" target=\"_parent\"><img src=\"https://colab.research.google.com/assets/colab-badge.svg\" alt=\"Open In Colab\"/></a>"
      ]
    },
    {
      "cell_type": "markdown",
      "source": [
        "#Conexión con Drive y Librerias"
      ],
      "metadata": {
        "id": "mdSTtvzwDJbC"
      }
    },
    {
      "cell_type": "code",
      "execution_count": null,
      "metadata": {
        "colab": {
          "base_uri": "https://localhost:8080/"
        },
        "id": "_6Zeh6hTDG5h",
        "outputId": "cc29a9cd-b8a8-4a91-b158-487c421f394d"
      },
      "outputs": [
        {
          "output_type": "stream",
          "name": "stdout",
          "text": [
            "Drive already mounted at /content/drive; to attempt to forcibly remount, call drive.mount(\"/content/drive\", force_remount=True).\n"
          ]
        }
      ],
      "source": [
        "from google.colab import drive\n",
        "drive.mount('/content/drive')"
      ]
    },
    {
      "cell_type": "code",
      "source": [
        "import pandas as pd\n",
        "import seaborn as sns\n",
        "import pkg_resources\n",
        "import matplotlib\n",
        "import matplotlib.pyplot as plt"
      ],
      "metadata": {
        "id": "HEg2UnndDXBA"
      },
      "execution_count": null,
      "outputs": []
    },
    {
      "cell_type": "code",
      "source": [
        "print(matplotlib.__version__)"
      ],
      "metadata": {
        "colab": {
          "base_uri": "https://localhost:8080/"
        },
        "id": "gB9ngmKmsNF0",
        "outputId": "e074b8f0-2f96-4af7-ed82-e41abed394eb"
      },
      "execution_count": null,
      "outputs": [
        {
          "output_type": "stream",
          "name": "stdout",
          "text": [
            "3.2.2\n"
          ]
        }
      ]
    },
    {
      "cell_type": "code",
      "source": [
        "!python --version"
      ],
      "metadata": {
        "colab": {
          "base_uri": "https://localhost:8080/"
        },
        "id": "aeulcRc9shXV",
        "outputId": "fe63eb17-b064-4851-f1c5-dc7ce0e4c8f4"
      },
      "execution_count": null,
      "outputs": [
        {
          "output_type": "stream",
          "name": "stdout",
          "text": [
            "Python 3.7.13\n"
          ]
        }
      ]
    },
    {
      "cell_type": "markdown",
      "source": [
        "#Importar el DataFrame"
      ],
      "metadata": {
        "id": "wgSGqzcNDZsf"
      }
    },
    {
      "cell_type": "code",
      "source": [
        "data = pd.read_pickle(\"/content/drive/MyDrive/SisbenColombia/Sisben.pkl\")  "
      ],
      "metadata": {
        "id": "jOAOf_EJDZZv"
      },
      "execution_count": null,
      "outputs": []
    },
    {
      "cell_type": "code",
      "source": [
        "data.info()"
      ],
      "metadata": {
        "colab": {
          "base_uri": "https://localhost:8080/"
        },
        "id": "CrilIXXGDx3X",
        "outputId": "e41bc5f9-6ada-4e07-a839-e39f7196a0b5"
      },
      "execution_count": null,
      "outputs": [
        {
          "output_type": "stream",
          "name": "stdout",
          "text": [
            "<class 'pandas.core.frame.DataFrame'>\n",
            "Int64Index: 3706298 entries, 0 to 3706297\n",
            "Data columns (total 73 columns):\n",
            " #   Column    Dtype \n",
            "---  ------    ----- \n",
            " 0   cod_mpio  int64 \n",
            " 1   ZONA      int64 \n",
            " 2   HOG001    int64 \n",
            " 3   HOG002    int64 \n",
            " 4   HOG003    int64 \n",
            " 5   HOG004    int64 \n",
            " 6   HOG005    int64 \n",
            " 7   HOG006    int64 \n",
            " 8   HOG007    int64 \n",
            " 9   HOG008    int64 \n",
            " 10  HOG009    int64 \n",
            " 11  HOG010    int64 \n",
            " 12  HOG011    int64 \n",
            " 13  HOG012    int64 \n",
            " 14  HOG013    int64 \n",
            " 15  HOG014    int64 \n",
            " 16  HOG015    int64 \n",
            " 17  HOG016    int64 \n",
            " 18  HOG017    int64 \n",
            " 19  HOG018    int64 \n",
            " 20  HOG019    int64 \n",
            " 21  HOG020    int64 \n",
            " 22  HOG021    int64 \n",
            " 23  HOG022    int64 \n",
            " 24  HOG023    int64 \n",
            " 25  HOG024    int64 \n",
            " 26  HOG025    int64 \n",
            " 27  HOG026    int64 \n",
            " 28  HOG027    int64 \n",
            " 29  H_5       int64 \n",
            " 30  I1        int64 \n",
            " 31  I2        int64 \n",
            " 32  I3        int64 \n",
            " 33  I4        int64 \n",
            " 34  I5        int64 \n",
            " 35  I6        int64 \n",
            " 36  I7        int64 \n",
            " 37  I8        int64 \n",
            " 38  I9        int64 \n",
            " 39  I10       int64 \n",
            " 40  I11       int64 \n",
            " 41  I12       int64 \n",
            " 42  I13       int64 \n",
            " 43  I14       int64 \n",
            " 44  I15       int64 \n",
            " 45  Grupo     object\n",
            " 46  PER001    int64 \n",
            " 47  PER002    int64 \n",
            " 48  PER003    int64 \n",
            " 49  PER004    int64 \n",
            " 50  PER005    int64 \n",
            " 51  PER006    int64 \n",
            " 52  PER007    int64 \n",
            " 53  PER011    int64 \n",
            " 54  PER012    int64 \n",
            " 55  PER013    int64 \n",
            " 56  PER014    int64 \n",
            " 57  PER015    int64 \n",
            " 58  PER016    int64 \n",
            " 59  PER017    int64 \n",
            " 60  PER018    int64 \n",
            " 61  PER019    int64 \n",
            " 62  PER020    int64 \n",
            " 63  VIV001    int64 \n",
            " 64  VIV002    int64 \n",
            " 65  VIV003    int64 \n",
            " 66  VIV004    int64 \n",
            " 67  VIV005    int64 \n",
            " 68  VIV006    int64 \n",
            " 69  VIV007    int64 \n",
            " 70  VIV008    int64 \n",
            " 71  VIV009    int64 \n",
            " 72  VIV010    int64 \n",
            "dtypes: int64(72), object(1)\n",
            "memory usage: 2.0+ GB\n"
          ]
        }
      ]
    },
    {
      "cell_type": "markdown",
      "source": [
        "# Coorrelación"
      ],
      "metadata": {
        "id": "Uvk5UscJJSV3"
      }
    },
    {
      "cell_type": "code",
      "source": [
        "numericas = ['VIV009', 'VIV010', 'HOG002', 'HOG003','HOG009', 'HOG011', 'HOG027', 'H_5']\n",
        "nominales = ['I1','I2', 'I3', 'I4', 'I5', 'I6','I7', 'I8',\n",
        "                        'I9', 'I10', 'I11', 'I12', 'I13', 'I14', 'I15',\n",
        "                        'cod_mpio', 'ZONA','VIV001','VIV002', 'VIV003', 'VIV004', 'VIV005',\n",
        "                        'VIV006','VIV007', 'VIV008', 'HOG001', 'HOG004',\n",
        "                        'HOG005','HOG006', 'HOG007', 'HOG008', 'HOG010', 'HOG012',\n",
        "                        'HOG013', 'HOG014', 'HOG015', 'HOG016', 'HOG017', 'HOG018',\n",
        "                        'HOG019', 'HOG020', 'HOG021', 'HOG022', 'HOG023', 'HOG024',\n",
        "                        'HOG025', 'HOG026', 'PER001', 'PER002', 'PER003', 'PER004', 'PER005',\n",
        "                        'PER006', 'PER007', 'PER011', 'PER012',\n",
        "                        'PER013', 'PER014', 'PER015', 'PER016', 'PER017', 'PER018', 'PER019',\n",
        "                        'PER020']"
      ],
      "metadata": {
        "id": "1O_vQjKqh7qZ"
      },
      "execution_count": null,
      "outputs": []
    },
    {
      "cell_type": "code",
      "source": [
        "#La correlación de Spearman se hace cuando las variables son al menos, ordinales.\n",
        "fig, ax = plt.subplots(figsize=(10,10))\n",
        "sns.heatmap(data[numericas].corr(method = 'spearman'), vmax=1.0, center=0,\n",
        "            fmt='.2f', square=True, linewidths=.5, annot=True, cmap='crest')"
      ],
      "metadata": {
        "colab": {
          "base_uri": "https://localhost:8080/",
          "height": 595
        },
        "id": "NYCvgJGzf17p",
        "outputId": "7878f26b-9dc8-4621-86eb-3956dd5ef8cc"
      },
      "execution_count": null,
      "outputs": [
        {
          "output_type": "execute_result",
          "data": {
            "text/plain": [
              "<matplotlib.axes._subplots.AxesSubplot at 0x7f274599bc50>"
            ]
          },
          "metadata": {},
          "execution_count": 11
        },
        {
          "output_type": "display_data",
          "data": {
            "text/plain": [
              "<Figure size 720x720 with 2 Axes>"
            ],
            "image/png": "[encoded data removed]"
          },
          "metadata": {
            "needs_background": "light"
          }
        }
      ]
    },
    {
      "cell_type": "markdown",
      "source": [
        "Se considera una alta correlación por encima de 0.5 o por debajo de -0.5, en este caso tenemos que:\n",
        "   * corr(VIV009:HOG002) = 0.57\n",
        "    * Numero de cuartos vs cuartos exclusivos\n",
        "   * corr(HOG009:HOG011) = 0.69\n",
        "    * Dias en los que llega el agua vs cuantas horas llega el agua.\n",
        "\n",
        "* corr(HOG002:HOG003) = 0.83\n",
        "    * Cuartos exclusivos vs cuartos para dormir\n",
        "\n",
        "Con estas medidas, decido borrar HOG002 y HOG011, un threshold de 0.7"
      ],
      "metadata": {
        "id": "wqIuDLoiqXgy"
      }
    },
    {
      "cell_type": "code",
      "source": [
        "data.drop(['HOG002', 'HOG011'], axis=1, inplace=True)"
      ],
      "metadata": {
        "id": "tfTkqlwfKJFe"
      },
      "execution_count": null,
      "outputs": []
    },
    {
      "cell_type": "markdown",
      "source": [
        "Ahora se pasan las variables nominales a dummy mediante un one-hot encoding para poder realizar la comparación de correlación entre todas las variables del dataset.\n",
        "\n",
        "La otra alternativas era Cramer's V, solo para las variables categoricas."
      ],
      "metadata": {
        "id": "7UB7779KKcfW"
      }
    },
    {
      "cell_type": "code",
      "source": [
        "encoding_data = pd.get_dummies(data, columns=nominales, drop_first=True)"
      ],
      "metadata": {
        "id": "9aT3kBeTLQDV"
      },
      "execution_count": null,
      "outputs": []
    },
    {
      "cell_type": "code",
      "source": [
        "encoding_data.info()"
      ],
      "metadata": {
        "colab": {
          "base_uri": "https://localhost:8080/"
        },
        "id": "rC0LtmAFMt93",
        "outputId": "8dc7ffa0-6b1a-4ec6-f42d-85b71cb7961c"
      },
      "execution_count": null,
      "outputs": [
        {
          "output_type": "stream",
          "name": "stdout",
          "text": [
            "<class 'pandas.core.frame.DataFrame'>\n",
            "Int64Index: 3706298 entries, 0 to 3706297\n",
            "Columns: 1273 entries, HOG003 to PER020_99\n",
            "dtypes: int64(6), object(1), uint8(1266)\n",
            "memory usage: 4.6+ GB\n"
          ]
        }
      ]
    },
    {
      "cell_type": "markdown",
      "source": [
        "Como vemos, es muy dificil obtener un analisis por medio de Pearson, Spearman o Kendall, debido a que obtenemos 1273 columnas,al intentarlo, Colab no arroja un mensaje de uso maximo de RAM (50Gb en sesion de High-RAM). Por esta razón, se descarta la idea de hacer analisis de correlación de esta manera."
      ],
      "metadata": {
        "id": "s7R9vgRDOolW"
      }
    },
    {
      "cell_type": "code",
      "source": [
        "import scipy.stats as ss\n",
        "import numpy as np"
      ],
      "metadata": {
        "id": "GVy47xcuQHgm"
      },
      "execution_count": null,
      "outputs": []
    },
    {
      "cell_type": "markdown",
      "source": [
        "Se define una función para calcular el coeficiente Cramer's V"
      ],
      "metadata": {
        "id": "82EH4Z-jRNFu"
      }
    },
    {
      "cell_type": "code",
      "source": [
        "def cramers_corrected_stat(confusion_matrix):\n",
        "    \"\"\" calculate Cramers V statistic for categorical-categorical association.\n",
        "        uses correction from Bergsma and Wicher, \n",
        "        Journal of the Korean Statistical Society 42 (2013): 323-328\n",
        "    \"\"\"\n",
        "    chi2 = ss.chi2_contingency(confusion_matrix)[0]\n",
        "    n = confusion_matrix.sum().sum()\n",
        "    phi2 = chi2/n\n",
        "    r,k = confusion_matrix.shape\n",
        "    phi2corr = max(0, phi2 - ((k-1)*(r-1))/(n-1))    \n",
        "    rcorr = r - ((r-1)**2)/(n-1)\n",
        "    kcorr = k - ((k-1)**2)/(n-1)\n",
        "    return np.sqrt(phi2corr / min( (kcorr-1), (rcorr-1)))"
      ],
      "metadata": {
        "id": "aOqGHWGIPOvc"
      },
      "execution_count": null,
      "outputs": []
    },
    {
      "cell_type": "markdown",
      "source": [
        "Se calculan los coeficientes para todas las variables nominales (categoricas)"
      ],
      "metadata": {
        "id": "w0f9bTuKRZE3"
      }
    },
    {
      "cell_type": "code",
      "source": [
        "from itertools import product"
      ],
      "metadata": {
        "id": "n-biT8bjRuBp"
      },
      "execution_count": null,
      "outputs": []
    },
    {
      "cell_type": "code",
      "source": [
        "iter_list_columns_data = list(product(nominales, nominales))"
      ],
      "metadata": {
        "id": "8XhLjGrXRf6m"
      },
      "execution_count": null,
      "outputs": []
    },
    {
      "cell_type": "code",
      "source": [
        "cr_v_c = dict()\n",
        "for item in iter_list_columns_data:\n",
        "  if item[0] != item[1]:\n",
        "    cramers_v_coeff = cramers_corrected_stat(pd.crosstab(data[item[0]], data[item[1]]))\n",
        "    if cramers_v_coeff > 0.5:\n",
        "      cr_v_c[f'{item[0]}-{item[1]}'] = cramers_v_coeff"
      ],
      "metadata": {
        "id": "tgLXn6W3SBX3"
      },
      "execution_count": null,
      "outputs": []
    },
    {
      "cell_type": "code",
      "source": [
        "len(cr_v_c.copy())"
      ],
      "metadata": {
        "colab": {
          "base_uri": "https://localhost:8080/"
        },
        "id": "69DnYjtceg1A",
        "outputId": "bdf13bfb-dcf0-4fa4-cb4e-bbbdaa54be3c"
      },
      "execution_count": null,
      "outputs": [
        {
          "output_type": "execute_result",
          "data": {
            "text/plain": [
              "184"
            ]
          },
          "metadata": {},
          "execution_count": 30
        }
      ]
    },
    {
      "cell_type": "code",
      "source": [
        "cr_v_c_new = dict()\n",
        "for key in cr_v_c:\n",
        "  first_prop, second_prop = key.split('-')\n",
        "  if not(f'{first_prop}-{second_prop}' in cr_v_c_new) and not(f'{second_prop}-{first_prop}' in cr_v_c_new):\n",
        "    cr_v_c_new[key] = cr_v_c[key]"
      ],
      "metadata": {
        "id": "DJBXpe3cfToC"
      },
      "execution_count": null,
      "outputs": []
    },
    {
      "cell_type": "code",
      "source": [
        "lista = list(cr_v_c_new.items())"
      ],
      "metadata": {
        "id": "GKHxipAFgzFI"
      },
      "execution_count": null,
      "outputs": []
    },
    {
      "cell_type": "code",
      "source": [
        "sorted_by_second = sorted(lista, key=lambda tup: tup[1])"
      ],
      "metadata": {
        "id": "EbLdII7WiQtT"
      },
      "execution_count": null,
      "outputs": []
    },
    {
      "cell_type": "code",
      "source": [
        "for item in sorted_by_second:\n",
        "  if item[1] >= 0.7:\n",
        "    print(item)"
      ],
      "metadata": {
        "colab": {
          "base_uri": "https://localhost:8080/"
        },
        "id": "ttRv7xGgiQsC",
        "outputId": "16b43da5-4650-4a41-e7e0-63ac4916b044"
      },
      "execution_count": null,
      "outputs": [
        {
          "output_type": "stream",
          "name": "stdout",
          "text": [
            "('HOG007-HOG008', 0.7071054456878507)\n",
            "('HOG007-HOG010', 0.7071054456878508)\n",
            "('PER013-PER015', 0.7071054456878508)\n",
            "('PER013-PER016', 0.7071054456878508)\n",
            "('PER014-PER017', 0.7071063996157487)\n",
            "('PER014-PER015', 0.7071065904011739)\n",
            "('PER014-PER016', 0.7071065904011739)\n",
            "('PER016-PER017', 0.7080950041787372)\n",
            "('PER015-PER016', 0.7092008389075575)\n",
            "('PER013-PER014', 0.7092612148548202)\n",
            "('PER006-PER019', 0.7173532157922614)\n",
            "('HOG005-HOG006', 0.72427898787252)\n",
            "('I14-VIV002', 0.7360996974586578)\n",
            "('HOG004-HOG005', 0.7455495681030394)\n",
            "('PER003-PER004', 0.7476782138089241)\n",
            "('PER002-PER006', 0.7480657012393231)\n",
            "('PER001-PER011', 0.7523162590141843)\n",
            "('I12-HOG004', 0.8259342297706601)\n",
            "('I5-I9', 0.828378366690938)\n",
            "('PER016-PER019', 0.828545718960249)\n",
            "('HOG008-HOG010', 0.8318055249682179)\n",
            "('I11-HOG008', 0.8471251720058687)\n",
            "('I11-HOG010', 0.8471251720058687)\n",
            "('PER002-PER016', 0.8558364784300457)\n",
            "('PER001-PER012', 0.856812454382769)\n",
            "('I11-VIV008', 0.8662503967702986)\n",
            "('VIV001-HOG014', 0.8760760274624783)\n",
            "('VIV008-HOG008', 0.8987920594520343)\n",
            "('VIV008-HOG010', 0.8987920594548003)\n",
            "('VIV008-HOG007', 0.9073823986994736)\n",
            "('PER015-PER017', 0.9087903925919769)\n",
            "('PER003-PER006', 0.9244166996906155)\n",
            "('I11-HOG007', 0.9267779941688382)\n",
            "('VIV006-HOG017', 0.9278140687900814)\n",
            "('VIV005-HOG004', 0.960662904924476)\n",
            "('VIV007-HOG013', 0.9630533293262262)\n",
            "('PER004-PER005', 0.9890655793498846)\n",
            "('I13-VIV003', 0.9999994603775468)\n"
          ]
        }
      ]
    },
    {
      "cell_type": "markdown",
      "source": [
        "Según la anterior lista, las correlaciones que superen un coeficiente de 0.7 son las que decidiran cuales estan altamente relacionadas.\n",
        "\n",
        "Se eliminaran:\n",
        "  * HOG008\n",
        "  * HOG015\n",
        "  * PER014\n",
        "  * PER015\n",
        "  * PER016\n",
        "  * PER019\n",
        "  * HOG006\n",
        "  * I14\n",
        "  * I5\n",
        "  * I12\n",
        "  * I11\n",
        "  * I13\n",
        "  * HOG005\n",
        "  * PER004\n",
        "  * PER006\n",
        "  * PER011\n",
        "  * PER012\n",
        "  * HOG014\n",
        "  * HOG010\n",
        "  * VIV008\n",
        "  * HOG017\n",
        "  * HOG004\n",
        "  * HOG013\n",
        "  * PER005"
      ],
      "metadata": {
        "id": "_hqTzMa9kLaB"
      }
    },
    {
      "cell_type": "code",
      "source": [
        "corr_delete_col = ['HOG008', 'HOG015', 'PER014', 'PER015', 'PER016','PER019', 'Grupo'\n",
        "                   'HOG006', 'I14', 'I5', 'I12', 'I11', 'I13', 'HOG005', 'PER004', 'PER006',\n",
        "                   'PER011', 'PER012', 'HOG014', 'HOG010', 'VIV008', 'HOG017', 'HOG004', 'HOG013', 'PER005']"
      ],
      "metadata": {
        "id": "IFV0OVzkmz_Z"
      },
      "execution_count": null,
      "outputs": []
    },
    {
      "cell_type": "code",
      "source": [
        "data.drop(corr_delete_col, axis=1, inplace=True)"
      ],
      "metadata": {
        "id": "imyFjciFp0Eh"
      },
      "execution_count": null,
      "outputs": []
    },
    {
      "cell_type": "code",
      "source": [
        "data.info()"
      ],
      "metadata": {
        "colab": {
          "base_uri": "https://localhost:8080/"
        },
        "id": "MrRTVkeUp3Do",
        "outputId": "05aa751b-a124-42c3-ced4-533ddf0aa914"
      },
      "execution_count": null,
      "outputs": [
        {
          "output_type": "stream",
          "name": "stdout",
          "text": [
            "<class 'pandas.core.frame.DataFrame'>\n",
            "Int64Index: 3706298 entries, 0 to 3706297\n",
            "Data columns (total 47 columns):\n",
            " #   Column    Dtype \n",
            "---  ------    ----- \n",
            " 0   cod_mpio  int64 \n",
            " 1   ZONA      int64 \n",
            " 2   HOG001    int64 \n",
            " 3   HOG003    int64 \n",
            " 4   HOG007    int64 \n",
            " 5   HOG009    int64 \n",
            " 6   HOG012    int64 \n",
            " 7   HOG016    int64 \n",
            " 8   HOG018    int64 \n",
            " 9   HOG019    int64 \n",
            " 10  HOG020    int64 \n",
            " 11  HOG021    int64 \n",
            " 12  HOG022    int64 \n",
            " 13  HOG023    int64 \n",
            " 14  HOG024    int64 \n",
            " 15  HOG025    int64 \n",
            " 16  HOG026    int64 \n",
            " 17  HOG027    int64 \n",
            " 18  H_5       int64 \n",
            " 19  I1        int64 \n",
            " 20  I2        int64 \n",
            " 21  I3        int64 \n",
            " 22  I4        int64 \n",
            " 23  I6        int64 \n",
            " 24  I7        int64 \n",
            " 25  I8        int64 \n",
            " 26  I9        int64 \n",
            " 27  I10       int64 \n",
            " 28  I15       int64 \n",
            " 29  Grupo     object\n",
            " 30  PER001    int64 \n",
            " 31  PER002    int64 \n",
            " 32  PER003    int64 \n",
            " 33  PER007    int64 \n",
            " 34  PER013    int64 \n",
            " 35  PER017    int64 \n",
            " 36  PER018    int64 \n",
            " 37  PER020    int64 \n",
            " 38  VIV001    int64 \n",
            " 39  VIV002    int64 \n",
            " 40  VIV003    int64 \n",
            " 41  VIV004    int64 \n",
            " 42  VIV005    int64 \n",
            " 43  VIV006    int64 \n",
            " 44  VIV007    int64 \n",
            " 45  VIV009    int64 \n",
            " 46  VIV010    int64 \n",
            "dtypes: int64(46), object(1)\n",
            "memory usage: 1.3+ GB\n"
          ]
        }
      ]
    },
    {
      "cell_type": "code",
      "source": [
        "data.to_pickle(\"/content/drive/MyDrive/SisbenColombia/Sisben_correlacion.pkl\") "
      ],
      "metadata": {
        "id": "J4ttfn6MoOcK"
      },
      "execution_count": null,
      "outputs": []
    },
    {
      "cell_type": "markdown",
      "source": [
        "# Sets de Entrenamiento"
      ],
      "metadata": {
        "id": "STq1UN5JpM-9"
      }
    },
    {
      "cell_type": "code",
      "source": [
        "data = pd.read_pickle(\"/content/drive/MyDrive/SisbenColombia/Sisben_correlacion.pkl\")  "
      ],
      "metadata": {
        "id": "vXsfgZrC3CkU"
      },
      "execution_count": null,
      "outputs": []
    },
    {
      "cell_type": "code",
      "source": [
        "from sklearn.model_selection import train_test_split\n",
        "\n",
        "data.drop('Grupo', axis=1, inplace = True)\n",
        "X = data.loc[:, data.columns != 'PER017']\n",
        "y = data['PER017']\n",
        "\n",
        "train_x, test_x, train_y, test_y = train_test_split(X, y, test_size=0.2)"
      ],
      "metadata": {
        "id": "pTQXwpHnpLvD"
      },
      "execution_count": null,
      "outputs": []
    },
    {
      "cell_type": "code",
      "source": [
        "from sklearn.ensemble import RandomForestClassifier\n",
        "clf = RandomForestClassifier(n_estimators=20, random_state=0)"
      ],
      "metadata": {
        "id": "w_1Rn06hrNfy"
      },
      "execution_count": null,
      "outputs": []
    },
    {
      "cell_type": "code",
      "source": [
        "model = clf.fit(train_x, train_y)"
      ],
      "metadata": {
        "id": "u7Mne9nxtXOJ"
      },
      "execution_count": null,
      "outputs": []
    },
    {
      "cell_type": "code",
      "source": [
        "model"
      ],
      "metadata": {
        "colab": {
          "base_uri": "https://localhost:8080/"
        },
        "id": "wGIm4XUJ7klb",
        "outputId": "abc22f26-3bc6-406a-c448-c6542ddb6688"
      },
      "execution_count": null,
      "outputs": [
        {
          "output_type": "execute_result",
          "data": {
            "text/plain": [
              "RandomForestClassifier(n_estimators=20, random_state=0)"
            ]
          },
          "metadata": {},
          "execution_count": 7
        }
      ]
    },
    {
      "cell_type": "code",
      "source": [
        "y_pred = clf.predict(test_x)"
      ],
      "metadata": {
        "id": "W8ru11PZ7sno"
      },
      "execution_count": null,
      "outputs": []
    },
    {
      "cell_type": "code",
      "source": [
        "from sklearn.metrics import classification_report, confusion_matrix, accuracy_score\n",
        "confusion_matrix(test_y, y_pred)"
      ],
      "metadata": {
        "colab": {
          "base_uri": "https://localhost:8080/"
        },
        "id": "EVwsmE3b8ZuL",
        "outputId": "35d9e68a-5b40-44e0-8657-0011a1bfe093"
      },
      "execution_count": null,
      "outputs": [
        {
          "output_type": "execute_result",
          "data": {
            "text/plain": [
              "array([[ 49473,  31485,     46,      0],\n",
              "       [ 20657, 516779,   8184,      0],\n",
              "       [   158,  32451,  15801,      0],\n",
              "       [     0,      0,      0,  66226]])"
            ]
          },
          "metadata": {},
          "execution_count": 13
        }
      ]
    },
    {
      "cell_type": "code",
      "source": [
        "print(classification_report(test_y, y_pred))"
      ],
      "metadata": {
        "colab": {
          "base_uri": "https://localhost:8080/"
        },
        "id": "dxZnuIKw8pSb",
        "outputId": "5cc2d749-876a-47d9-8c90-6eaf5d961cb4"
      },
      "execution_count": null,
      "outputs": [
        {
          "output_type": "stream",
          "name": "stdout",
          "text": [
            "              precision    recall  f1-score   support\n",
            "\n",
            "           1       0.70      0.61      0.65     81004\n",
            "           2       0.89      0.95      0.92    545620\n",
            "           3       0.66      0.33      0.44     48410\n",
            "           9       1.00      1.00      1.00     66226\n",
            "\n",
            "    accuracy                           0.87    741260\n",
            "   macro avg       0.81      0.72      0.75    741260\n",
            "weighted avg       0.86      0.87      0.86    741260\n",
            "\n"
          ]
        }
      ]
    },
    {
      "cell_type": "code",
      "source": [
        "accuracy_score(test_y, y_pred)"
      ],
      "metadata": {
        "colab": {
          "base_uri": "https://localhost:8080/"
        },
        "id": "zkHlzsdv8pRA",
        "outputId": "17c58f00-4391-43d2-aa3a-1a516de1462e"
      },
      "execution_count": null,
      "outputs": [
        {
          "output_type": "execute_result",
          "data": {
            "text/plain": [
              "0.8745635809297683"
            ]
          },
          "metadata": {},
          "execution_count": 16
        }
      ]
    }
  ]
}